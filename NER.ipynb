{
 "cells": [
  {
   "cell_type": "markdown",
   "metadata": {},
   "source": [
    "# All imports"
   ]
  },
  {
   "cell_type": "code",
   "execution_count": 1,
   "metadata": {},
   "outputs": [],
   "source": [
    "import pandas as pd\n",
    "import numpy as np\n",
    "import matplotlib.pyplot as plt\n",
    "import seaborn as sns\n",
    "\n",
    "from sklearn.metrics import classification_report\n",
    "from sklearn_crfsuite.metrics import flat_classification_report\n",
    "from sklearn_crfsuite import CRF\n",
    "from keras.utils import to_categorical\n",
    "from keras.preprocessing.sequence import pad_sequences\n",
    "from sklearn.model_selection import train_test_split\n",
    "from keras.models import Model, Input\n",
    "from keras.layers import LSTM, Embedding, Dense, TimeDistributed, Dropout, Bidirectional"
   ]
  },
  {
   "cell_type": "markdown",
   "metadata": {},
   "source": [
    "# EDA"
   ]
  },
  {
   "cell_type": "code",
   "execution_count": 2,
   "metadata": {},
   "outputs": [],
   "source": [
    "df = pd.read_csv('ner_dataset.csv',encoding='latin1')"
   ]
  },
  {
   "cell_type": "code",
   "execution_count": 3,
   "metadata": {},
   "outputs": [
    {
     "name": "stdout",
     "output_type": "stream",
     "text": [
      "<class 'pandas.core.frame.DataFrame'>\n",
      "RangeIndex: 1048575 entries, 0 to 1048574\n",
      "Data columns (total 4 columns):\n",
      " #   Column      Non-Null Count    Dtype \n",
      "---  ------      --------------    ----- \n",
      " 0   Sentence #  47959 non-null    object\n",
      " 1   Word        1048575 non-null  object\n",
      " 2   POS         1048575 non-null  object\n",
      " 3   Tag         1048575 non-null  object\n",
      "dtypes: object(4)\n",
      "memory usage: 32.0+ MB\n"
     ]
    }
   ],
   "source": [
    "df.info()"
   ]
  },
  {
   "cell_type": "code",
   "execution_count": 4,
   "metadata": {},
   "outputs": [
    {
     "data": {
      "text/html": [
       "<div>\n",
       "<style scoped>\n",
       "    .dataframe tbody tr th:only-of-type {\n",
       "        vertical-align: middle;\n",
       "    }\n",
       "\n",
       "    .dataframe tbody tr th {\n",
       "        vertical-align: top;\n",
       "    }\n",
       "\n",
       "    .dataframe thead th {\n",
       "        text-align: right;\n",
       "    }\n",
       "</style>\n",
       "<table border=\"1\" class=\"dataframe\">\n",
       "  <thead>\n",
       "    <tr style=\"text-align: right;\">\n",
       "      <th></th>\n",
       "      <th>Sentence #</th>\n",
       "      <th>Word</th>\n",
       "      <th>POS</th>\n",
       "      <th>Tag</th>\n",
       "    </tr>\n",
       "  </thead>\n",
       "  <tbody>\n",
       "    <tr>\n",
       "      <th>0</th>\n",
       "      <td>Sentence: 1</td>\n",
       "      <td>Thousands</td>\n",
       "      <td>NNS</td>\n",
       "      <td>O</td>\n",
       "    </tr>\n",
       "    <tr>\n",
       "      <th>1</th>\n",
       "      <td>NaN</td>\n",
       "      <td>of</td>\n",
       "      <td>IN</td>\n",
       "      <td>O</td>\n",
       "    </tr>\n",
       "    <tr>\n",
       "      <th>2</th>\n",
       "      <td>NaN</td>\n",
       "      <td>demonstrators</td>\n",
       "      <td>NNS</td>\n",
       "      <td>O</td>\n",
       "    </tr>\n",
       "    <tr>\n",
       "      <th>3</th>\n",
       "      <td>NaN</td>\n",
       "      <td>have</td>\n",
       "      <td>VBP</td>\n",
       "      <td>O</td>\n",
       "    </tr>\n",
       "    <tr>\n",
       "      <th>4</th>\n",
       "      <td>NaN</td>\n",
       "      <td>marched</td>\n",
       "      <td>VBN</td>\n",
       "      <td>O</td>\n",
       "    </tr>\n",
       "  </tbody>\n",
       "</table>\n",
       "</div>"
      ],
      "text/plain": [
       "    Sentence #           Word  POS Tag\n",
       "0  Sentence: 1      Thousands  NNS   O\n",
       "1          NaN             of   IN   O\n",
       "2          NaN  demonstrators  NNS   O\n",
       "3          NaN           have  VBP   O\n",
       "4          NaN        marched  VBN   O"
      ]
     },
     "execution_count": 4,
     "metadata": {},
     "output_type": "execute_result"
    }
   ],
   "source": [
    "df.head()"
   ]
  },
  {
   "cell_type": "code",
   "execution_count": 5,
   "metadata": {},
   "outputs": [],
   "source": [
    "df['Sentence #'].fillna(method='ffill',inplace=True)"
   ]
  },
  {
   "cell_type": "code",
   "execution_count": 6,
   "metadata": {},
   "outputs": [
    {
     "name": "stdout",
     "output_type": "stream",
     "text": [
      "Number of words: 35178, number of tags: 17\n"
     ]
    }
   ],
   "source": [
    "print('Number of words: {n_word}, number of tags: {n_tags}'.format(n_word=df['Word'].nunique(), n_tags=df['Tag'].nunique()))"
   ]
  },
  {
   "cell_type": "code",
   "execution_count": 7,
   "metadata": {},
   "outputs": [
    {
     "name": "stdout",
     "output_type": "stream",
     "text": [
      "Number of sentences: 47959\n"
     ]
    }
   ],
   "source": [
    "print('Number of sentences: {n_sent}'.format(n_sent=df['Sentence #'].nunique()))"
   ]
  },
  {
   "cell_type": "markdown",
   "metadata": {},
   "source": [
    "Sentences' length distirbution"
   ]
  },
  {
   "cell_type": "code",
   "execution_count": 8,
   "metadata": {},
   "outputs": [
    {
     "data": {
      "text/plain": [
       "<AxesSubplot:xlabel='Word'>"
      ]
     },
     "execution_count": 8,
     "metadata": {},
     "output_type": "execute_result"
    },
    {
     "data": {
      "image/png": "[encoded data removed]",
      "text/plain": [
       "<Figure size 432x288 with 1 Axes>"
      ]
     },
     "metadata": {
      "needs_background": "light"
     },
     "output_type": "display_data"
    }
   ],
   "source": [
    "_tmp=pd.DataFrame(df.groupby('Sentence #')['Word'].count())\n",
    "sns.distplot(a=_tmp['Word'])"
   ]
  },
  {
   "cell_type": "markdown",
   "metadata": {},
   "source": [
    "Tags distribution"
   ]
  },
  {
   "cell_type": "code",
   "execution_count": 9,
   "metadata": {},
   "outputs": [
    {
     "data": {
      "text/plain": [
       "<AxesSubplot:ylabel='Tag'>"
      ]
     },
     "execution_count": 9,
     "metadata": {},
     "output_type": "execute_result"
    },
    {
     "data": {
      "image/png": "[encoded data removed]",
      "text/plain": [
       "<Figure size 1080x576 with 1 Axes>"
      ]
     },
     "metadata": {
      "needs_background": "light"
     },
     "output_type": "display_data"
    }
   ],
   "source": [
    "fig=plt.figure(figsize=(15,8))\n",
    "_tmp = pd.DataFrame(df['Tag'].value_counts())\n",
    "sns.barplot(x=_tmp.index,y=_tmp['Tag'])"
   ]
  },
  {
   "cell_type": "markdown",
   "metadata": {},
   "source": [
    "Train/test split"
   ]
  },
  {
   "cell_type": "code",
   "execution_count": 10,
   "metadata": {},
   "outputs": [],
   "source": [
    "train_df = df[df['Sentence #'].apply(lambda x: int(x.split()[1]) <= 35000)]\n",
    "test_df = df[~df['Sentence #'].apply(lambda x: int(x.split()[1]) <= 35000)]"
   ]
  },
  {
   "cell_type": "code",
   "execution_count": 11,
   "metadata": {},
   "outputs": [
    {
     "data": {
      "text/plain": [
       "((765819, 4), (282756, 4))"
      ]
     },
     "execution_count": 11,
     "metadata": {},
     "output_type": "execute_result"
    }
   ],
   "source": [
    "train_df.shape,test_df.shape"
   ]
  },
  {
   "cell_type": "markdown",
   "metadata": {},
   "source": [
    "# Baseline"
   ]
  },
  {
   "cell_type": "code",
   "execution_count": 12,
   "metadata": {},
   "outputs": [],
   "source": [
    "class BaselineTagger():\n",
    "    \n",
    "    def fit(self, X, y):\n",
    "        '''\n",
    "        Expects a list of words as X and a list of tags as y.\n",
    "        '''\n",
    "        voc = {}\n",
    "        self.tags = []\n",
    "        for x, t in zip(X, y):\n",
    "            if t not in self.tags:\n",
    "                self.tags.append(t)\n",
    "            if x in voc:\n",
    "                if t in voc[x]:\n",
    "                    voc[x][t] += 1\n",
    "                else:\n",
    "                    voc[x][t] = 1\n",
    "            else:\n",
    "                voc[x] = {t: 1}\n",
    "        self.memory = {}\n",
    "        for k, d in voc.items():\n",
    "            self.memory[k] = max(d, key=d.get)\n",
    "    \n",
    "    def predict(self, X, y=None):\n",
    "        '''\n",
    "        Predict the the tag from memory. If word is unknown, predict 'O'.\n",
    "        '''\n",
    "        return [self.memory.get(x, 'O') for x in X]"
   ]
  },
  {
   "cell_type": "code",
   "execution_count": 13,
   "metadata": {},
   "outputs": [],
   "source": [
    "baseline_tagger = BaselineTagger()\n",
    "baseline_tagger.fit(train_df['Word'], train_df['Tag'])\n",
    "predictions = baseline_tagger.predict(test_df['Word'])"
   ]
  },
  {
   "cell_type": "code",
   "execution_count": 14,
   "metadata": {},
   "outputs": [
    {
     "name": "stdout",
     "output_type": "stream",
     "text": [
      "              precision    recall  f1-score   support\n",
      "\n",
      "       B-art       0.14      0.05      0.08        93\n",
      "       B-eve       0.58      0.23      0.33        64\n",
      "       B-geo       0.79      0.85      0.82     10218\n",
      "       B-gpe       0.95      0.95      0.95      4372\n",
      "       B-nat       0.46      0.52      0.49        54\n",
      "       B-org       0.67      0.49      0.57      5496\n",
      "       B-per       0.78      0.65      0.71      4528\n",
      "       B-tim       0.87      0.76      0.81      5504\n",
      "       I-art       0.05      0.02      0.03        55\n",
      "       I-eve       0.50      0.11      0.17        66\n",
      "       I-geo       0.73      0.61      0.67      1964\n",
      "       I-gpe       0.68      0.66      0.67        59\n",
      "       I-nat       0.00      0.00      0.00        12\n",
      "       I-org       0.70      0.54      0.61      4609\n",
      "       I-per       0.74      0.66      0.70      4561\n",
      "       I-tim       0.61      0.13      0.22      1727\n",
      "           O       0.97      0.99      0.98    239374\n",
      "\n",
      "    accuracy                           0.95    282756\n",
      "   macro avg       0.60      0.48      0.52    282756\n",
      "weighted avg       0.94      0.95      0.94    282756\n",
      "\n"
     ]
    }
   ],
   "source": [
    "report = classification_report(y_pred=predictions, y_true=test_df['Tag'])\n",
    "print(report)"
   ]
  },
  {
   "cell_type": "markdown",
   "metadata": {},
   "source": [
    "# CRF"
   ]
  },
  {
   "cell_type": "code",
   "execution_count": 15,
   "metadata": {},
   "outputs": [],
   "source": [
    "def extract_sentences(df):\n",
    "    agg_func = lambda s: [(w, p, t) for w, p, t in zip(s[\"Word\"].values.tolist(),\n",
    "                                                           s[\"POS\"].values.tolist(),\n",
    "                                                           s[\"Tag\"].values.tolist())]\n",
    "    grouped = df.groupby(\"Sentence #\").apply(agg_func)\n",
    "    return [s for s in grouped]"
   ]
  },
  {
   "cell_type": "code",
   "execution_count": 16,
   "metadata": {},
   "outputs": [],
   "source": [
    "train_sentences = extract_sentences(train_df)\n",
    "test_sentences = extract_sentences(test_df)"
   ]
  },
  {
   "cell_type": "markdown",
   "metadata": {},
   "source": [
    "We have to map each word into feature space for CRF. For such purpose we use the infomation about word, its form, POS tag as well as the similar infomation about predecessor and descendant"
   ]
  },
  {
   "cell_type": "code",
   "execution_count": 20,
   "metadata": {},
   "outputs": [],
   "source": [
    "def word2features(sent, i):\n",
    "    word = sent[i][0]\n",
    "    postag = sent[i][1]\n",
    "\n",
    "    features = {\n",
    "        'bias': 1.0,\n",
    "        'word.lower()': word.lower(),\n",
    "        'word[-3:]': word[-3:],\n",
    "        'word[-2:]': word[-2:],\n",
    "        'word.isupper()': word.isupper(),\n",
    "        'word.istitle()': word.istitle(),\n",
    "        'word.isdigit()': word.isdigit(),\n",
    "        'postag': postag,\n",
    "        'postag[:2]': postag[:2],\n",
    "    }\n",
    "    if i > 0:\n",
    "        word1 = sent[i-1][0]\n",
    "        postag1 = sent[i-1][1]\n",
    "        features.update({\n",
    "            '-1:word.lower()': word1.lower(),\n",
    "            '-1:word.istitle()': word1.istitle(),\n",
    "            '-1:word.isupper()': word1.isupper(),\n",
    "            '-1:postag': postag1,\n",
    "            '-1:postag[:2]': postag1[:2],\n",
    "        })\n",
    "    else:\n",
    "        features['BOS'] = True\n",
    "\n",
    "    if i < len(sent)-1:\n",
    "        word1 = sent[i+1][0]\n",
    "        postag1 = sent[i+1][1]\n",
    "        features.update({\n",
    "            '+1:word.lower()': word1.lower(),\n",
    "            '+1:word.istitle()': word1.istitle(),\n",
    "            '+1:word.isupper()': word1.isupper(),\n",
    "            '+1:postag': postag1,\n",
    "            '+1:postag[:2]': postag1[:2],\n",
    "        })\n",
    "    else:\n",
    "        features['EOS'] = True\n",
    "\n",
    "    return features\n",
    "\n",
    "\n",
    "def sent2features(sent):\n",
    "    return [word2features(sent, i) for i in range(len(sent))]\n",
    "\n",
    "def sent2labels(sent):\n",
    "    return [label for token, postag, label in sent]\n",
    "\n",
    "def sent2tokens(sent):\n",
    "    return [token for token, postag, label in sent]"
   ]
  },
  {
   "cell_type": "code",
   "execution_count": 26,
   "metadata": {},
   "outputs": [],
   "source": [
    "X_train = [sent2features(s) for s in train_sentences]\n",
    "y_train = [sent2labels(s) for s in train_sentences]\n",
    "X_test = [sent2features(s) for s in test_sentences]\n",
    "y_test = [sent2labels(s) for s in test_sentences]"
   ]
  },
  {
   "cell_type": "markdown",
   "metadata": {},
   "source": [
    "It's probably worth noting that different words have different number of features, however, CRF_suite handles it"
   ]
  },
  {
   "cell_type": "code",
   "execution_count": 31,
   "metadata": {},
   "outputs": [],
   "source": [
    "crf = CRF(algorithm='lbfgs',\n",
    "          c1=0.1,\n",
    "          c2=0.1,\n",
    "          max_iterations=100,\n",
    "          all_possible_transitions=False)"
   ]
  },
  {
   "cell_type": "code",
   "execution_count": 32,
   "metadata": {},
   "outputs": [],
   "source": [
    "crf.fit(X_train, y_train)\n",
    "predictions = crf.predict(X_test)"
   ]
  },
  {
   "cell_type": "code",
   "execution_count": 33,
   "metadata": {},
   "outputs": [
    {
     "name": "stderr",
     "output_type": "stream",
     "text": [
      "C:\\Users\\Aleksandr_Kartavchen\\Miniconda3\\lib\\site-packages\\sklearn\\utils\\validation.py:67: FutureWarning: Pass labels=None as keyword args. From version 0.25 passing these as positional arguments will result in an error\n",
      "  warnings.warn(\"Pass {} as keyword args. From version 0.25 \"\n"
     ]
    },
    {
     "name": "stdout",
     "output_type": "stream",
     "text": [
      "              precision    recall  f1-score   support\n",
      "\n",
      "       B-art       0.20      0.08      0.11        93\n",
      "       B-eve       0.51      0.34      0.41        64\n",
      "       B-geo       0.86      0.90      0.88     10218\n",
      "       B-gpe       0.97      0.96      0.96      4372\n",
      "       B-nat       0.67      0.52      0.58        54\n",
      "       B-org       0.79      0.73      0.76      5496\n",
      "       B-per       0.83      0.81      0.82      4528\n",
      "       B-tim       0.93      0.87      0.90      5504\n",
      "       I-art       0.04      0.02      0.02        55\n",
      "       I-eve       0.45      0.20      0.27        66\n",
      "       I-geo       0.80      0.79      0.80      1964\n",
      "       I-gpe       0.81      0.64      0.72        59\n",
      "       I-nat       0.43      0.50      0.46        12\n",
      "       I-org       0.83      0.79      0.81      4609\n",
      "       I-per       0.83      0.91      0.87      4561\n",
      "       I-tim       0.84      0.76      0.79      1727\n",
      "           O       0.99      0.99      0.99    239374\n",
      "\n",
      "    accuracy                           0.97    282756\n",
      "   macro avg       0.69      0.64      0.66    282756\n",
      "weighted avg       0.97      0.97      0.97    282756\n",
      "\n"
     ]
    }
   ],
   "source": [
    "report = flat_classification_report(y_pred=predictions, y_true=y_test)\n",
    "print(report)"
   ]
  },
  {
   "cell_type": "markdown",
   "metadata": {},
   "source": [
    "# NN"
   ]
  },
  {
   "cell_type": "code",
   "execution_count": 34,
   "metadata": {},
   "outputs": [],
   "source": [
    "words = list(set(train_df[\"Word\"].values))\n",
    "words.append('UNK')\n",
    "words.append(\"ENDPAD\")"
   ]
  },
  {
   "cell_type": "code",
   "execution_count": 35,
   "metadata": {},
   "outputs": [
    {
     "data": {
      "text/plain": [
       "30499"
      ]
     },
     "execution_count": 35,
     "metadata": {},
     "output_type": "execute_result"
    }
   ],
   "source": [
    "n_words = len(words); \n",
    "n_words"
   ]
  },
  {
   "cell_type": "code",
   "execution_count": 36,
   "metadata": {},
   "outputs": [],
   "source": [
    "tags = list(set(train_df[\"Tag\"].values))"
   ]
  },
  {
   "cell_type": "code",
   "execution_count": 37,
   "metadata": {},
   "outputs": [
    {
     "data": {
      "text/plain": [
       "17"
      ]
     },
     "execution_count": 37,
     "metadata": {},
     "output_type": "execute_result"
    }
   ],
   "source": [
    "n_tags = len(tags)\n",
    "n_tags"
   ]
  },
  {
   "cell_type": "code",
   "execution_count": 38,
   "metadata": {},
   "outputs": [],
   "source": [
    "train_sentences = extract_sentences(train_df)\n",
    "test_sentences = extract_sentences(test_df)"
   ]
  },
  {
   "cell_type": "code",
   "execution_count": 39,
   "metadata": {},
   "outputs": [],
   "source": [
    "max_len = 50 # is chosen based on the results of EDA\n",
    "word2idx = {w: i for i, w in enumerate(words)}\n",
    "tag2idx = {t: i for i, t in enumerate(tags)}"
   ]
  },
  {
   "cell_type": "code",
   "execution_count": 40,
   "metadata": {},
   "outputs": [],
   "source": [
    "X_train = [[word2idx.get(w[0],word2idx['UNK']) for w in s] for s in train_sentences]\n",
    "X_test = [[word2idx.get(w[0],word2idx['UNK']) for w in s] for s in test_sentences]"
   ]
  },
  {
   "cell_type": "code",
   "execution_count": 41,
   "metadata": {},
   "outputs": [],
   "source": [
    "# such way of padding corresponds to the padding with 'UNK' at the end\n",
    "X_train = pad_sequences(maxlen=max_len, sequences=X_train, padding=\"post\", value=n_words - 1)\n",
    "X_test = pad_sequences(maxlen=max_len, sequences=X_test, padding=\"post\", value=n_words - 1)"
   ]
  },
  {
   "cell_type": "code",
   "execution_count": 42,
   "metadata": {},
   "outputs": [],
   "source": [
    "y_train = [[tag2idx[w[2]] for w in s] for s in train_sentences]\n",
    "y_test = [[tag2idx[w[2]] for w in s] for s in test_sentences]"
   ]
  },
  {
   "cell_type": "code",
   "execution_count": 43,
   "metadata": {},
   "outputs": [],
   "source": [
    "y_train = pad_sequences(maxlen=max_len, sequences=y_train, padding=\"post\", value=tag2idx[\"O\"])\n",
    "y_test = pad_sequences(maxlen=max_len, sequences=y_test, padding=\"post\", value=tag2idx[\"O\"])"
   ]
  },
  {
   "cell_type": "code",
   "execution_count": 44,
   "metadata": {},
   "outputs": [],
   "source": [
    "# OHE for y_train\n",
    "y_train = [to_categorical(i, num_classes=n_tags) for i in y_train]"
   ]
  },
  {
   "cell_type": "markdown",
   "metadata": {},
   "source": [
    "This architecture allows us to map one sequence on other sequence"
   ]
  },
  {
   "cell_type": "code",
   "execution_count": 59,
   "metadata": {},
   "outputs": [],
   "source": [
    "input = Input(shape=(max_len,))\n",
    "model = Embedding(input_dim=n_words, output_dim=50, input_length=max_len)(input)  \n",
    "model = Dropout(0.1)(model)\n",
    "model = Bidirectional(LSTM(units=100, return_sequences=True, recurrent_dropout=0.1))(model)  \n",
    "out = TimeDistributed(Dense(n_tags, activation=\"softmax\"))(model) "
   ]
  },
  {
   "cell_type": "code",
   "execution_count": 60,
   "metadata": {},
   "outputs": [],
   "source": [
    "model = Model(input, out)"
   ]
  },
  {
   "cell_type": "code",
   "execution_count": 61,
   "metadata": {},
   "outputs": [],
   "source": [
    "model.compile(optimizer=\"rmsprop\", loss=\"categorical_crossentropy\", metrics=[\"accuracy\"])"
   ]
  },
  {
   "cell_type": "code",
   "execution_count": 62,
   "metadata": {},
   "outputs": [
    {
     "name": "stdout",
     "output_type": "stream",
     "text": [
      "Epoch 1/5\n",
      "985/985 [==============================] - 63s 64ms/step - loss: 0.1548 - accuracy: 0.9611 - val_loss: 0.0727 - val_accuracy: 0.9783\n",
      "Epoch 2/5\n",
      "985/985 [==============================] - 67s 68ms/step - loss: 0.0590 - accuracy: 0.9830 - val_loss: 0.0566 - val_accuracy: 0.9833\n",
      "Epoch 3/5\n",
      "985/985 [==============================] - 67s 68ms/step - loss: 0.0482 - accuracy: 0.9860 - val_loss: 0.0529 - val_accuracy: 0.9846\n",
      "Epoch 4/5\n",
      "985/985 [==============================] - 68s 69ms/step - loss: 0.0432 - accuracy: 0.9874 - val_loss: 0.0509 - val_accuracy: 0.9850\n",
      "Epoch 5/5\n",
      "985/985 [==============================] - 69s 70ms/step - loss: 0.0397 - accuracy: 0.9884 - val_loss: 0.0511 - val_accuracy: 0.9849\n"
     ]
    }
   ],
   "source": [
    "history = model.fit(X_train, np.array(y_train), batch_size=32, epochs=5, validation_split=0.1, verbose=1)"
   ]
  },
  {
   "cell_type": "code",
   "execution_count": 63,
   "metadata": {},
   "outputs": [],
   "source": [
    "predictions = model.predict(X_test)"
   ]
  },
  {
   "cell_type": "code",
   "execution_count": 64,
   "metadata": {},
   "outputs": [],
   "source": [
    "predictions = np.argmax(predictions, axis=-1)"
   ]
  },
  {
   "cell_type": "code",
   "execution_count": 65,
   "metadata": {},
   "outputs": [
    {
     "name": "stdout",
     "output_type": "stream",
     "text": [
      "              precision    recall  f1-score   support\n",
      "\n",
      "       I-gpe       1.00      0.71      0.83        59\n",
      "       B-nat       0.53      0.19      0.27        54\n",
      "       B-per       0.76      0.82      0.79      4526\n",
      "       I-tim       0.81      0.71      0.76      1722\n",
      "       I-eve       1.00      0.02      0.03        66\n",
      "       B-eve       0.88      0.22      0.35        64\n",
      "       B-geo       0.86      0.89      0.88     10214\n",
      "       I-nat       0.00      0.00      0.00        12\n",
      "       B-tim       0.92      0.86      0.89      5501\n",
      "       I-art       0.00      0.00      0.00        55\n",
      "       B-gpe       0.97      0.94      0.95      4366\n",
      "           O       1.00      1.00      1.00    604597\n",
      "       I-org       0.81      0.75      0.78      4606\n",
      "       B-art       0.00      0.00      0.00        93\n",
      "       I-per       0.80      0.93      0.86      4558\n",
      "       I-geo       0.86      0.74      0.80      1964\n",
      "       B-org       0.76      0.70      0.73      5493\n",
      "\n",
      "    accuracy                           0.99    647950\n",
      "   macro avg       0.70      0.56      0.58    647950\n",
      "weighted avg       0.99      0.99      0.99    647950\n",
      "\n"
     ]
    }
   ],
   "source": [
    "report = classification_report(y_pred=predictions.reshape(1,-1)[0], y_true=y_test.reshape(1,-1)[0], target_names=tag2idx.keys())\n",
    "print(report)"
   ]
  },
  {
   "cell_type": "markdown",
   "metadata": {},
   "source": [
    "# HMM"
   ]
  },
  {
   "cell_type": "markdown",
   "metadata": {},
   "source": [
    "It's partly refactored and rewritten version of code of the HMM library with implemented laplace smoothing and UNK tokens "
   ]
  },
  {
   "cell_type": "code",
   "execution_count": 141,
   "metadata": {},
   "outputs": [],
   "source": [
    "class hmm:\n",
    "\n",
    "  def __init__(self, state_list, obser_list):\n",
    "\n",
    "    self.N = len(state_list)\n",
    "    self.M = len(obser_list)\n",
    "    self.S = state_list\n",
    "    self.O = obser_list\n",
    "\n",
    "    tmp = [0.0]*self.N # Temporary array for states\n",
    "\n",
    "    # Matrix for transition probabilities - - - - - - - - - - - - - - - - - - -\n",
    "    #\n",
    "    self.A = []\n",
    "    for i in range(self.N):  # One line per state\n",
    "      self.A.append(tmp[:])\n",
    "\n",
    "    # Vector for initial state probabilities  - - - - - - - - - - - - - - - - -\n",
    "    #\n",
    "    self.pi = tmp[:]\n",
    "\n",
    "    tmp = [0.0]*self.M # Temporary array for observations\n",
    "\n",
    "    # Matrix for observation probabilities  - - - - - - - - - - - - - - - - - -\n",
    "    #\n",
    "    self.B = []\n",
    "    for i in range(self.N):  # One line per state\n",
    "      self.B.append(tmp[:])\n",
    "\n",
    "    # Make dictionaries with indices of state and observation names - - - - - -\n",
    "    #\n",
    "    self.S_ind = {}\n",
    "    for i in range(self.N):\n",
    "      self.S_ind[self.S[i]] = i\n",
    "    self.O_ind = {}\n",
    "    for i in range(self.M):\n",
    "      self.O_ind[self.O[i]] = i\n",
    "    \n",
    "    \n",
    "  def train(self, train_data, smoothing=None):\n",
    "    # Sum up probabilities from training data - - - - - - - - - - - - - - - - -\n",
    "    #\n",
    "    for train_rec in train_data:\n",
    "      (init_state, init_obser) = train_rec[0]  # Get first tuple\n",
    "      i = self.S_ind[init_state]\n",
    "      self.pi[i] = self.pi[i] + 1.0\n",
    "      prev_i = -1  # No previous index yet\n",
    "\n",
    "      for pair in train_rec:  # For each pair in this training record\n",
    "        (state,obser) = pair\n",
    "        i = self.S_ind[state]\n",
    "        j = self.O_ind[obser]\n",
    "        self.B[i][j] = self.B[i][j] + 1.0\n",
    "        if (prev_i > -1):  # If previous index defined:\n",
    "          self.A[prev_i][i] = self.A[prev_i][i] + 1.0\n",
    "        prev_i = i\n",
    "\n",
    "    # Scale counts into probabilities - - - - - - - - - - - - - - - - - - - - -\n",
    "    #\n",
    "\n",
    "    # Scale initial probabilities\n",
    "    #\n",
    "    s = 0.0\n",
    "    for i in range(self.N):\n",
    "      s = s+self.pi[i]\n",
    "    if (s != 0.0):\n",
    "      for i in range(self.N):\n",
    "        self.pi[i] = self.pi[i] / s\n",
    "\n",
    "    # Scale transition probabilities\n",
    "    #\n",
    "    for i in range(self.N):  # For each state\n",
    "      s  = 0.0\n",
    "      for j in range(self.N):\n",
    "        s = s+self.A[i][j]\n",
    "      if (s != 0.0):\n",
    "        for j in range(self.N):\n",
    "          self.A[i][j] = self.A[i][j] / s\n",
    "\n",
    "    # Scale observation probabilities\n",
    "    #\n",
    "    for i in range(self.N):  # For each state\n",
    "      s  = float(self.M)\n",
    "      for j in range(self.M):\n",
    "        s = s+self.B[i][j]\n",
    "      for j in range(self.M):\n",
    "        self.B[i][j] = (self.B[i][j]+1.0) / s\n",
    "\n",
    "    \n",
    "  def viterbi(self, obser_seq):\n",
    "    tmp = [0]*self.N\n",
    "\n",
    "    obs_len = len(obser_seq)\n",
    "    obs_ind = []\n",
    "    for obs in obser_seq:\n",
    "      obs_ind.append(self.O_ind.get(obs, self.O_ind['Unk']))\n",
    "\n",
    "    delta = [tmp[:]]  # Compute initial state probabilities\n",
    "    for i in range(self.N):\n",
    "      delta[0][i] = self.pi[i] * self.B[i][obs_ind[0]]\n",
    "\n",
    "    phi = [tmp[:]]\n",
    "\n",
    "    for obs in obs_ind[1:]:  # For all observations except the inital one\n",
    "      delta_t = tmp[:]\n",
    "      phi_t = tmp[:]\n",
    "      for j in range(self.N):   # Following formula 33 in Rabiner'89\n",
    "        tdelta = tmp[:]\n",
    "        tphimax = -1.0\n",
    "        for i in range(self.N):\n",
    "          tphi_tmp = delta[-1][i] * self.A[i][j]\n",
    "          if (tphi_tmp > tphimax):\n",
    "            tphimax = tphi_tmp\n",
    "            phi_t[j] = i\n",
    "          tdelta[i] = tphi_tmp * self.B[j][obs]\n",
    "        delta_t[j] = max(tdelta)\n",
    "      delta.append(delta_t)\n",
    "      phi.append(phi_t)\n",
    "\n",
    "    # Backtrack the path through the states  (Formula 34 in Rabiner'89)\n",
    "    #\n",
    "    tmax = -1.0\n",
    "    for i in range(self.N):\n",
    "      if (delta[-1][i] > tmax):\n",
    "        tmax = delta[-1][i]\n",
    "        state_seq = [i]  # Last state with maximum probability\n",
    "\n",
    "    phi.reverse()  # Because we start from the end of the sequence\n",
    "    for tphi in phi[:-1]:\n",
    "      state_seq.append(tphi[state_seq[-1]])\n",
    "\n",
    "    sequence = []\n",
    "\n",
    "    for state in state_seq:\n",
    "      sequence.append(self.S[state])\n",
    "\n",
    "    sequence.reverse()  # Reverse into correct time direction\n",
    "    state_seq.reverse()\n",
    "\n",
    "    # Finally compute probability of this state and observation sequence\n",
    "    #\n",
    "    prev_ind = state_seq[0]\n",
    "    seq_prob = self.pi[prev_ind]\n",
    "    seq_prob *= self.B[prev_ind][self.O_ind.get(obser_seq[0], self.O_ind['Unk'])]\n",
    "\n",
    "    for i in range(1,len(state_seq)):\n",
    "      ind = state_seq[i]\n",
    "      obs = self.O_ind.get(obser_seq[i], self.O_ind['Unk'])\n",
    "      seq_prob *= self.A[prev_ind][ind]\n",
    "      seq_prob *= self.B[ind][obs]\n",
    "      prev_ind = ind\n",
    "\n",
    "    return [sequence, seq_prob]"
   ]
  },
  {
   "cell_type": "code",
   "execution_count": 142,
   "metadata": {},
   "outputs": [],
   "source": [
    "states = list(set(train_df[\"Tag\"].values))\n",
    "observ = list(set(train_df['Word'].values)) + ['Unk']"
   ]
  },
  {
   "cell_type": "code",
   "execution_count": 143,
   "metadata": {},
   "outputs": [],
   "source": [
    "def extract_sentences_without_tags(df):\n",
    "    agg_func = lambda s: [(t, w) for w, t in zip(s[\"Word\"].values.tolist(),\n",
    "                                                    s[\"Tag\"].values.tolist())]\n",
    "    grouped = df.groupby(\"Sentence #\").apply(agg_func)\n",
    "    return [s for s in grouped]"
   ]
  },
  {
   "cell_type": "code",
   "execution_count": 144,
   "metadata": {},
   "outputs": [],
   "source": [
    "train_sentences = extract_sentences_without_tags(train_df)"
   ]
  },
  {
   "cell_type": "code",
   "execution_count": 147,
   "metadata": {},
   "outputs": [],
   "source": [
    "test_hmm = hmm(states, observ)\n",
    "test_hmm.train(train_sentences)"
   ]
  },
  {
   "cell_type": "code",
   "execution_count": 148,
   "metadata": {},
   "outputs": [],
   "source": [
    "_tmp = test_df.groupby(\"Sentence #\").apply(lambda x: x['Word'].values.tolist())\n",
    "test_sentences = [s for s in _tmp]\n",
    "_tmp = test_df.groupby(\"Sentence #\").apply(lambda x: x['Tag'].values.tolist())\n",
    "y_test = [y for y in _tmp]"
   ]
  },
  {
   "cell_type": "code",
   "execution_count": 149,
   "metadata": {},
   "outputs": [],
   "source": [
    "predictions = []\n",
    "for sent in test_sentences:\n",
    "    predictions.append(test_hmm.viterbi(sent)[0])"
   ]
  },
  {
   "cell_type": "code",
   "execution_count": 150,
   "metadata": {},
   "outputs": [],
   "source": [
    "report = flat_classification_report(y_pred=predictions, y_true=y_test)"
   ]
  },
  {
   "cell_type": "code",
   "execution_count": 151,
   "metadata": {},
   "outputs": [
    {
     "name": "stdout",
     "output_type": "stream",
     "text": [
      "              precision    recall  f1-score   support\n",
      "\n",
      "       B-art       0.00      0.00      0.00        93\n",
      "       B-eve       0.00      0.00      0.00        64\n",
      "       B-geo       0.83      0.87      0.85     10218\n",
      "       B-gpe       0.88      0.92      0.90      4372\n",
      "       B-nat       0.00      0.00      0.00        54\n",
      "       B-org       0.79      0.60      0.69      5496\n",
      "       B-per       0.77      0.68      0.72      4528\n",
      "       B-tim       0.91      0.74      0.82      5504\n",
      "       I-art       0.00      0.00      0.00        55\n",
      "       I-eve       0.00      0.00      0.00        66\n",
      "       I-geo       0.75      0.67      0.71      1964\n",
      "       I-gpe       1.00      0.69      0.82        59\n",
      "       I-nat       0.00      0.00      0.00        12\n",
      "       I-org       0.72      0.75      0.74      4609\n",
      "       I-per       0.73      0.92      0.82      4561\n",
      "       I-tim       0.82      0.41      0.55      1727\n",
      "           O       0.98      0.99      0.98    239374\n",
      "\n",
      "    accuracy                           0.95    282756\n",
      "   macro avg       0.54      0.49      0.51    282756\n",
      "weighted avg       0.95      0.95      0.95    282756\n",
      "\n"
     ]
    }
   ],
   "source": [
    "print(report)"
   ]
  }
 ],
 "metadata": {
  "kernelspec": {
   "display_name": "myenv",
   "language": "python",
   "name": "myenv"
  },
  "language_info": {
   "codemirror_mode": {
    "name": "ipython",
    "version": 3
   },
   "file_extension": ".py",
   "mimetype": "text/x-python",
   "name": "python",
   "nbconvert_exporter": "python",
   "pygments_lexer": "ipython3",
   "version": "3.8.3"
  }
 },
 "nbformat": 4,
 "nbformat_minor": 2
}
