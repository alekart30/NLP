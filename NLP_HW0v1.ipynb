{
  "nbformat": 4,
  "nbformat_minor": 0,
  "metadata": {
    "accelerator": "GPU",
    "colab": {
      "name": "NLP_HW0.ipynb",
      "provenance": [],
      "collapsed_sections": [
        "eeTtu3DL5bUF",
        "TK1JqiQU8MS0",
        "vc8JNECV8n1E",
        "RaHpWSat66zg"
      ],
      "toc_visible": true,
      "machine_shape": "hm"
    },
    "kernelspec": {
      "display_name": "Python 3",
      "language": "python",
      "name": "python3"
    },
    "language_info": {
      "codemirror_mode": {
        "name": "ipython",
        "version": 3
      },
      "file_extension": ".py",
      "mimetype": "text/x-python",
      "name": "python",
      "nbconvert_exporter": "python",
      "pygments_lexer": "ipython3",
      "version": "3.7.3"
    }
  },
  "cells": [
    {
      "cell_type": "markdown",
      "metadata": {
        "colab_type": "text",
        "id": "4pvaeDpH4MEc"
      },
      "source": [
        "# Advanced NLP HW0\n",
        "\n",
        "Before starting the task please read thoroughly these chapters of Speech and Language Processing by Daniel Jurafsky & James H. Martin:\n",
        "\n",
        "•\tN-gram language models: https://web.stanford.edu/~jurafsky/slp3/3.pdf\n",
        "\n",
        "•\tNeural language models: https://web.stanford.edu/~jurafsky/slp3/7.pdf \n",
        "\n",
        "In this task you will be asked to implement the models described there.\n",
        "\n",
        "Build a text generator based on n-gram language model and neural language model.\n",
        "1.\tFind a corpus (e.g. http://cs.stanford.edu/people/karpathy/char-rnn/shakespeare_input.txt ), but you are free to use anything else of your interest\n",
        "2.\tPreprocess it if necessary (we suggest using nltk for that)\n",
        "3.\tBuild an n-gram model\n",
        "4.\tTry out different values of n, calculate perplexity on a held-out set\n",
        "5.\tBuild a simple neural network model for text generation (start from a feed-forward net for example). We suggest using tensorflow + keras for this task\n",
        "\n",
        "Criteria:\n",
        "1.\tData is split into train / validation / test, motivation for the split method is given\n",
        "2.\tN-gram model is implemented\n",
        "a.\tUnknown words are handled\n",
        "b.\tAdd-k Smoothing is implemented\n",
        "3.\tNeural network for text generation is implemented\n",
        "4.\tPerplexity is calculated for both models\n",
        "5.\tExamples of texts generated with different models are present and compared\n",
        "6.\tOptional: Try both character-based and word-based approaches."
      ]
    },
    {
      "cell_type": "markdown",
      "metadata": {
        "id": "ObQupt1QO0IT",
        "colab_type": "text"
      },
      "source": [
        "#Imports"
      ]
    },
    {
      "cell_type": "markdown",
      "metadata": {
        "id": "d-K3RkIqbMMe",
        "colab_type": "text"
      },
      "source": [
        "We need nltk 3.4.5"
      ]
    },
    {
      "cell_type": "code",
      "metadata": {
        "id": "G7yubCcBZlJ7",
        "colab_type": "code",
        "outputId": "40902b9e-c98c-4c3c-a2d0-eaa37f5da3af",
        "colab": {
          "base_uri": "https://localhost:8080/",
          "height": 117
        }
      },
      "source": [
        "! pip uninstall nltk"
      ],
      "execution_count": 0,
      "outputs": [
        {
          "output_type": "stream",
          "text": [
            "Uninstalling nltk-3.2.5:\n",
            "  Would remove:\n",
            "    /usr/local/lib/python3.6/dist-packages/nltk-3.2.5.dist-info/*\n",
            "    /usr/local/lib/python3.6/dist-packages/nltk/*\n",
            "Proceed (y/n)? y\n",
            "  Successfully uninstalled nltk-3.2.5\n"
          ],
          "name": "stdout"
        }
      ]
    },
    {
      "cell_type": "code",
      "metadata": {
        "id": "-aG3pTnNakgc",
        "colab_type": "code",
        "outputId": "13d020c4-8dcd-41f4-cc70-339bdb0b0ac4",
        "colab": {
          "base_uri": "https://localhost:8080/",
          "height": 221
        }
      },
      "source": [
        "! pip install nltk==3.4.5"
      ],
      "execution_count": 0,
      "outputs": [
        {
          "output_type": "stream",
          "text": [
            "Collecting nltk==3.4.5\n",
            "\u001b[?25l  Downloading https://files.pythonhosted.org/packages/f6/1d/d925cfb4f324ede997f6d47bea4d9babba51b49e87a767c170b77005889d/nltk-3.4.5.zip (1.5MB)\n",
            "\r\u001b[K     |▎                               | 10kB 24.9MB/s eta 0:00:01\r\u001b[K     |▌                               | 20kB 1.7MB/s eta 0:00:01\r\u001b[K     |▊                               | 30kB 2.3MB/s eta 0:00:01\r\u001b[K     |█                               | 40kB 1.7MB/s eta 0:00:01\r\u001b[K     |█▏                              | 51kB 1.9MB/s eta 0:00:01\r\u001b[K     |█▍                              | 61kB 2.2MB/s eta 0:00:01\r\u001b[K     |█▋                              | 71kB 2.5MB/s eta 0:00:01\r\u001b[K     |█▉                              | 81kB 2.6MB/s eta 0:00:01\r\u001b[K     |██                              | 92kB 2.9MB/s eta 0:00:01\r\u001b[K     |██▎                             | 102kB 2.8MB/s eta 0:00:01\r\u001b[K     |██▌                             | 112kB 2.8MB/s eta 0:00:01\r\u001b[K     |██▊                             | 122kB 2.8MB/s eta 0:00:01\r\u001b[K     |███                             | 133kB 2.8MB/s eta 0:00:01\r\u001b[K     |███▏                            | 143kB 2.8MB/s eta 0:00:01\r\u001b[K     |███▍                            | 153kB 2.8MB/s eta 0:00:01\r\u001b[K     |███▋                            | 163kB 2.8MB/s eta 0:00:01\r\u001b[K     |███▉                            | 174kB 2.8MB/s eta 0:00:01\r\u001b[K     |████                            | 184kB 2.8MB/s eta 0:00:01\r\u001b[K     |████▎                           | 194kB 2.8MB/s eta 0:00:01\r\u001b[K     |████▌                           | 204kB 2.8MB/s eta 0:00:01\r\u001b[K     |████▊                           | 215kB 2.8MB/s eta 0:00:01\r\u001b[K     |█████                           | 225kB 2.8MB/s eta 0:00:01\r\u001b[K     |█████▏                          | 235kB 2.8MB/s eta 0:00:01\r\u001b[K     |█████▍                          | 245kB 2.8MB/s eta 0:00:01\r\u001b[K     |█████▋                          | 256kB 2.8MB/s eta 0:00:01\r\u001b[K     |█████▉                          | 266kB 2.8MB/s eta 0:00:01\r\u001b[K     |██████                          | 276kB 2.8MB/s eta 0:00:01\r\u001b[K     |██████▎                         | 286kB 2.8MB/s eta 0:00:01\r\u001b[K     |██████▌                         | 296kB 2.8MB/s eta 0:00:01\r\u001b[K     |██████▊                         | 307kB 2.8MB/s eta 0:00:01\r\u001b[K     |███████                         | 317kB 2.8MB/s eta 0:00:01\r\u001b[K     |███████▎                        | 327kB 2.8MB/s eta 0:00:01\r\u001b[K     |███████▌                        | 337kB 2.8MB/s eta 0:00:01\r\u001b[K     |███████▊                        | 348kB 2.8MB/s eta 0:00:01\r\u001b[K     |████████                        | 358kB 2.8MB/s eta 0:00:01\r\u001b[K     |████████▏                       | 368kB 2.8MB/s eta 0:00:01\r\u001b[K     |████████▍                       | 378kB 2.8MB/s eta 0:00:01\r\u001b[K     |████████▋                       | 389kB 2.8MB/s eta 0:00:01\r\u001b[K     |████████▉                       | 399kB 2.8MB/s eta 0:00:01\r\u001b[K     |█████████                       | 409kB 2.8MB/s eta 0:00:01\r\u001b[K     |█████████▎                      | 419kB 2.8MB/s eta 0:00:01\r\u001b[K     |█████████▌                      | 430kB 2.8MB/s eta 0:00:01\r\u001b[K     |█████████▊                      | 440kB 2.8MB/s eta 0:00:01\r\u001b[K     |██████████                      | 450kB 2.8MB/s eta 0:00:01\r\u001b[K     |██████████▏                     | 460kB 2.8MB/s eta 0:00:01\r\u001b[K     |██████████▍                     | 471kB 2.8MB/s eta 0:00:01\r\u001b[K     |██████████▋                     | 481kB 2.8MB/s eta 0:00:01\r\u001b[K     |██████████▉                     | 491kB 2.8MB/s eta 0:00:01\r\u001b[K     |███████████                     | 501kB 2.8MB/s eta 0:00:01\r\u001b[K     |███████████▎                    | 512kB 2.8MB/s eta 0:00:01\r\u001b[K     |███████████▌                    | 522kB 2.8MB/s eta 0:00:01\r\u001b[K     |███████████▊                    | 532kB 2.8MB/s eta 0:00:01\r\u001b[K     |████████████                    | 542kB 2.8MB/s eta 0:00:01\r\u001b[K     |████████████▏                   | 552kB 2.8MB/s eta 0:00:01\r\u001b[K     |████████████▍                   | 563kB 2.8MB/s eta 0:00:01\r\u001b[K     |████████████▋                   | 573kB 2.8MB/s eta 0:00:01\r\u001b[K     |████████████▉                   | 583kB 2.8MB/s eta 0:00:01\r\u001b[K     |█████████████                   | 593kB 2.8MB/s eta 0:00:01\r\u001b[K     |█████████████▎                  | 604kB 2.8MB/s eta 0:00:01\r\u001b[K     |█████████████▌                  | 614kB 2.8MB/s eta 0:00:01\r\u001b[K     |█████████████▉                  | 624kB 2.8MB/s eta 0:00:01\r\u001b[K     |██████████████                  | 634kB 2.8MB/s eta 0:00:01\r\u001b[K     |██████████████▎                 | 645kB 2.8MB/s eta 0:00:01\r\u001b[K     |██████████████▌                 | 655kB 2.8MB/s eta 0:00:01\r\u001b[K     |██████████████▊                 | 665kB 2.8MB/s eta 0:00:01\r\u001b[K     |███████████████                 | 675kB 2.8MB/s eta 0:00:01\r\u001b[K     |███████████████▏                | 686kB 2.8MB/s eta 0:00:01\r\u001b[K     |███████████████▍                | 696kB 2.8MB/s eta 0:00:01\r\u001b[K     |███████████████▋                | 706kB 2.8MB/s eta 0:00:01\r\u001b[K     |███████████████▉                | 716kB 2.8MB/s eta 0:00:01\r\u001b[K     |████████████████                | 727kB 2.8MB/s eta 0:00:01\r\u001b[K     |████████████████▎               | 737kB 2.8MB/s eta 0:00:01\r\u001b[K     |████████████████▌               | 747kB 2.8MB/s eta 0:00:01\r\u001b[K     |████████████████▊               | 757kB 2.8MB/s eta 0:00:01\r\u001b[K     |█████████████████               | 768kB 2.8MB/s eta 0:00:01\r\u001b[K     |█████████████████▏              | 778kB 2.8MB/s eta 0:00:01\r\u001b[K     |█████████████████▍              | 788kB 2.8MB/s eta 0:00:01\r\u001b[K     |█████████████████▋              | 798kB 2.8MB/s eta 0:00:01\r\u001b[K     |█████████████████▉              | 808kB 2.8MB/s eta 0:00:01\r\u001b[K     |██████████████████              | 819kB 2.8MB/s eta 0:00:01\r\u001b[K     |██████████████████▎             | 829kB 2.8MB/s eta 0:00:01\r\u001b[K     |██████████████████▌             | 839kB 2.8MB/s eta 0:00:01\r\u001b[K     |██████████████████▊             | 849kB 2.8MB/s eta 0:00:01\r\u001b[K     |███████████████████             | 860kB 2.8MB/s eta 0:00:01\r\u001b[K     |███████████████████▏            | 870kB 2.8MB/s eta 0:00:01\r\u001b[K     |███████████████████▍            | 880kB 2.8MB/s eta 0:00:01\r\u001b[K     |███████████████████▋            | 890kB 2.8MB/s eta 0:00:01\r\u001b[K     |███████████████████▉            | 901kB 2.8MB/s eta 0:00:01\r\u001b[K     |████████████████████            | 911kB 2.8MB/s eta 0:00:01\r\u001b[K     |████████████████████▎           | 921kB 2.8MB/s eta 0:00:01\r\u001b[K     |████████████████████▋           | 931kB 2.8MB/s eta 0:00:01\r\u001b[K     |████████████████████▉           | 942kB 2.8MB/s eta 0:00:01\r\u001b[K     |█████████████████████           | 952kB 2.8MB/s eta 0:00:01\r\u001b[K     |█████████████████████▎          | 962kB 2.8MB/s eta 0:00:01\r\u001b[K     |█████████████████████▌          | 972kB 2.8MB/s eta 0:00:01\r\u001b[K     |█████████████████████▊          | 983kB 2.8MB/s eta 0:00:01\r\u001b[K     |██████████████████████          | 993kB 2.8MB/s eta 0:00:01\r\u001b[K     |██████████████████████▏         | 1.0MB 2.8MB/s eta 0:00:01\r\u001b[K     |██████████████████████▍         | 1.0MB 2.8MB/s eta 0:00:01\r\u001b[K     |██████████████████████▋         | 1.0MB 2.8MB/s eta 0:00:01\r\u001b[K     |██████████████████████▉         | 1.0MB 2.8MB/s eta 0:00:01\r\u001b[K     |███████████████████████         | 1.0MB 2.8MB/s eta 0:00:01\r\u001b[K     |███████████████████████▎        | 1.1MB 2.8MB/s eta 0:00:01\r\u001b[K     |███████████████████████▌        | 1.1MB 2.8MB/s eta 0:00:01\r\u001b[K     |███████████████████████▊        | 1.1MB 2.8MB/s eta 0:00:01\r\u001b[K     |████████████████████████        | 1.1MB 2.8MB/s eta 0:00:01\r\u001b[K     |████████████████████████▏       | 1.1MB 2.8MB/s eta 0:00:01\r\u001b[K     |████████████████████████▍       | 1.1MB 2.8MB/s eta 0:00:01\r\u001b[K     |████████████████████████▋       | 1.1MB 2.8MB/s eta 0:00:01\r\u001b[K     |████████████████████████▉       | 1.1MB 2.8MB/s eta 0:00:01\r\u001b[K     |█████████████████████████       | 1.1MB 2.8MB/s eta 0:00:01\r\u001b[K     |█████████████████████████▎      | 1.1MB 2.8MB/s eta 0:00:01\r\u001b[K     |█████████████████████████▌      | 1.2MB 2.8MB/s eta 0:00:01\r\u001b[K     |█████████████████████████▊      | 1.2MB 2.8MB/s eta 0:00:01\r\u001b[K     |██████████████████████████      | 1.2MB 2.8MB/s eta 0:00:01\r\u001b[K     |██████████████████████████▏     | 1.2MB 2.8MB/s eta 0:00:01\r\u001b[K     |██████████████████████████▍     | 1.2MB 2.8MB/s eta 0:00:01\r\u001b[K     |██████████████████████████▋     | 1.2MB 2.8MB/s eta 0:00:01\r\u001b[K     |██████████████████████████▉     | 1.2MB 2.8MB/s eta 0:00:01\r\u001b[K     |███████████████████████████     | 1.2MB 2.8MB/s eta 0:00:01\r\u001b[K     |███████████████████████████▍    | 1.2MB 2.8MB/s eta 0:00:01\r\u001b[K     |███████████████████████████▋    | 1.2MB 2.8MB/s eta 0:00:01\r\u001b[K     |███████████████████████████▉    | 1.3MB 2.8MB/s eta 0:00:01\r\u001b[K     |████████████████████████████    | 1.3MB 2.8MB/s eta 0:00:01\r\u001b[K     |████████████████████████████▎   | 1.3MB 2.8MB/s eta 0:00:01\r\u001b[K     |████████████████████████████▌   | 1.3MB 2.8MB/s eta 0:00:01\r\u001b[K     |████████████████████████████▊   | 1.3MB 2.8MB/s eta 0:00:01\r\u001b[K     |█████████████████████████████   | 1.3MB 2.8MB/s eta 0:00:01\r\u001b[K     |█████████████████████████████▏  | 1.3MB 2.8MB/s eta 0:00:01\r\u001b[K     |█████████████████████████████▍  | 1.3MB 2.8MB/s eta 0:00:01\r\u001b[K     |█████████████████████████████▋  | 1.3MB 2.8MB/s eta 0:00:01\r\u001b[K     |█████████████████████████████▉  | 1.4MB 2.8MB/s eta 0:00:01\r\u001b[K     |██████████████████████████████  | 1.4MB 2.8MB/s eta 0:00:01\r\u001b[K     |██████████████████████████████▎ | 1.4MB 2.8MB/s eta 0:00:01\r\u001b[K     |██████████████████████████████▌ | 1.4MB 2.8MB/s eta 0:00:01\r\u001b[K     |██████████████████████████████▊ | 1.4MB 2.8MB/s eta 0:00:01\r\u001b[K     |███████████████████████████████ | 1.4MB 2.8MB/s eta 0:00:01\r\u001b[K     |███████████████████████████████▏| 1.4MB 2.8MB/s eta 0:00:01\r\u001b[K     |███████████████████████████████▍| 1.4MB 2.8MB/s eta 0:00:01\r\u001b[K     |███████████████████████████████▋| 1.4MB 2.8MB/s eta 0:00:01\r\u001b[K     |███████████████████████████████▉| 1.4MB 2.8MB/s eta 0:00:01\r\u001b[K     |████████████████████████████████| 1.5MB 2.8MB/s \n",
            "\u001b[?25hRequirement already satisfied: six in /usr/local/lib/python3.6/dist-packages (from nltk==3.4.5) (1.12.0)\n",
            "Building wheels for collected packages: nltk\n",
            "  Building wheel for nltk (setup.py) ... \u001b[?25l\u001b[?25hdone\n",
            "  Created wheel for nltk: filename=nltk-3.4.5-cp36-none-any.whl size=1449906 sha256=45004884269b5c19eced2331d78d57594bbe715fcfb90a046db7e586eeeba06e\n",
            "  Stored in directory: /root/.cache/pip/wheels/96/86/f6/68ab24c23f207c0077381a5e3904b2815136b879538a24b483\n",
            "Successfully built nltk\n",
            "Installing collected packages: nltk\n",
            "Successfully installed nltk-3.4.5\n"
          ],
          "name": "stdout"
        }
      ]
    },
    {
      "cell_type": "code",
      "metadata": {
        "id": "jJT5gEEYarTD",
        "colab_type": "code",
        "colab": {}
      },
      "source": [
        "import nltk"
      ],
      "execution_count": 0,
      "outputs": []
    },
    {
      "cell_type": "code",
      "metadata": {
        "id": "f9GDvVAwas-K",
        "colab_type": "code",
        "outputId": "e0c115f5-3c8d-49b4-b5ab-3b68220d4c39",
        "colab": {
          "base_uri": "https://localhost:8080/",
          "height": 33
        }
      },
      "source": [
        "nltk.__version__"
      ],
      "execution_count": 0,
      "outputs": [
        {
          "output_type": "execute_result",
          "data": {
            "text/plain": [
              "'3.4.5'"
            ]
          },
          "metadata": {
            "tags": []
          },
          "execution_count": 4
        }
      ]
    },
    {
      "cell_type": "code",
      "metadata": {
        "id": "mfzgHRjlO1ie",
        "colab_type": "code",
        "outputId": "b2e8ddf4-1b17-4021-f647-09b2bc99c4d2",
        "colab": {
          "base_uri": "https://localhost:8080/",
          "height": 117
        }
      },
      "source": [
        "import nltk\n",
        "nltk.download('punkt')\n",
        "nltk.download('stopwords')\n",
        "nltk.download('wordnet')\n",
        "\n",
        "import unicodedata\n",
        "import re\n",
        "import inflect\n",
        "from nltk.corpus import stopwords\n",
        "from nltk.stem import LancasterStemmer, WordNetLemmatizer\n",
        "from nltk.util import ngrams\n",
        "from nltk.lm import NgramCounter\n",
        "\n",
        "from collections import Counter\n",
        "\n",
        "from functools import partial\n",
        "import numpy as np\n",
        "import scipy.stats as st\n",
        "import matplotlib.pyplot as plt\n",
        "from sklearn.preprocessing import OneHotEncoder\n",
        "\n",
        "import torch\n",
        "import torch.nn as nn\n",
        "import torch.optim as optim"
      ],
      "execution_count": 0,
      "outputs": [
        {
          "output_type": "stream",
          "text": [
            "[nltk_data] Downloading package punkt to /root/nltk_data...\n",
            "[nltk_data]   Unzipping tokenizers/punkt.zip.\n",
            "[nltk_data] Downloading package stopwords to /root/nltk_data...\n",
            "[nltk_data]   Unzipping corpora/stopwords.zip.\n",
            "[nltk_data] Downloading package wordnet to /root/nltk_data...\n",
            "[nltk_data]   Unzipping corpora/wordnet.zip.\n"
          ],
          "name": "stderr"
        }
      ]
    },
    {
      "cell_type": "code",
      "metadata": {
        "id": "NkBo4SVuCURS",
        "colab_type": "code",
        "colab": {}
      },
      "source": [
        "device = torch.device(\"cuda:0\") # Let's make sure GPU is available!"
      ],
      "execution_count": 0,
      "outputs": []
    },
    {
      "cell_type": "markdown",
      "metadata": {
        "id": "9aE6Vd09OfQl",
        "colab_type": "text"
      },
      "source": [
        "# Load data"
      ]
    },
    {
      "cell_type": "code",
      "metadata": {
        "id": "1QWnXjwINerb",
        "colab_type": "code",
        "outputId": "bf64cae3-a179-4a95-f73f-0b4984d603e2",
        "colab": {
          "base_uri": "https://localhost:8080/",
          "height": 201
        }
      },
      "source": [
        "! wget -c https://cs.stanford.edu/people/karpathy/char-rnn/shakespeare_input.txt"
      ],
      "execution_count": 0,
      "outputs": [
        {
          "output_type": "stream",
          "text": [
            "--2020-02-03 21:30:36--  https://cs.stanford.edu/people/karpathy/char-rnn/shakespeare_input.txt\n",
            "Resolving cs.stanford.edu (cs.stanford.edu)... 171.64.64.64\n",
            "Connecting to cs.stanford.edu (cs.stanford.edu)|171.64.64.64|:443... connected.\n",
            "HTTP request sent, awaiting response... 200 OK\n",
            "Length: 4573338 (4.4M) [text/plain]\n",
            "Saving to: ‘shakespeare_input.txt’\n",
            "\n",
            "shakespeare_input.t 100%[===================>]   4.36M  3.88MB/s    in 1.1s    \n",
            "\n",
            "2020-02-03 21:30:38 (3.88 MB/s) - ‘shakespeare_input.txt’ saved [4573338/4573338]\n",
            "\n"
          ],
          "name": "stdout"
        }
      ]
    },
    {
      "cell_type": "markdown",
      "metadata": {
        "id": "CzEaADmVOxRL",
        "colab_type": "text"
      },
      "source": [
        "#Preprocessing"
      ]
    },
    {
      "cell_type": "markdown",
      "metadata": {
        "id": "eeTtu3DL5bUF",
        "colab_type": "text"
      },
      "source": [
        "##Loading text"
      ]
    },
    {
      "cell_type": "markdown",
      "metadata": {
        "id": "bXbdy-ihRtB5",
        "colab_type": "text"
      },
      "source": [
        "Read text as one string"
      ]
    },
    {
      "cell_type": "code",
      "metadata": {
        "id": "kqVRFv2UOyyu",
        "colab_type": "code",
        "colab": {}
      },
      "source": [
        "input_file = open(\"shakespeare_input.txt\", \"r\")\n",
        "input_string = input_file.read()"
      ],
      "execution_count": 0,
      "outputs": []
    },
    {
      "cell_type": "markdown",
      "metadata": {
        "id": "0TtvjR5vTnQg",
        "colab_type": "text"
      },
      "source": [
        "Number of characters"
      ]
    },
    {
      "cell_type": "code",
      "metadata": {
        "id": "0nXQahbbRSkD",
        "colab_type": "code",
        "outputId": "6c09a8c1-003d-4c87-a338-350874e3f48a",
        "colab": {
          "base_uri": "https://localhost:8080/",
          "height": 33
        }
      },
      "source": [
        "len(input_string)"
      ],
      "execution_count": 0,
      "outputs": [
        {
          "output_type": "execute_result",
          "data": {
            "text/plain": [
              "4573338"
            ]
          },
          "metadata": {
            "tags": []
          },
          "execution_count": 8
        }
      ]
    },
    {
      "cell_type": "code",
      "metadata": {
        "id": "puGnXkxh8W1y",
        "colab_type": "code",
        "outputId": "98a390ad-e653-461a-d515-0486c3dd8c1e",
        "colab": {
          "base_uri": "https://localhost:8080/",
          "height": 33
        }
      },
      "source": [
        "input_string[:100]"
      ],
      "execution_count": 0,
      "outputs": [
        {
          "output_type": "execute_result",
          "data": {
            "text/plain": [
              "'First Citizen:\\nBefore we proceed any further, hear me speak.\\n\\nAll:\\nSpeak, speak.\\n\\nFirst Citizen:\\nYou'"
            ]
          },
          "metadata": {
            "tags": []
          },
          "execution_count": 9
        }
      ]
    },
    {
      "cell_type": "markdown",
      "metadata": {
        "id": "jlJIoJsHXf-h",
        "colab_type": "text"
      },
      "source": [
        "Perpesent text as list of sentences"
      ]
    },
    {
      "cell_type": "code",
      "metadata": {
        "id": "qMSWCWdXWHAH",
        "colab_type": "code",
        "colab": {}
      },
      "source": [
        "sent_detector = nltk.data.load('tokenizers/punkt/english.pickle')\n",
        "text = sent_detector.tokenize(input_string.strip())"
      ],
      "execution_count": 0,
      "outputs": []
    },
    {
      "cell_type": "markdown",
      "metadata": {
        "id": "97w4UzOUmHNn",
        "colab_type": "text"
      },
      "source": [
        "Make some replacement"
      ]
    },
    {
      "cell_type": "code",
      "metadata": {
        "id": "4gz7buptmLfD",
        "colab_type": "code",
        "colab": {}
      },
      "source": [
        "replacement_dict = {\"ain't\": \"is not\", \"aren't\": \"are not\",\"can't\": \"cannot\",\n",
        "                        \"'cause\": \"because\", \"could've\": \"could have\", \"couldn't\": \"could not\",\n",
        "                        \"didn't\": \"did not\",  \"doesn't\": \"does not\", \"don't\": \"do not\",\n",
        "                        \"hadn't\": \"had not\", \"hasn't\": \"has not\", \"haven't\": \"have not\",\n",
        "                        \"he'd\": \"he would\",\"he'll\": \"he will\", \"he's\": \"he is\", \"how'd\": \"how did\",\n",
        "                        \"how'd'y\": \"how do you\", \"how'll\": \"how will\", \"how's\": \"how is\",\n",
        "                        \"i'd\": \"i would\", \"i'd've\": \"i would have\", \"i'll\": \"I will\",\n",
        "                        \"i'll've\": \"i will have\",\"i'm\": \"i am\", \"i've\": \"i have\", \"i'd\": \"i would\",\n",
        "                        \"i'd've\": \"i would have\", \"i'll\": \"i will\",  \"i'll've\": \"i will have\", \n",
        "                        \"i'm\": \"i am\", \"i've\": \"i have\", \"isn't\": \"is not\", \"it'd\": \"it would\", \n",
        "                        \"it'd've\": \"it would have\", \"it'll\": \"it will\", \"it'll've\": \"it will have\",\n",
        "                        \"it's\": \"it is\", \"let's\": \"let us\", \"ma'am\": \"madam\", \"mayn't\": \"may not\",\n",
        "                        \"might've\": \"might have\",\"mightn't\": \"might not\",\"mightn't've\": \"might not have\",\n",
        "                        \"must've\": \"must have\", \"mustn't\": \"must not\", \"mustn't've\": \"must not have\",\n",
        "                        \"needn't\": \"need not\", \"needn't've\": \"need not have\",\"o'clock\": \"of the clock\", \n",
        "                        \"oughtn't\": \"ought not\", \"oughtn't've\": \"ought not have\", \"shan't\": \"shall not\",\n",
        "                        \"sha'n't\": \"shall not\", \"shan't've\": \"shall not have\", \"she'd\": \"she would\", \n",
        "                        \"she'd've\": \"she would have\", \"she'll\": \"she will\", \"she'll've\": \"she will have\",\n",
        "                        \"she's\": \"she is\", \"should've\": \"should have\", \"shouldn't\": \"should not\",\n",
        "                        \"shouldn't've\": \"should not have\", \"so've\": \"so have\",\"so's\": \"so as\", \"this's\": \"this is\",\n",
        "                        \"that'd\": \"that would\", \"that'd've\": \"that would have\", \"that's\": \"that is\",\n",
        "                        \"there'd\": \"there would\", \"there'd've\": \"there would have\", \"there's\": \"there is\",\n",
        "                        \"here's\": \"here is\",\"they'd\": \"they would\", \"they'd've\": \"they would have\",\n",
        "                        \"they'll\": \"they will\", \"they'll've\": \"they will have\", \"they're\": \"they are\",\n",
        "                        \"they've\": \"they have\", \"to've\": \"to have\", \"wasn't\": \"was not\", \"we'd\": \"we would\",\n",
        "                        \"we'd've\": \"we would have\", \"we'll\": \"we will\", \"we'll've\": \"we will have\",\n",
        "                        \"we're\": \"we are\", \"we've\": \"we have\", \"weren't\": \"were not\", \"what'll\": \"what will\",\n",
        "                        \"what'll've\": \"what will have\", \"what're\": \"what are\",  \"what's\": \"what is\",\n",
        "                        \"what've\": \"what have\", \"when's\": \"when is\", \"when've\": \"when have\", \"where'd\": \"where did\",\n",
        "                        \"where's\": \"where is\", \"where've\": \"where have\", \"who'll\": \"who will\", \"who'll've\": \"who will have\",\n",
        "                        \"who's\": \"who is\", \"who've\": \"who have\", \"why's\": \"why is\", \"why've\": \"why have\",\n",
        "                        \"will've\": \"will have\", \"won't\": \"will not\", \"won't've\": \"will not have\", \"would've\": \"would have\",\n",
        "                        \"wouldn't\": \"would not\", \"wouldn't've\": \"would not have\", \"y'all\": \"you all\",\n",
        "                        \"y'all'd\": \"you all would\",\"y'all'd've\": \"you all would have\",\"y'all're\": \"you all are\",\n",
        "                        \"y'all've\": \"you all have\",\"you'd\": \"you would\", \"you'd've\": \"you would have\",\n",
        "                        \"you'll\": \"you will\", \"you'll've\": \"you will have\", \"you're\": \"you are\", \"you've\": \"you have\",\n",
        "                        \"'t\": \" it\", \"'em\": \"them\", \"o'\": \"of\", \"'ll\": \" will\", \"ne'er\":\"never\", \"'ld\": \" would\", \"i'\": \"in\",\n",
        "                        \"'d\": \"ed\", \"'en \": \"ken \", \"'bout\":\"about\", \"'gainst\":\"against\", \"'scape\":\"escape\", \"'mongst\": \"amongst\", \n",
        "                        \"'n\": \"en\", \"e'er\":\"ever\", \"itwas\":\"it was\" }"
      ],
      "execution_count": 0,
      "outputs": []
    },
    {
      "cell_type": "code",
      "metadata": {
        "id": "wUQ0HCLVQbdW",
        "colab_type": "code",
        "colab": {}
      },
      "source": [
        "def replace_phrases(sentence, phrases_dict):\n",
        "  for key, value in phrases_dict.items():\n",
        "    sentence = sentence.replace(key, value)\n",
        "  return sentence"
      ],
      "execution_count": 0,
      "outputs": []
    },
    {
      "cell_type": "code",
      "metadata": {
        "id": "z-cmc3rl7hmP",
        "colab_type": "code",
        "colab": {}
      },
      "source": [
        "replacer = partial(replace_phrases, phrases_dict=replacement_dict)\n",
        "text = list(map(replacer, text))"
      ],
      "execution_count": 0,
      "outputs": []
    },
    {
      "cell_type": "markdown",
      "metadata": {
        "id": "5E0ukgT3Xkah",
        "colab_type": "text"
      },
      "source": [
        "Tokenize each sentence"
      ]
    },
    {
      "cell_type": "code",
      "metadata": {
        "id": "x1ZBBYW5WUTj",
        "colab_type": "code",
        "colab": {}
      },
      "source": [
        "text_in_words = list(map(nltk.word_tokenize, text))"
      ],
      "execution_count": 0,
      "outputs": []
    },
    {
      "cell_type": "markdown",
      "metadata": {
        "id": "OHR1lazDT0OY",
        "colab_type": "text"
      },
      "source": [
        "We need to make normalization:\n",
        "\n",
        "*remove non ascii characters from words\n",
        "\n",
        "*to lower_case???\n",
        "\n",
        "*replace numbers\n",
        "\n",
        "*remove stopwords???"
      ]
    },
    {
      "cell_type": "markdown",
      "metadata": {
        "id": "TK1JqiQU8MS0",
        "colab_type": "text"
      },
      "source": [
        "##Basic preprocessing functions"
      ]
    },
    {
      "cell_type": "code",
      "metadata": {
        "id": "dROX7Nf1Ty4g",
        "colab_type": "code",
        "colab": {}
      },
      "source": [
        "def remove_non_ascii(words):\n",
        "    \"\"\"Remove non-ASCII characters from list of tokenized words\"\"\"\n",
        "    new_words = []\n",
        "    for word in words:\n",
        "        new_word = unicodedata.normalize('NFKD', word).encode('ascii', 'ignore').decode('utf-8', 'ignore')\n",
        "        new_words.append(new_word)\n",
        "    return new_words"
      ],
      "execution_count": 0,
      "outputs": []
    },
    {
      "cell_type": "code",
      "metadata": {
        "id": "S1Mej41qWBuV",
        "colab_type": "code",
        "colab": {}
      },
      "source": [
        "def to_lowercase(words):\n",
        "    \"\"\"Convert all characters to lowercase from list of tokenized words\"\"\"\n",
        "    new_words = []\n",
        "    for word in words:\n",
        "        new_word = word.lower()\n",
        "        new_words.append(new_word)\n",
        "    return new_words"
      ],
      "execution_count": 0,
      "outputs": []
    },
    {
      "cell_type": "code",
      "metadata": {
        "id": "9egm9mvTWDe2",
        "colab_type": "code",
        "colab": {}
      },
      "source": [
        "def remove_punctuation(words):\n",
        "    \"\"\"Remove punctuation from list of tokenized words\"\"\"\n",
        "    new_words = []\n",
        "    for word in words:\n",
        "        new_word = re.sub(r'[^\\w\\s\\<\\>\\/]', '', word)\n",
        "        if new_word != '':\n",
        "            new_words.append(new_word)\n",
        "    return new_words"
      ],
      "execution_count": 0,
      "outputs": []
    },
    {
      "cell_type": "code",
      "metadata": {
        "id": "azQJn09RWeol",
        "colab_type": "code",
        "colab": {}
      },
      "source": [
        "def replace_numbers(words):\n",
        "    \"\"\"Replace all interger occurrences in list of tokenized words with textual representation\"\"\"\n",
        "    p = inflect.engine()\n",
        "    new_words = []\n",
        "    for word in words:\n",
        "        if word.isdigit():\n",
        "            new_word = p.number_to_words(word)\n",
        "            new_words.append(new_word)\n",
        "        else:\n",
        "            new_words.append(word)\n",
        "    return new_words"
      ],
      "execution_count": 0,
      "outputs": []
    },
    {
      "cell_type": "code",
      "metadata": {
        "id": "06stlrdMXIwc",
        "colab_type": "code",
        "colab": {}
      },
      "source": [
        "def remove_stopwords(words):\n",
        "    \"\"\"Remove stop words from list of tokenized words\"\"\"\n",
        "    new_words = []\n",
        "    for word in words:\n",
        "        if word not in stopwords.words('english'):\n",
        "            new_words.append(word)\n",
        "    return new_words"
      ],
      "execution_count": 0,
      "outputs": []
    },
    {
      "cell_type": "code",
      "metadata": {
        "id": "t3MCt8LvYCQT",
        "colab_type": "code",
        "colab": {}
      },
      "source": [
        "def stem_words(words):\n",
        "    \"\"\"Stem words in list of tokenized words\"\"\"\n",
        "    stemmer = LancasterStemmer()\n",
        "    stems = []\n",
        "    for word in words:\n",
        "        stem = stemmer.stem(word)\n",
        "        stems.append(stem)\n",
        "    return stems\n",
        "\n",
        "def lemmatize_words(words):\n",
        "    \"\"\"Lemmatize verbs in list of tokenized words\"\"\"\n",
        "    lemmatizer = WordNetLemmatizer()\n",
        "    lemmas = []\n",
        "    for word in words:\n",
        "        lemma = lemmatizer.lemmatize(word)\n",
        "        lemmas.append(lemma)\n",
        "    return lemmas"
      ],
      "execution_count": 0,
      "outputs": []
    },
    {
      "cell_type": "markdown",
      "metadata": {
        "id": "vc8JNECV8n1E",
        "colab_type": "text"
      },
      "source": [
        "## Using only some preprocessing"
      ]
    },
    {
      "cell_type": "code",
      "metadata": {
        "id": "EtZ3fB9ZX396",
        "colab_type": "code",
        "colab": {}
      },
      "source": [
        "def normalize(words):\n",
        "    words = remove_non_ascii(words)\n",
        "    words = to_lowercase(words)\n",
        "    words = replace_numbers(words)\n",
        "    return words"
      ],
      "execution_count": 0,
      "outputs": []
    },
    {
      "cell_type": "code",
      "metadata": {
        "id": "_EO6_zlU9F_H",
        "colab_type": "code",
        "colab": {}
      },
      "source": [
        "text_in_words_normalized = list(map(normalize, text_in_words))"
      ],
      "execution_count": 0,
      "outputs": []
    },
    {
      "cell_type": "markdown",
      "metadata": {
        "id": "flyz5fpg9kY5",
        "colab_type": "text"
      },
      "source": [
        "Let's pad sentences"
      ]
    },
    {
      "cell_type": "code",
      "metadata": {
        "id": "cQz-lbj6X0bg",
        "colab_type": "code",
        "colab": {}
      },
      "source": [
        "def padder(sentence):\n",
        "  return list(nltk.lm.preprocessing.pad_both_ends(sentence,n=2))\n",
        "text_in_words_padded = list(map(padder, text_in_words_normalized))"
      ],
      "execution_count": 0,
      "outputs": []
    },
    {
      "cell_type": "code",
      "metadata": {
        "id": "dCVeFRYn9p7i",
        "colab_type": "code",
        "outputId": "9f60fbe1-0c19-4cec-abb8-562a9f3c1c4a",
        "colab": {
          "base_uri": "https://localhost:8080/",
          "height": 268
        }
      },
      "source": [
        "text_in_words_padded[0]"
      ],
      "execution_count": 0,
      "outputs": [
        {
          "output_type": "execute_result",
          "data": {
            "text/plain": [
              "['<s>',\n",
              " 'first',\n",
              " 'citizen',\n",
              " ':',\n",
              " 'before',\n",
              " 'we',\n",
              " 'proceed',\n",
              " 'any',\n",
              " 'further',\n",
              " ',',\n",
              " 'hear',\n",
              " 'me',\n",
              " 'speak',\n",
              " '.',\n",
              " '</s>']"
            ]
          },
          "metadata": {
            "tags": []
          },
          "execution_count": 24
        }
      ]
    },
    {
      "cell_type": "markdown",
      "metadata": {
        "id": "G69E_AlNmjzQ",
        "colab_type": "text"
      },
      "source": [
        "## All in one class"
      ]
    },
    {
      "cell_type": "code",
      "metadata": {
        "id": "JP8xCt9W97Lg",
        "colab_type": "code",
        "colab": {}
      },
      "source": [
        "class Preprocessor():\n",
        "\n",
        "  def __init__(self, filename, n):\n",
        "    self.__filename = filename\n",
        "    self.__n = n\n",
        "    self.__text_in_words = None\n",
        "    self.__replacement_dict = {\"ain't\": \"is not\", \"aren't\": \"are not\",\"can't\": \"cannot\",\n",
        "                        \"'cause\": \"because\", \"could've\": \"could have\", \"couldn't\": \"could not\",\n",
        "                        \"didn't\": \"did not\",  \"doesn't\": \"does not\", \"don't\": \"do not\",\n",
        "                        \"hadn't\": \"had not\", \"hasn't\": \"has not\", \"haven't\": \"have not\",\n",
        "                        \"he'd\": \"he would\",\"he'll\": \"he will\", \"he's\": \"he is\", \"how'd\": \"how did\",\n",
        "                        \"how'd'y\": \"how do you\", \"how'll\": \"how will\", \"how's\": \"how is\",\n",
        "                        \"i'd\": \"i would\", \"i'd've\": \"i would have\", \"i'll\": \"I will\",\n",
        "                        \"i'll've\": \"i will have\",\"i'm\": \"i am\", \"i've\": \"i have\", \"i'd\": \"i would\",\n",
        "                        \"i'd've\": \"i would have\", \"i'll\": \"i will\",  \"i'll've\": \"i will have\", \n",
        "                        \"i'm\": \"i am\", \"i've\": \"i have\", \"isn't\": \"is not\", \"it'd\": \"it would\", \n",
        "                        \"it'd've\": \"it would have\", \"it'll\": \"it will\", \"it'll've\": \"it will have\",\n",
        "                        \"it's\": \"it is\", \"let's\": \"let us\", \"ma'am\": \"madam\", \"mayn't\": \"may not\",\n",
        "                        \"might've\": \"might have\",\"mightn't\": \"might not\",\"mightn't've\": \"might not have\",\n",
        "                        \"must've\": \"must have\", \"mustn't\": \"must not\", \"mustn't've\": \"must not have\",\n",
        "                        \"needn't\": \"need not\", \"needn't've\": \"need not have\",\"o'clock\": \"of the clock\", \n",
        "                        \"oughtn't\": \"ought not\", \"oughtn't've\": \"ought not have\", \"shan't\": \"shall not\",\n",
        "                        \"sha'n't\": \"shall not\", \"shan't've\": \"shall not have\", \"she'd\": \"she would\", \n",
        "                        \"she'd've\": \"she would have\", \"she'll\": \"she will\", \"she'll've\": \"she will have\",\n",
        "                        \"she's\": \"she is\", \"should've\": \"should have\", \"shouldn't\": \"should not\",\n",
        "                        \"shouldn't've\": \"should not have\", \"so've\": \"so have\",\"so's\": \"so as\", \"this's\": \"this is\",\n",
        "                        \"that'd\": \"that would\", \"that'd've\": \"that would have\", \"that's\": \"that is\",\n",
        "                        \"there'd\": \"there would\", \"there'd've\": \"there would have\", \"there's\": \"there is\",\n",
        "                        \"here's\": \"here is\",\"they'd\": \"they would\", \"they'd've\": \"they would have\",\n",
        "                        \"they'll\": \"they will\", \"they'll've\": \"they will have\", \"they're\": \"they are\",\n",
        "                        \"they've\": \"they have\", \"to've\": \"to have\", \"wasn't\": \"was not\", \"we'd\": \"we would\",\n",
        "                        \"we'd've\": \"we would have\", \"we'll\": \"we will\", \"we'll've\": \"we will have\",\n",
        "                        \"we're\": \"we are\", \"we've\": \"we have\", \"weren't\": \"were not\", \"what'll\": \"what will\",\n",
        "                        \"what'll've\": \"what will have\", \"what're\": \"what are\",  \"what's\": \"what is\",\n",
        "                        \"what've\": \"what have\", \"when's\": \"when is\", \"when've\": \"when have\", \"where'd\": \"where did\",\n",
        "                        \"where's\": \"where is\", \"where've\": \"where have\", \"who'll\": \"who will\", \"who'll've\": \"who will have\",\n",
        "                        \"who's\": \"who is\", \"who've\": \"who have\", \"why's\": \"why is\", \"why've\": \"why have\",\n",
        "                        \"will've\": \"will have\", \"won't\": \"will not\", \"won't've\": \"will not have\", \"would've\": \"would have\",\n",
        "                        \"wouldn't\": \"would not\", \"wouldn't've\": \"would not have\", \"y'all\": \"you all\",\n",
        "                        \"y'all'd\": \"you all would\",\"y'all'd've\": \"you all would have\",\"y'all're\": \"you all are\",\n",
        "                        \"y'all've\": \"you all have\",\"you'd\": \"you would\", \"you'd've\": \"you would have\",\n",
        "                        \"you'll\": \"you will\", \"you'll've\": \"you will have\", \"you're\": \"you are\", \"you've\": \"you have\",\n",
        "                        \"'t\": \" it\", \"'em\": \"them\", \"o'\": \"of\", \"'ll\": \" will\", \"ne'er\":\"never\", \"'ld\": \" would\", \"i'\": \"in\",\n",
        "                        \"'d\": \"ed\", \"'en \": \"ken \", \"'bout\":\"about\", \"'gainst\":\"against\", \"'scape\":\"escape\", \"'mongst\": \"amongst\", \n",
        "                        \"'n\": \"en\", \"e'er\":\"ever\", \"itwas\":\"it was\" }\n",
        "  \n",
        "  def __tokenize(self):\n",
        "    # read raw text\n",
        "    input_file = open(self.__filename, \"r\")\n",
        "    input_string = input_file.read()\n",
        "    # split by sentences\n",
        "    sent_detector = nltk.data.load('tokenizers/punkt/english.pickle')\n",
        "    text = sent_detector.tokenize(input_string.strip())\n",
        "\n",
        "    def replace_phrases(sentence, phrases_dict):\n",
        "      # replace sentences accordingly to given dictionary\n",
        "      for key, value in phrases_dict.items():\n",
        "        sentence = sentence.replace(key, value)\n",
        "      return sentence\n",
        "    \n",
        "    # replace sentences accordingly to given dictionary\n",
        "    replacer = partial(replace_phrases, phrases_dict=self.__replacement_dict)\n",
        "    text = list(map(replacer, text))\n",
        "    # tokenize each sentence into words\n",
        "    self.__text_in_words = list(map(nltk.word_tokenize, text))\n",
        "\n",
        "  def __normalize(self):\n",
        "\n",
        "    def normalize_sentence(words):\n",
        "      def remove_non_ascii(words):\n",
        "        \"\"\"Remove non-ASCII characters from list of tokenized words\"\"\"\n",
        "        new_words = []\n",
        "        for word in words:\n",
        "            new_word = unicodedata.normalize('NFKD', word).encode('ascii', 'ignore').decode('utf-8', 'ignore')\n",
        "            new_words.append(new_word)\n",
        "        return new_words\n",
        "\n",
        "      def to_lowercase(words):\n",
        "        \"\"\"Convert all characters to lowercase from list of tokenized words\"\"\"\n",
        "        new_words = []\n",
        "        for word in words:\n",
        "            new_word = word.lower()\n",
        "            new_words.append(new_word)\n",
        "        return new_words\n",
        "      \n",
        "      def replace_numbers(words):\n",
        "        \"\"\"Replace all interger occurrences in list of tokenized words with textual representation\"\"\"\n",
        "        p = inflect.engine()\n",
        "        new_words = []\n",
        "        for word in words:\n",
        "            if word.isdigit():\n",
        "                new_word = p.number_to_words(word)\n",
        "                new_words.append(new_word)\n",
        "            else:\n",
        "                new_words.append(word)\n",
        "        return new_words\n",
        "\n",
        "      words = remove_non_ascii(words)\n",
        "      words = to_lowercase(words)\n",
        "      words = replace_numbers(words)\n",
        "      return words\n",
        "    # normalized each sentence\n",
        "    text_in_words_normalized = list(map(normalize_sentence, self.__text_in_words))\n",
        "\n",
        "    def padder(sentence):\n",
        "      return list(nltk.lm.preprocessing.pad_both_ends(sentence,n=self.__n))\n",
        "    # pad each sentence from begging and end by special characters <s> </s>\n",
        "    text_in_words_padded = list(map(padder, text_in_words_normalized))\n",
        "    return text_in_words_padded\n",
        "\n",
        "  def preprocess(self):\n",
        "    self.__tokenize()\n",
        "    return self.__normalize()\n"
      ],
      "execution_count": 0,
      "outputs": []
    },
    {
      "cell_type": "code",
      "metadata": {
        "id": "g_LN84z-AOLe",
        "colab_type": "code",
        "colab": {}
      },
      "source": [
        "preprocessor = Preprocessor(\"shakespeare_input.txt\", n=5)\n",
        "full_text = preprocessor.preprocess()"
      ],
      "execution_count": 0,
      "outputs": []
    },
    {
      "cell_type": "code",
      "metadata": {
        "id": "8dRFb0IEAoLa",
        "colab_type": "code",
        "outputId": "d07be817-bd50-49dc-9162-04f445358f27",
        "colab": {
          "base_uri": "https://localhost:8080/",
          "height": 33
        }
      },
      "source": [
        "len(full_text)"
      ],
      "execution_count": 0,
      "outputs": [
        {
          "output_type": "execute_result",
          "data": {
            "text/plain": [
              "52482"
            ]
          },
          "metadata": {
            "tags": []
          },
          "execution_count": 137
        }
      ]
    },
    {
      "cell_type": "code",
      "metadata": {
        "id": "MHtYfeAbAq08",
        "colab_type": "code",
        "outputId": "b81f24dd-b89d-4c9f-8d30-89418a922734",
        "colab": {
          "base_uri": "https://localhost:8080/",
          "height": 33
        }
      },
      "source": [
        "len(text_in_words_padded)"
      ],
      "execution_count": 0,
      "outputs": [
        {
          "output_type": "execute_result",
          "data": {
            "text/plain": [
              "52482"
            ]
          },
          "metadata": {
            "tags": []
          },
          "execution_count": 75
        }
      ]
    },
    {
      "cell_type": "markdown",
      "metadata": {
        "colab_type": "text",
        "id": "m7FEwRuO6og0"
      },
      "source": [
        "# Models"
      ]
    },
    {
      "cell_type": "markdown",
      "metadata": {
        "id": "h7HWfry45gdt",
        "colab_type": "text"
      },
      "source": [
        "##N gram model with k-add smoothing"
      ]
    },
    {
      "cell_type": "code",
      "metadata": {
        "colab_type": "code",
        "id": "xWBs4AoC4JfO",
        "colab": {}
      },
      "source": [
        "class NgramModel:\n",
        "  def __init__(self, n, k, vocab = None):\n",
        "    \"\"\"Language model constructor\n",
        "    n -- n-gram size\n",
        "    vocab -- optional fixed vocabulary for the model\n",
        "    \"\"\"\n",
        "    self.n = n\n",
        "    self.vocab = vocab\n",
        "    self.k = k\n",
        "\n",
        "  def prob(self, word, context=None):\n",
        "    \"\"\"This method returns probability of a word with given context: P(w_t | w_{t - 1}...w_{t - n + 1})\n",
        "    \n",
        "    For example:\n",
        "    >>> lm.prob('hello', context=('world',))\n",
        "    0.99988\n",
        "    \"\"\"\n",
        "    return (self.text_ngrams[tuple(context)+(word,)] + self.k) / (self.text_n_minus_one_grams[tuple(context)] + self.k*len(self.vocab))\n",
        "    \n",
        "\n",
        "  def generate_text(self, text_length):\n",
        "    \"\"\"This method generates random text of length \n",
        "    \n",
        "    For example\n",
        "    >>> lm.generate_text(2)\n",
        "    hello world\n",
        "\n",
        "    \"\"\"\n",
        "    # we begin from <s><s>... n-1 times\n",
        "    text = ['<s>'] * (self.n-1)\n",
        "    for j in range(text_length):\n",
        "      # evaluate probabilities of each word for current context\n",
        "      probs = np.zeros(shape=(len(self.vocab)))\n",
        "      for i, word in enumerate(self.vocab):\n",
        "        probs[i] = self.prob(word=word, context=text[j:])\n",
        "      # normalize probabilitities due to some computational issues\n",
        "      probs = np.asarray(probs).astype('float64')\n",
        "      probs = probs / np.sum(probs)\n",
        "      # generate word index accordingly to distribution\n",
        "      rv = np.random.multinomial(1, probs, 1)\n",
        "      idx = rv.argmax()\n",
        "      # add word to text\n",
        "      text.append(self.vocab[idx])\n",
        "    # postprocess generated text\n",
        "    str_text = ' '. join(text)\n",
        "    str_text = str_text.replace('<s> ', \"\")\n",
        "    str_text = str_text.replace(' </s>', \"\")\n",
        "    return str_text\n",
        "\n",
        "  def update(self, sequence_of_tokens):\n",
        "    \"\"\"This method learns probabiities based on given sequence of tokents\n",
        "    \n",
        "    sequence_of_tokens -- iterable of tokens\n",
        "\n",
        "    For example\n",
        "    >>> lm.update(['hello', 'world'])\n",
        "    \"\"\"\n",
        "    self.text_ngrams = Counter(ngrams(sequence_of_tokens, self.n))\n",
        "    self.text_n_minus_one_grams = Counter(ngrams(sequence_of_tokens, self.n-1))\n",
        "    self.vocab = list(set(sequence_of_tokens))\n",
        "    \n",
        "  def perplexity(self, sequence_of_tokens):\n",
        "    \"\"\"This method returns perplexity for a given sequence of tokens\n",
        "    \n",
        "    sequence_of_tokens -- iterable of tokens\n",
        "    \"\"\"\n",
        "    log_prob = 0\n",
        "    for i in range(n-1,len(sequence_of_tokens)):\n",
        "      log_prob += np.log(self.prob(word=sequence_of_tokens[i],\n",
        "                                   context=sequence_of_tokens[i-(n-1):i]))\n",
        "    return np.exp(-log_prob/len(sequence_of_tokens))"
      ],
      "execution_count": 0,
      "outputs": []
    },
    {
      "cell_type": "markdown",
      "metadata": {
        "id": "FURKDw6l5sTl",
        "colab_type": "text"
      },
      "source": [
        "Load text and split it into train and test"
      ]
    },
    {
      "cell_type": "code",
      "metadata": {
        "id": "Utm07tZvECIV",
        "colab_type": "code",
        "colab": {}
      },
      "source": [
        "def split(full_text, train_fraction, val_fraction):\n",
        "  length = len(full_text)\n",
        "  train, val, test = full_text[:int(train_fraction*length)],\\\n",
        "                     full_text[int(train_fraction*length):int((train_fraction+val_fraction)*length)],\\\n",
        "                     full_text[int((train_fraction+val_fraction)*length):]\n",
        "  train_text, val_text, test_text = [], [], []\n",
        "  for sentence in train:\n",
        "    train_text += sentence\n",
        "  for sentence in val:\n",
        "    val_text += sentence\n",
        "  for sentence in test:\n",
        "    test_text += sentence\n",
        "  return train_text, val_text, test_text"
      ],
      "execution_count": 0,
      "outputs": []
    },
    {
      "cell_type": "code",
      "metadata": {
        "id": "iH-LEbk55w2F",
        "colab_type": "code",
        "colab": {}
      },
      "source": [
        "n = 5\n",
        "preprocessor = Preprocessor(\"shakespeare_input.txt\", n=n)\n",
        "full_text = preprocessor.preprocess()\n",
        "# train/test split\n",
        "train_text, val_text, test_text = split(full_text, 0.5, 0.3)"
      ],
      "execution_count": 0,
      "outputs": []
    },
    {
      "cell_type": "code",
      "metadata": {
        "id": "KKFAJUTFYpJy",
        "colab_type": "code",
        "outputId": "9b55b43a-fc5d-4fac-b4b3-017a53d2a884",
        "colab": {
          "base_uri": "https://localhost:8080/",
          "height": 33
        }
      },
      "source": [
        "model = NgramModel(n=n,k=1)\n",
        "model.update(train_text)\n",
        "print(model.perplexity(val_text))"
      ],
      "execution_count": 0,
      "outputs": [
        {
          "output_type": "stream",
          "text": [
            "2652.3228435544115\n"
          ],
          "name": "stdout"
        }
      ]
    },
    {
      "cell_type": "markdown",
      "metadata": {
        "id": "J21vit1y7R-b",
        "colab_type": "text"
      },
      "source": [
        "Validation"
      ]
    },
    {
      "cell_type": "code",
      "metadata": {
        "id": "lF1pUoYf7iJh",
        "colab_type": "code",
        "colab": {}
      },
      "source": [
        "perplexity_list = []\n",
        "for n in range(2,7):\n",
        "  preprocessor = Preprocessor(\"shakespeare_input.txt\", n=n)\n",
        "  full_text = preprocessor.preprocess()\n",
        "  # train/test split\n",
        "  train_text, val_text, test_text = split(full_text, 0.5, 0.3)\n",
        "  \n",
        "  model = NgramModel(n=n,k=1)\n",
        "  model.update(train_text)\n",
        "  perplexity_list.append(model.perplexity(val_text))"
      ],
      "execution_count": 0,
      "outputs": []
    },
    {
      "cell_type": "code",
      "metadata": {
        "id": "Ow85OUYx86nJ",
        "colab_type": "code",
        "outputId": "dbd2ad13-a3f9-483c-9a95-74c4360afdff",
        "colab": {
          "base_uri": "https://localhost:8080/",
          "height": 281
        }
      },
      "source": [
        "plt.plot(list(range(2,7)), perplexity_list)"
      ],
      "execution_count": 0,
      "outputs": [
        {
          "output_type": "execute_result",
          "data": {
            "text/plain": [
              "[<matplotlib.lines.Line2D at 0x7f3e48cb6b00>]"
            ]
          },
          "metadata": {
            "tags": []
          },
          "execution_count": 20
        },
        {
          "output_type": "display_data",
          "data": {
            "image/png": "[encoded data removed]",
            "text/plain": [
              "<Figure size 432x288 with 1 Axes>"
            ]
          },
          "metadata": {
            "tags": []
          }
        }
      ]
    },
    {
      "cell_type": "markdown",
      "metadata": {
        "id": "NbN5jDMQZgzd",
        "colab_type": "text"
      },
      "source": [
        "We choose model with minimal perplexity, which implies maximum probability of validation set"
      ]
    },
    {
      "cell_type": "code",
      "metadata": {
        "id": "Fn_lAW3JZqjW",
        "colab_type": "code",
        "outputId": "2b6dc694-8de1-42fd-b4ca-195a8f06294a",
        "colab": {
          "base_uri": "https://localhost:8080/",
          "height": 33
        }
      },
      "source": [
        "n = 2\n",
        "preprocessor = Preprocessor(\"shakespeare_input.txt\", n=n)\n",
        "full_text = preprocessor.preprocess()\n",
        "# train/test split\n",
        "train_text, val_text, test_text = split(full_text, 0.5, 0.3)\n",
        "model = NgramModel(n=n,k=1)\n",
        "model.update(train_text)\n",
        "print(model.perplexity(test_text))"
      ],
      "execution_count": 0,
      "outputs": [
        {
          "output_type": "stream",
          "text": [
            "1117.6749768007317\n"
          ],
          "name": "stdout"
        }
      ]
    },
    {
      "cell_type": "markdown",
      "metadata": {
        "id": "jHIyiD-N_Wcg",
        "colab_type": "text"
      },
      "source": [
        "## Neural model"
      ]
    },
    {
      "cell_type": "markdown",
      "metadata": {
        "id": "RaHpWSat66zg",
        "colab_type": "text"
      },
      "source": [
        "## Observe training process"
      ]
    },
    {
      "cell_type": "markdown",
      "metadata": {
        "id": "-qotmDlbZ5UD",
        "colab_type": "text"
      },
      "source": [
        "These part is for debugging of neural network training process"
      ]
    },
    {
      "cell_type": "code",
      "metadata": {
        "id": "KSWUsfAg-cyC",
        "colab_type": "code",
        "colab": {}
      },
      "source": [
        "n = 5\n",
        "preprocessor = Preprocessor(\"shakespeare_input.txt\", n=n)\n",
        "full_text = preprocessor.preprocess()\n",
        "# train/test split\n",
        "length = len(full_text)\n",
        "train, val, test = full_text[:int(0.5*length)], full_text[int(0.5*length):int(0.8*length)], full_text[int(0.8*length):]\n",
        "# merge sentences in one text(list)\n",
        "train_text, val_text, test_text = [], [], []\n",
        "for sentence in train:\n",
        "  train_text += sentence\n",
        "for sentence in val:\n",
        "  val_text += sentence\n",
        "for sentence in test:\n",
        "  test_text += sentence"
      ],
      "execution_count": 0,
      "outputs": []
    },
    {
      "cell_type": "markdown",
      "metadata": {
        "id": "ncK5gHqh-2uF",
        "colab_type": "text"
      },
      "source": [
        "Add 'unk' to handle unknown words during inference"
      ]
    },
    {
      "cell_type": "code",
      "metadata": {
        "id": "vMm8u9EVLCaK",
        "colab_type": "code",
        "colab": {}
      },
      "source": [
        "unique_words = list(set(train_text))\n",
        "unique_words.append('unk')\n",
        "voc_size = len(unique_words)\n",
        "word_to_id = {word:i for i, word in enumerate(unique_words)}\n",
        "id_to_word = {i:word for word, i in word_to_id.items()}"
      ],
      "execution_count": 0,
      "outputs": []
    },
    {
      "cell_type": "code",
      "metadata": {
        "id": "DBcoAwRQsGoK",
        "colab_type": "code",
        "colab": {}
      },
      "source": [
        "def construct_samples(text, n, word_to_id):\n",
        "  X, y = [], []\n",
        "  number_of_samples = len(text) - n + 1\n",
        "  for i in range(number_of_samples):\n",
        "    X.append(np.array([word_to_id.get(word, word_to_id['unk']) for word in text[i:i+n-1]]))\n",
        "    y.append(np.array(word_to_id.get(text[i+n-1], word_to_id['unk'])))\n",
        "  X = np.array(X)\n",
        "  y = np.array(y)\n",
        "  return X, y"
      ],
      "execution_count": 0,
      "outputs": []
    },
    {
      "cell_type": "code",
      "metadata": {
        "id": "BP847NU-vLt7",
        "colab_type": "code",
        "colab": {}
      },
      "source": [
        "X_train, y_train = construct_samples(train_text, n, word_to_id)\n",
        "X_val, y_val = construct_samples(val_text, n, word_to_id)\n",
        "X_test, y_test = construct_samples(test_text, n, word_to_id)"
      ],
      "execution_count": 0,
      "outputs": []
    },
    {
      "cell_type": "code",
      "metadata": {
        "id": "HZAg6KH0oZxo",
        "colab_type": "code",
        "colab": {}
      },
      "source": [
        "class Flattener(nn.Module):\n",
        "    def forward(self, x):\n",
        "      batch_size, *_ = x.shape\n",
        "      return x.view(batch_size, -1)\n",
        "\n",
        "nn_model = nn.Sequential(\n",
        "            nn.Embedding(voc_size, 10),\n",
        "            Flattener(),\n",
        "            nn.Linear((n-1)*10, 100),\n",
        "            nn.ReLU(inplace=True),\n",
        "            nn.Linear(100, voc_size),\n",
        "            nn.LogSoftmax(dim=1)\n",
        "         )"
      ],
      "execution_count": 0,
      "outputs": []
    },
    {
      "cell_type": "code",
      "metadata": {
        "id": "zGAJ1fQHqL0C",
        "colab_type": "code",
        "outputId": "66c40e2b-d9f5-4ff5-c263-67046290fb79",
        "colab": {
          "base_uri": "https://localhost:8080/",
          "height": 163
        }
      },
      "source": [
        "nn_model.type(torch.cuda.FloatTensor)"
      ],
      "execution_count": 0,
      "outputs": [
        {
          "output_type": "execute_result",
          "data": {
            "text/plain": [
              "Sequential(\n",
              "  (0): Embedding(17898, 10)\n",
              "  (1): Flattener()\n",
              "  (2): Linear(in_features=40, out_features=100, bias=True)\n",
              "  (3): ReLU(inplace=True)\n",
              "  (4): Linear(in_features=100, out_features=17898, bias=True)\n",
              "  (5): LogSoftmax()\n",
              ")"
            ]
          },
          "metadata": {
            "tags": []
          },
          "execution_count": 16
        }
      ]
    },
    {
      "cell_type": "code",
      "metadata": {
        "id": "fq-XCxGvqpSD",
        "colab_type": "code",
        "colab": {}
      },
      "source": [
        "loss_function = nn.NLLLoss().type(torch.cuda.FloatTensor)\n",
        "optimizer = optim.SGD(nn_model.parameters(), lr=1e-2, weight_decay=1e-3)"
      ],
      "execution_count": 0,
      "outputs": []
    },
    {
      "cell_type": "code",
      "metadata": {
        "id": "drvTcFVBEHwf",
        "colab_type": "code",
        "outputId": "14f8b3c0-43db-421d-cc80-c198b372c97a",
        "colab": {
          "base_uri": "https://localhost:8080/",
          "height": 395
        }
      },
      "source": [
        "train_subset_size = 10000\n",
        "val_subset_size = 2000\n",
        "batch_size = 1000\n",
        "train_losses, val_losses = [], []\n",
        "scheduler = optim.lr_scheduler.StepLR(optimizer, step_size=8, gamma=0.2)\n",
        "\n",
        "for epoch in range(70):\n",
        "  total_train_loss, total_val_loss = 0, 0\n",
        "  # enter train mode\n",
        "  nn_model.train()\n",
        "  # create random subset of train data\n",
        "  indices = list(range(X_train.shape[0]))\n",
        "  chosen_indices = np.random.choice(indices,train_subset_size)\n",
        "  X,y = X_train[chosen_indices,:], y_train[chosen_indices]\n",
        "  # train by batches\n",
        "  for i in range(train_subset_size // batch_size):\n",
        "    # create batch and send to GPU\n",
        "    context_idxs = torch.tensor(X[i:(i+1)*batch_size, :], dtype=torch.long)\n",
        "    y_gpu = torch.tensor(y[i:(i+1)*batch_size], dtype=torch.long).to(device)\n",
        "    x_gpu = context_idxs.to(device)\n",
        "    # delete previously accumulated gradients\n",
        "    nn_model.zero_grad()\n",
        "    # calc log probs\n",
        "    log_probs = nn_model(x_gpu)\n",
        "    # calc loss\n",
        "    loss = loss_function(log_probs, y_gpu)\n",
        "    # perform backward pass and update weights\n",
        "    loss.backward()\n",
        "    optimizer.step()\n",
        "    # calculate total loss\n",
        "    total_train_loss += loss.item() \n",
        "    \n",
        "  # enter evaluation mode\n",
        "  nn_model.eval()\n",
        "  # create random subset of train data\n",
        "  indices = list(range(X_val.shape[0]))\n",
        "  chosen_indices = np.random.choice(indices,val_subset_size)\n",
        "  X,y = X_val[chosen_indices,:], y_val[chosen_indices]\n",
        "\n",
        "  for i in range(val_subset_size // batch_size):\n",
        "    # create batch and send to GPU\n",
        "    context_idxs = torch.tensor(X[i:(i+1)*batch_size, :], dtype=torch.long)\n",
        "    y_gpu = torch.tensor(y[i:(i+1)*batch_size], dtype=torch.long).to(device)\n",
        "    x_gpu = context_idxs.to(device)\n",
        "    # calc log probs\n",
        "    log_probs = nn_model(x_gpu)\n",
        "    loss = loss_function(log_probs, y_gpu)\n",
        "    # calculate total loss\n",
        "    total_val_loss += loss.item() \n",
        "\n",
        "  print('Average train loss {}, average validation loss {}'.format(total_train_loss/train_subset_size, total_val_loss/val_subset_size))\n",
        "  train_losses.append(total_train_loss/train_subset_size)\n",
        "  val_losses.append(total_val_loss/val_subset_size)\n",
        "  scheduler.step()\n",
        "    "
      ],
      "execution_count": 0,
      "outputs": [
        {
          "output_type": "error",
          "ename": "RuntimeError",
          "evalue": "ignored",
          "traceback": [
            "\u001b[0;31m---------------------------------------------------------------------------\u001b[0m",
            "\u001b[0;31mRuntimeError\u001b[0m                              Traceback (most recent call last)",
            "\u001b[0;32m<ipython-input-18-b886074561a2>\u001b[0m in \u001b[0;36m<module>\u001b[0;34m()\u001b[0m\n\u001b[1;32m     26\u001b[0m     \u001b[0mloss\u001b[0m \u001b[0;34m=\u001b[0m \u001b[0mloss_function\u001b[0m\u001b[0;34m(\u001b[0m\u001b[0mlog_probs\u001b[0m\u001b[0;34m,\u001b[0m \u001b[0my_gpu\u001b[0m\u001b[0;34m)\u001b[0m\u001b[0;34m\u001b[0m\u001b[0;34m\u001b[0m\u001b[0m\n\u001b[1;32m     27\u001b[0m     \u001b[0;31m# perform backward pass and update weights\u001b[0m\u001b[0;34m\u001b[0m\u001b[0;34m\u001b[0m\u001b[0;34m\u001b[0m\u001b[0m\n\u001b[0;32m---> 28\u001b[0;31m     \u001b[0mloss\u001b[0m\u001b[0;34m.\u001b[0m\u001b[0mbackward\u001b[0m\u001b[0;34m(\u001b[0m\u001b[0;34m)\u001b[0m\u001b[0;34m\u001b[0m\u001b[0;34m\u001b[0m\u001b[0m\n\u001b[0m\u001b[1;32m     29\u001b[0m     \u001b[0moptimizer\u001b[0m\u001b[0;34m.\u001b[0m\u001b[0mstep\u001b[0m\u001b[0;34m(\u001b[0m\u001b[0;34m)\u001b[0m\u001b[0;34m\u001b[0m\u001b[0;34m\u001b[0m\u001b[0m\n\u001b[1;32m     30\u001b[0m     \u001b[0;31m# calculate total loss\u001b[0m\u001b[0;34m\u001b[0m\u001b[0;34m\u001b[0m\u001b[0;34m\u001b[0m\u001b[0m\n",
            "\u001b[0;32m/usr/local/lib/python3.6/dist-packages/torch/tensor.py\u001b[0m in \u001b[0;36mbackward\u001b[0;34m(self, gradient, retain_graph, create_graph)\u001b[0m\n\u001b[1;32m    164\u001b[0m                 \u001b[0mproducts\u001b[0m\u001b[0;34m.\u001b[0m \u001b[0mDefaults\u001b[0m \u001b[0mto\u001b[0m\u001b[0;31m \u001b[0m\u001b[0;31m`\u001b[0m\u001b[0;31m`\u001b[0m\u001b[0;32mFalse\u001b[0m\u001b[0;31m`\u001b[0m\u001b[0;31m`\u001b[0m\u001b[0;34m.\u001b[0m\u001b[0;34m\u001b[0m\u001b[0;34m\u001b[0m\u001b[0m\n\u001b[1;32m    165\u001b[0m         \"\"\"\n\u001b[0;32m--> 166\u001b[0;31m         \u001b[0mtorch\u001b[0m\u001b[0;34m.\u001b[0m\u001b[0mautograd\u001b[0m\u001b[0;34m.\u001b[0m\u001b[0mbackward\u001b[0m\u001b[0;34m(\u001b[0m\u001b[0mself\u001b[0m\u001b[0;34m,\u001b[0m \u001b[0mgradient\u001b[0m\u001b[0;34m,\u001b[0m \u001b[0mretain_graph\u001b[0m\u001b[0;34m,\u001b[0m \u001b[0mcreate_graph\u001b[0m\u001b[0;34m)\u001b[0m\u001b[0;34m\u001b[0m\u001b[0;34m\u001b[0m\u001b[0m\n\u001b[0m\u001b[1;32m    167\u001b[0m \u001b[0;34m\u001b[0m\u001b[0m\n\u001b[1;32m    168\u001b[0m     \u001b[0;32mdef\u001b[0m \u001b[0mregister_hook\u001b[0m\u001b[0;34m(\u001b[0m\u001b[0mself\u001b[0m\u001b[0;34m,\u001b[0m \u001b[0mhook\u001b[0m\u001b[0;34m)\u001b[0m\u001b[0;34m:\u001b[0m\u001b[0;34m\u001b[0m\u001b[0;34m\u001b[0m\u001b[0m\n",
            "\u001b[0;32m/usr/local/lib/python3.6/dist-packages/torch/autograd/__init__.py\u001b[0m in \u001b[0;36mbackward\u001b[0;34m(tensors, grad_tensors, retain_graph, create_graph, grad_variables)\u001b[0m\n\u001b[1;32m     97\u001b[0m     Variable._execution_engine.run_backward(\n\u001b[1;32m     98\u001b[0m         \u001b[0mtensors\u001b[0m\u001b[0;34m,\u001b[0m \u001b[0mgrad_tensors\u001b[0m\u001b[0;34m,\u001b[0m \u001b[0mretain_graph\u001b[0m\u001b[0;34m,\u001b[0m \u001b[0mcreate_graph\u001b[0m\u001b[0;34m,\u001b[0m\u001b[0;34m\u001b[0m\u001b[0;34m\u001b[0m\u001b[0m\n\u001b[0;32m---> 99\u001b[0;31m         allow_unreachable=True)  # allow_unreachable flag\n\u001b[0m\u001b[1;32m    100\u001b[0m \u001b[0;34m\u001b[0m\u001b[0m\n\u001b[1;32m    101\u001b[0m \u001b[0;34m\u001b[0m\u001b[0m\n",
            "\u001b[0;31mRuntimeError\u001b[0m: CUDA out of memory. Tried to allocate 3.27 GiB (GPU 0; 15.90 GiB total capacity; 9.83 GiB already allocated; 1.52 GiB free; 3.85 GiB cached)"
          ]
        }
      ]
    },
    {
      "cell_type": "code",
      "metadata": {
        "id": "HWnxHlVswztL",
        "colab_type": "code",
        "colab": {}
      },
      "source": [
        "torch.cuda.empty_cache()"
      ],
      "execution_count": 0,
      "outputs": []
    },
    {
      "cell_type": "code",
      "metadata": {
        "id": "xdiuDapu0cQ4",
        "colab_type": "code",
        "outputId": "8690eaff-4172-4898-c6f4-871811b9e9bc",
        "colab": {
          "base_uri": "https://localhost:8080/",
          "height": 163
        }
      },
      "source": [
        "nn_model"
      ],
      "execution_count": 0,
      "outputs": [
        {
          "output_type": "execute_result",
          "data": {
            "text/plain": [
              "Sequential(\n",
              "  (0): Embedding(17898, 10)\n",
              "  (1): Flattener()\n",
              "  (2): Linear(in_features=40, out_features=100, bias=True)\n",
              "  (3): ReLU(inplace=True)\n",
              "  (4): Linear(in_features=100, out_features=17898, bias=True)\n",
              "  (5): LogSoftmax()\n",
              ")"
            ]
          },
          "metadata": {
            "tags": []
          },
          "execution_count": 19
        }
      ]
    },
    {
      "cell_type": "code",
      "metadata": {
        "id": "C01phXvM0wk8",
        "colab_type": "code",
        "colab": {}
      },
      "source": [
        "nn_model.eval()\n",
        "full_prob = 0\n",
        "for context, word in zip(X_test, y_test):\n",
        "  #print(context.shape)\n",
        "  context_idxs = torch.tensor(context.reshape(1,-1), dtype=torch.long)\n",
        "  x_gpu = context_idxs.to(device)   \n",
        "  log_probs = nn_model(x_gpu).cpu().detach().numpy()\n",
        "  #print(log_probs)\n",
        "  prob = log_probs[0,word_to_id.get(word, word_to_id['unk'])]\n",
        "  #print(prob)\n",
        "  full_prob += prob"
      ],
      "execution_count": 0,
      "outputs": []
    },
    {
      "cell_type": "code",
      "metadata": {
        "id": "hZSAgasg5qln",
        "colab_type": "code",
        "outputId": "d307b750-52b9-4034-ebdf-28982bf7d85f",
        "colab": {
          "base_uri": "https://localhost:8080/",
          "height": 35
        }
      },
      "source": [
        "full_prob"
      ],
      "execution_count": 0,
      "outputs": [
        {
          "output_type": "execute_result",
          "data": {
            "text/plain": [
              "-3083277.9077386856"
            ]
          },
          "metadata": {
            "tags": []
          },
          "execution_count": 31
        }
      ]
    },
    {
      "cell_type": "code",
      "metadata": {
        "id": "G5tDfaY450nV",
        "colab_type": "code",
        "outputId": "086a7f49-af1c-4520-c3d8-55dea9589acd",
        "colab": {
          "base_uri": "https://localhost:8080/",
          "height": 35
        }
      },
      "source": [
        "np.exp(-full_prob/len(test_text))"
      ],
      "execution_count": 0,
      "outputs": [
        {
          "output_type": "execute_result",
          "data": {
            "text/plain": [
              "27569.349679585583"
            ]
          },
          "metadata": {
            "tags": []
          },
          "execution_count": 32
        }
      ]
    },
    {
      "cell_type": "code",
      "metadata": {
        "id": "Akmv9KnQSDm_",
        "colab_type": "code",
        "outputId": "dcade30a-9693-40e2-8a19-385a13cfcd86",
        "colab": {
          "base_uri": "https://localhost:8080/",
          "height": 283
        }
      },
      "source": [
        "plt.plot(range(len(val_losses)), val_losses)\n",
        "plt.plot(range(len(val_losses)), train_losses)"
      ],
      "execution_count": 0,
      "outputs": [
        {
          "output_type": "execute_result",
          "data": {
            "text/plain": [
              "[<matplotlib.lines.Line2D at 0x7f6d2e095668>]"
            ]
          },
          "metadata": {
            "tags": []
          },
          "execution_count": 26
        },
        {
          "output_type": "display_data",
          "data": {
            "image/png": "[encoded data removed]",
            "text/plain": [
              "<Figure size 432x288 with 1 Axes>"
            ]
          },
          "metadata": {
            "tags": []
          }
        }
      ]
    },
    {
      "cell_type": "markdown",
      "metadata": {
        "id": "1ASackgH7AJ3",
        "colab_type": "text"
      },
      "source": [
        "## Neural network model"
      ]
    },
    {
      "cell_type": "code",
      "metadata": {
        "id": "yQBzPLNN7U2r",
        "colab_type": "code",
        "colab": {}
      },
      "source": [
        "n = 5\n",
        "preprocessor = Preprocessor(\"shakespeare_input.txt\", n=n)\n",
        "full_text = preprocessor.preprocess()\n",
        "# train/test split\n",
        "train_text, val_text, test_text = split(full_text, 0.5, 0.3)"
      ],
      "execution_count": 0,
      "outputs": []
    },
    {
      "cell_type": "code",
      "metadata": {
        "id": "y7ZZJCkW7EWr",
        "colab_type": "code",
        "colab": {}
      },
      "source": [
        "class NeuralModel:\n",
        "  def __init__(self, n, vocab = None):\n",
        "    \"\"\"Language model constructor\n",
        "    n -- n-gram size\n",
        "    vocab -- optional fixed vocabulary for the model\n",
        "    \"\"\"\n",
        "    self.n = n\n",
        "    self.vocab = vocab\n",
        "\n",
        "  def log_prob(self, word, context=None):\n",
        "    \"\"\"This method returns probability of a word with given context: P(w_t | w_{t - 1}...w_{t - n + 1})\n",
        "    \n",
        "    For example:\n",
        "    >>> lm.prob('hello', context=('world',))\n",
        "    0.99988\n",
        "    \"\"\"\n",
        "    self.nn_model.eval()\n",
        "    context = np.array([self.word_to_id.get(word, self.word_to_id['unk']) for word in context])\n",
        "    context_idxs = torch.tensor(context.reshape(1,-1), dtype=torch.long)\n",
        "    x_gpu = context_idxs.to(device)   \n",
        "    log_probs = self.nn_model(x_gpu).cpu().detach().numpy()\n",
        "    return log_probs[0,self.word_to_id.get(word, self.word_to_id['unk'])]\n",
        "    \n",
        "    \n",
        "\n",
        "  def generate_text(self, text_length):\n",
        "    \"\"\"This method generates random text of length \n",
        "    \n",
        "    For example\n",
        "    >>> lm.generate_text(2)\n",
        "    hello world\n",
        "\n",
        "    \"\"\"\n",
        "    # we begin from <s><s>... n-1 times\n",
        "    text = ['<s>'] * (self.n-1)\n",
        "    for j in range(text_length):\n",
        "      # evaluate probabilities of each word for current context\n",
        "      probs = np.zeros(shape=(len(self.vocab)))\n",
        "      for i, word in enumerate(self.vocab):\n",
        "        probs[i] = np.exp(self.log_prob(word=word, context=text[j:]))\n",
        "      # normalize probabilitities due to some computational issues\n",
        "      probs = np.asarray(probs).astype('float64')\n",
        "      probs = probs / np.sum(probs)\n",
        "      # generate word index accordingly to distribution\n",
        "      rv = np.random.multinomial(1, probs, 1)\n",
        "      idx = rv.argmax()\n",
        "      # add word to text\n",
        "      text.append(self.vocab[idx])\n",
        "    # postprocess generated text\n",
        "    str_text = ' '. join(text)\n",
        "    str_text = str_text.replace('<s> ', \"\")\n",
        "    str_text = str_text.replace(' </s>', \"\")\n",
        "    return str_text\n",
        "  \n",
        "  @staticmethod\n",
        "  def construct_samples(text, n, word_to_id):\n",
        "      X, y = [], []\n",
        "      number_of_samples = len(text) - n + 1\n",
        "      for i in range(number_of_samples):\n",
        "        X.append(np.array([word_to_id.get(word, word_to_id['unk']) for word in text[i:i+n-1]]))\n",
        "        y.append(np.array(word_to_id.get(text[i+n-1], word_to_id['unk'])))\n",
        "      X = np.array(X)\n",
        "      y = np.array(y)\n",
        "      return X, y\n",
        "\n",
        "  def update(self, sequence_of_tokens, val_sequence):\n",
        "    \"\"\"This method learns probabiities based on given sequence of tokents\n",
        "    \n",
        "    sequence_of_tokens -- iterable of tokens\n",
        "\n",
        "    For example\n",
        "    >>> lm.update(['hello', 'world'])\n",
        "    \"\"\"\n",
        "    self.vocab = list(set(sequence_of_tokens))\n",
        "    self.vocab.append('unk')\n",
        "    self.voc_size = len(self.vocab)\n",
        "    self.word_to_id = {word:i for i, word in enumerate(self.vocab)}\n",
        "    self.id_to_word = {i:word for word, i in self.word_to_id.items()}\n",
        "\n",
        "    X_train, y_train = NeuralModel.construct_samples(sequence_of_tokens, self.n, self.word_to_id)\n",
        "    X_val, y_val = NeuralModel.construct_samples(val_sequence, self.n, self.word_to_id)\n",
        "\n",
        "    \n",
        "    # prepare network\n",
        "    class Flattener(nn.Module):\n",
        "      def forward(self, x):\n",
        "        batch_size, *_ = x.shape\n",
        "        return x.view(batch_size, -1)\n",
        "\n",
        "    self.nn_model = nn.Sequential(\n",
        "              nn.Embedding(self.voc_size, 10),\n",
        "              Flattener(),\n",
        "              nn.Linear((self.n-1)*10, 100),\n",
        "              nn.ReLU(inplace=True),\n",
        "              nn.Linear(100, self.voc_size),\n",
        "              nn.LogSoftmax(dim=1)\n",
        "          )\n",
        "    self.nn_model.type(torch.cuda.FloatTensor)\n",
        "    loss_function = nn.NLLLoss().type(torch.cuda.FloatTensor)\n",
        "    optimizer = optim.SGD(self.nn_model.parameters(), lr=1e-2, weight_decay=1e-3)\n",
        "    self.train_network(optimizer, loss_function, X_train, y_train, X_val, y_val)\n",
        "  \n",
        "  def train_network(self, optimizer, loss_function, X_train, y_train, X_val, y_val):\n",
        "    train_subset_size = 10000\n",
        "    val_subset_size = 2000\n",
        "    batch_size = 1000\n",
        "    train_losses, val_losses = [], []\n",
        "    scheduler = optim.lr_scheduler.StepLR(optimizer, step_size=8, gamma=0.2)\n",
        "\n",
        "    for epoch in range(70):\n",
        "      total_train_loss, total_val_loss = 0, 0\n",
        "      # enter train mode\n",
        "      self.nn_model.train()\n",
        "      # create random subset of train data\n",
        "      indices = list(range(X_train.shape[0]))\n",
        "      chosen_indices = np.random.choice(indices,train_subset_size)\n",
        "      X,y = X_train[chosen_indices,:], y_train[chosen_indices]\n",
        "      # train by batches\n",
        "      for i in range(train_subset_size // batch_size):\n",
        "        # create batch and send to GPU\n",
        "        context_idxs = torch.tensor(X[i:(i+1)*batch_size, :], dtype=torch.long)\n",
        "        y_gpu = torch.tensor(y[i:(i+1)*batch_size], dtype=torch.long).to(device)\n",
        "        x_gpu = context_idxs.to(device)\n",
        "        # delete previously accumulated gradients\n",
        "        self.nn_model.zero_grad()\n",
        "        # calc log probs\n",
        "        log_probs = self.nn_model(x_gpu)\n",
        "        # calc loss\n",
        "        loss = loss_function(log_probs, y_gpu)\n",
        "        # perform backward pass and update weights\n",
        "        loss.backward()\n",
        "        optimizer.step()\n",
        "        # calculate total loss\n",
        "        total_train_loss += loss.item() \n",
        "        \n",
        "      # enter evaluation mode\n",
        "      self.nn_model.eval()\n",
        "      # create random subset of train data\n",
        "      indices = list(range(X_val.shape[0]))\n",
        "      chosen_indices = np.random.choice(indices,val_subset_size)\n",
        "      X,y = X_val[chosen_indices,:], y_val[chosen_indices]\n",
        "\n",
        "      for i in range(val_subset_size // batch_size):\n",
        "        # create batch and send to GPU\n",
        "        context_idxs = torch.tensor(X[i:(i+1)*batch_size, :], dtype=torch.long)\n",
        "        y_gpu = torch.tensor(y[i:(i+1)*batch_size], dtype=torch.long).to(device)\n",
        "        x_gpu = context_idxs.to(device)\n",
        "        # calc log probs\n",
        "        log_probs = self.nn_model(x_gpu)\n",
        "        loss = loss_function(log_probs, y_gpu)\n",
        "        # calculate total loss\n",
        "        total_val_loss += loss.item() \n",
        "\n",
        "      print('Average train loss {}, average validation loss {}'.format(total_train_loss/train_subset_size, total_val_loss/val_subset_size))\n",
        "      train_losses.append(total_train_loss/train_subset_size)\n",
        "      val_losses.append(total_val_loss/val_subset_size)\n",
        "      scheduler.step()\n",
        "\n",
        "  def perplexity(self, sequence_of_tokens):\n",
        "    \"\"\"This method returns perplexity for a given sequence of tokens\n",
        "    \n",
        "    sequence_of_tokens -- iterable of tokens\n",
        "    \"\"\"\n",
        "    log_prob = 0\n",
        "    for i in range(n-1,len(sequence_of_tokens)):\n",
        "      log_prob += self.log_prob(word=sequence_of_tokens[i],\n",
        "                                   context=sequence_of_tokens[i-(n-1):i])\n",
        "    return np.exp(-log_prob/len(sequence_of_tokens))"
      ],
      "execution_count": 0,
      "outputs": []
    },
    {
      "cell_type": "code",
      "metadata": {
        "id": "j6Psr8nRBaSs",
        "colab_type": "code",
        "outputId": "0311c303-d841-44c9-a4a7-88abd4626351",
        "colab": {
          "base_uri": "https://localhost:8080/",
          "height": 1000
        }
      },
      "source": [
        "\n",
        "model = NeuralModel(n=n)\n",
        "model.update(train_text, val_text)\n",
        "print(model.perplexity(test_text))"
      ],
      "execution_count": 0,
      "outputs": [
        {
          "output_type": "stream",
          "text": [
            "Average train loss 0.009770707321166992, average validation loss 0.009739654064178467\n",
            "Average train loss 0.009715864849090577, average validation loss 0.009669081687927246\n",
            "Average train loss 0.009656036567687988, average validation loss 0.009610511302947999\n",
            "Average train loss 0.009592117023468018, average validation loss 0.009576213359832764\n",
            "Average train loss 0.009550999450683594, average validation loss 0.009498851776123047\n",
            "Average train loss 0.009472842693328858, average validation loss 0.009441829204559327\n",
            "Average train loss 0.009421945095062256, average validation loss 0.009393834590911865\n",
            "Average train loss 0.009351820278167725, average validation loss 0.009303159713745117\n",
            "Average train loss 0.009285266494750977, average validation loss 0.009250799179077148\n",
            "Average train loss 0.009247965908050538, average validation loss 0.009233259201049804\n",
            "Average train loss 0.009242447090148926, average validation loss 0.009225929260253906\n",
            "Average train loss 0.009231700801849365, average validation loss 0.009279324531555175\n",
            "Average train loss 0.009215861415863037, average validation loss 0.009187841415405273\n",
            "Average train loss 0.009183652591705322, average validation loss 0.009152101039886475\n",
            "Average train loss 0.009176928043365479, average validation loss 0.00911851167678833\n",
            "Average train loss 0.009180270385742187, average validation loss 0.009165964603424072\n",
            "Average train loss 0.009139041805267334, average validation loss 0.009149905681610107\n",
            "Average train loss 0.009120418071746825, average validation loss 0.009150221347808837\n",
            "Average train loss 0.009117572402954102, average validation loss 0.009147700786590576\n",
            "Average train loss 0.009116428661346435, average validation loss 0.009124385833740234\n",
            "Average train loss 0.009101767730712891, average validation loss 0.009101768970489503\n",
            "Average train loss 0.00912325963973999, average validation loss 0.009070661067962647\n",
            "Average train loss 0.009109453582763672, average validation loss 0.009122069835662841\n",
            "Average train loss 0.00912503423690796, average validation loss 0.009144941806793212\n",
            "Average train loss 0.009106515502929688, average validation loss 0.009090822219848632\n",
            "Average train loss 0.009127903079986573, average validation loss 0.009034150123596192\n",
            "Average train loss 0.009088460063934326, average validation loss 0.009081591129302978\n",
            "Average train loss 0.009101858234405518, average validation loss 0.00912026309967041\n",
            "Average train loss 0.009094401836395264, average validation loss 0.00908341360092163\n",
            "Average train loss 0.009110766315460206, average validation loss 0.00909663200378418\n",
            "Average train loss 0.00911801929473877, average validation loss 0.009085335731506348\n",
            "Average train loss 0.009119724750518799, average validation loss 0.009105276584625245\n",
            "Average train loss 0.009077265644073487, average validation loss 0.009052150249481201\n",
            "Average train loss 0.009086451816558839, average validation loss 0.00911411476135254\n",
            "Average train loss 0.0091205828666687, average validation loss 0.009101679801940918\n",
            "Average train loss 0.009130084705352783, average validation loss 0.009092004776000976\n",
            "Average train loss 0.009108929634094239, average validation loss 0.009132410526275635\n",
            "Average train loss 0.00909937744140625, average validation loss 0.009131932258605957\n",
            "Average train loss 0.009126048278808594, average validation loss 0.009117875099182129\n",
            "Average train loss 0.009108307361602784, average validation loss 0.009128997325897217\n",
            "Average train loss 0.009134290409088135, average validation loss 0.009109950065612793\n",
            "Average train loss 0.009108180141448975, average validation loss 0.00913357400894165\n",
            "Average train loss 0.009118785476684571, average validation loss 0.009122306346893311\n",
            "Average train loss 0.009109414577484131, average validation loss 0.009012279987335205\n",
            "Average train loss 0.009084173774719238, average validation loss 0.009127806663513184\n",
            "Average train loss 0.009106284046173096, average validation loss 0.009054944038391114\n",
            "Average train loss 0.009122076988220216, average validation loss 0.009066616535186768\n",
            "Average train loss 0.009088149833679199, average validation loss 0.009040302753448486\n",
            "Average train loss 0.009108526611328126, average validation loss 0.009123863220214844\n",
            "Average train loss 0.009076222133636475, average validation loss 0.009084926128387452\n",
            "Average train loss 0.009112259387969971, average validation loss 0.00904768419265747\n",
            "Average train loss 0.009106846618652343, average validation loss 0.009086694240570068\n",
            "Average train loss 0.009123739814758301, average validation loss 0.009040067672729492\n",
            "Average train loss 0.009104028701782226, average validation loss 0.009123315334320068\n",
            "Average train loss 0.009107329082489013, average validation loss 0.009098816394805908\n",
            "Average train loss 0.009112041473388672, average validation loss 0.009081599235534667\n",
            "Average train loss 0.00912725248336792, average validation loss 0.009132243633270264\n",
            "Average train loss 0.009128128623962402, average validation loss 0.009074146270751954\n",
            "Average train loss 0.00911574649810791, average validation loss 0.009100633144378662\n",
            "Average train loss 0.0091060866355896, average validation loss 0.009040284156799316\n",
            "Average train loss 0.009110114192962647, average validation loss 0.009093471050262451\n",
            "Average train loss 0.009099807834625244, average validation loss 0.009065906047821044\n",
            "Average train loss 0.00912049789428711, average validation loss 0.009043176651000977\n",
            "Average train loss 0.00909509792327881, average validation loss 0.009109918117523194\n",
            "Average train loss 0.009108895874023437, average validation loss 0.009041625022888184\n",
            "Average train loss 0.009090291404724121, average validation loss 0.009070644855499268\n",
            "Average train loss 0.009134163475036622, average validation loss 0.009058165550231933\n",
            "Average train loss 0.009087813663482667, average validation loss 0.009067556858062743\n",
            "Average train loss 0.009106706809997558, average validation loss 0.009133805274963379\n",
            "Average train loss 0.009101484775543213, average validation loss 0.009096466064453124\n",
            "9203.763065729423\n"
          ],
          "name": "stdout"
        }
      ]
    },
    {
      "cell_type": "code",
      "metadata": {
        "id": "kTNuCVSbJ3lc",
        "colab_type": "code",
        "outputId": "378168b2-6aab-471a-dada-22e7fa3ba242",
        "colab": {
          "base_uri": "https://localhost:8080/",
          "height": 33
        }
      },
      "source": [
        "print(model.generate_text(10))"
      ],
      "execution_count": 0,
      "outputs": [
        {
          "output_type": "stream",
          "text": [
            "beggared pink ranges overwhelming bowed stoics discontents wretches me mitigate\n"
          ],
          "name": "stdout"
        }
      ]
    }
  ]
}