{
  "nbformat": 4,
  "nbformat_minor": 0,
  "metadata": {
    "colab": {
      "name": "NLPHW1.ipynb",
      "provenance": [],
      "collapsed_sections": [],
      "toc_visible": true
    },
    "kernelspec": {
      "name": "python3",
      "display_name": "Python 3"
    },
    "widgets": {
      "application/vnd.jupyter.widget-state+json": {
        "0681c80e5a0344f28254c0737d77d84f": {
          "model_module": "@jupyter-widgets/controls",
          "model_name": "HBoxModel",
          "state": {
            "_view_name": "HBoxView",
            "_dom_classes": [],
            "_model_name": "HBoxModel",
            "_view_module": "@jupyter-widgets/controls",
            "_model_module_version": "1.5.0",
            "_view_count": null,
            "_view_module_version": "1.5.0",
            "box_style": "",
            "layout": "IPY_MODEL_acb8ec0393824a449cfab62d5dce112f",
            "_model_module": "@jupyter-widgets/controls",
            "children": [
              "IPY_MODEL_c9f1e625435b43a4996cd7319375136e",
              "IPY_MODEL_0f78823a3d654354831f1acb3dab237c"
            ]
          }
        },
        "acb8ec0393824a449cfab62d5dce112f": {
          "model_module": "@jupyter-widgets/base",
          "model_name": "LayoutModel",
          "state": {
            "_view_name": "LayoutView",
            "grid_template_rows": null,
            "right": null,
            "justify_content": null,
            "_view_module": "@jupyter-widgets/base",
            "overflow": null,
            "_model_module_version": "1.2.0",
            "_view_count": null,
            "flex_flow": null,
            "width": null,
            "min_width": null,
            "border": null,
            "align_items": null,
            "bottom": null,
            "_model_module": "@jupyter-widgets/base",
            "top": null,
            "grid_column": null,
            "overflow_y": null,
            "overflow_x": null,
            "grid_auto_flow": null,
            "grid_area": null,
            "grid_template_columns": null,
            "flex": null,
            "_model_name": "LayoutModel",
            "justify_items": null,
            "grid_row": null,
            "max_height": null,
            "align_content": null,
            "visibility": null,
            "align_self": null,
            "height": null,
            "min_height": null,
            "padding": null,
            "grid_auto_rows": null,
            "grid_gap": null,
            "max_width": null,
            "order": null,
            "_view_module_version": "1.2.0",
            "grid_template_areas": null,
            "object_position": null,
            "object_fit": null,
            "grid_auto_columns": null,
            "margin": null,
            "display": null,
            "left": null
          }
        },
        "c9f1e625435b43a4996cd7319375136e": {
          "model_module": "@jupyter-widgets/controls",
          "model_name": "FloatProgressModel",
          "state": {
            "_view_name": "ProgressView",
            "style": "IPY_MODEL_5722a3ad2c6f4d1aa1615f050bf785c6",
            "_dom_classes": [],
            "description": "Downloading: 100%",
            "_model_name": "FloatProgressModel",
            "bar_style": "success",
            "max": 481,
            "_view_module": "@jupyter-widgets/controls",
            "_model_module_version": "1.5.0",
            "value": 481,
            "_view_count": null,
            "_view_module_version": "1.5.0",
            "orientation": "horizontal",
            "min": 0,
            "description_tooltip": null,
            "_model_module": "@jupyter-widgets/controls",
            "layout": "IPY_MODEL_f2216493549e41d18d36fdd207064967"
          }
        },
        "0f78823a3d654354831f1acb3dab237c": {
          "model_module": "@jupyter-widgets/controls",
          "model_name": "HTMLModel",
          "state": {
            "_view_name": "HTMLView",
            "style": "IPY_MODEL_71d9b4a2e6cc4c55badfcb6f66c256f3",
            "_dom_classes": [],
            "description": "",
            "_model_name": "HTMLModel",
            "placeholder": "​",
            "_view_module": "@jupyter-widgets/controls",
            "_model_module_version": "1.5.0",
            "value": " 481/481 [00:00&lt;00:00, 2.15kB/s]",
            "_view_count": null,
            "_view_module_version": "1.5.0",
            "description_tooltip": null,
            "_model_module": "@jupyter-widgets/controls",
            "layout": "IPY_MODEL_820ce7987b474192ab8e40a0c462a23a"
          }
        },
        "5722a3ad2c6f4d1aa1615f050bf785c6": {
          "model_module": "@jupyter-widgets/controls",
          "model_name": "ProgressStyleModel",
          "state": {
            "_view_name": "StyleView",
            "_model_name": "ProgressStyleModel",
            "description_width": "initial",
            "_view_module": "@jupyter-widgets/base",
            "_model_module_version": "1.5.0",
            "_view_count": null,
            "_view_module_version": "1.2.0",
            "bar_color": null,
            "_model_module": "@jupyter-widgets/controls"
          }
        },
        "f2216493549e41d18d36fdd207064967": {
          "model_module": "@jupyter-widgets/base",
          "model_name": "LayoutModel",
          "state": {
            "_view_name": "LayoutView",
            "grid_template_rows": null,
            "right": null,
            "justify_content": null,
            "_view_module": "@jupyter-widgets/base",
            "overflow": null,
            "_model_module_version": "1.2.0",
            "_view_count": null,
            "flex_flow": null,
            "width": null,
            "min_width": null,
            "border": null,
            "align_items": null,
            "bottom": null,
            "_model_module": "@jupyter-widgets/base",
            "top": null,
            "grid_column": null,
            "overflow_y": null,
            "overflow_x": null,
            "grid_auto_flow": null,
            "grid_area": null,
            "grid_template_columns": null,
            "flex": null,
            "_model_name": "LayoutModel",
            "justify_items": null,
            "grid_row": null,
            "max_height": null,
            "align_content": null,
            "visibility": null,
            "align_self": null,
            "height": null,
            "min_height": null,
            "padding": null,
            "grid_auto_rows": null,
            "grid_gap": null,
            "max_width": null,
            "order": null,
            "_view_module_version": "1.2.0",
            "grid_template_areas": null,
            "object_position": null,
            "object_fit": null,
            "grid_auto_columns": null,
            "margin": null,
            "display": null,
            "left": null
          }
        },
        "71d9b4a2e6cc4c55badfcb6f66c256f3": {
          "model_module": "@jupyter-widgets/controls",
          "model_name": "DescriptionStyleModel",
          "state": {
            "_view_name": "StyleView",
            "_model_name": "DescriptionStyleModel",
            "description_width": "",
            "_view_module": "@jupyter-widgets/base",
            "_model_module_version": "1.5.0",
            "_view_count": null,
            "_view_module_version": "1.2.0",
            "_model_module": "@jupyter-widgets/controls"
          }
        },
        "820ce7987b474192ab8e40a0c462a23a": {
          "model_module": "@jupyter-widgets/base",
          "model_name": "LayoutModel",
          "state": {
            "_view_name": "LayoutView",
            "grid_template_rows": null,
            "right": null,
            "justify_content": null,
            "_view_module": "@jupyter-widgets/base",
            "overflow": null,
            "_model_module_version": "1.2.0",
            "_view_count": null,
            "flex_flow": null,
            "width": null,
            "min_width": null,
            "border": null,
            "align_items": null,
            "bottom": null,
            "_model_module": "@jupyter-widgets/base",
            "top": null,
            "grid_column": null,
            "overflow_y": null,
            "overflow_x": null,
            "grid_auto_flow": null,
            "grid_area": null,
            "grid_template_columns": null,
            "flex": null,
            "_model_name": "LayoutModel",
            "justify_items": null,
            "grid_row": null,
            "max_height": null,
            "align_content": null,
            "visibility": null,
            "align_self": null,
            "height": null,
            "min_height": null,
            "padding": null,
            "grid_auto_rows": null,
            "grid_gap": null,
            "max_width": null,
            "order": null,
            "_view_module_version": "1.2.0",
            "grid_template_areas": null,
            "object_position": null,
            "object_fit": null,
            "grid_auto_columns": null,
            "margin": null,
            "display": null,
            "left": null
          }
        },
        "b385c804a3d94fe798ca7b26c0a93d12": {
          "model_module": "@jupyter-widgets/controls",
          "model_name": "HBoxModel",
          "state": {
            "_view_name": "HBoxView",
            "_dom_classes": [],
            "_model_name": "HBoxModel",
            "_view_module": "@jupyter-widgets/controls",
            "_model_module_version": "1.5.0",
            "_view_count": null,
            "_view_module_version": "1.5.0",
            "box_style": "",
            "layout": "IPY_MODEL_646c0b8443a241afa47245d7009f8615",
            "_model_module": "@jupyter-widgets/controls",
            "children": [
              "IPY_MODEL_4ff668578c61447dbf72109b089dcfe5",
              "IPY_MODEL_80eb389ab6814663aa3b07fc396d9ab2"
            ]
          }
        },
        "646c0b8443a241afa47245d7009f8615": {
          "model_module": "@jupyter-widgets/base",
          "model_name": "LayoutModel",
          "state": {
            "_view_name": "LayoutView",
            "grid_template_rows": null,
            "right": null,
            "justify_content": null,
            "_view_module": "@jupyter-widgets/base",
            "overflow": null,
            "_model_module_version": "1.2.0",
            "_view_count": null,
            "flex_flow": null,
            "width": null,
            "min_width": null,
            "border": null,
            "align_items": null,
            "bottom": null,
            "_model_module": "@jupyter-widgets/base",
            "top": null,
            "grid_column": null,
            "overflow_y": null,
            "overflow_x": null,
            "grid_auto_flow": null,
            "grid_area": null,
            "grid_template_columns": null,
            "flex": null,
            "_model_name": "LayoutModel",
            "justify_items": null,
            "grid_row": null,
            "max_height": null,
            "align_content": null,
            "visibility": null,
            "align_self": null,
            "height": null,
            "min_height": null,
            "padding": null,
            "grid_auto_rows": null,
            "grid_gap": null,
            "max_width": null,
            "order": null,
            "_view_module_version": "1.2.0",
            "grid_template_areas": null,
            "object_position": null,
            "object_fit": null,
            "grid_auto_columns": null,
            "margin": null,
            "display": null,
            "left": null
          }
        },
        "4ff668578c61447dbf72109b089dcfe5": {
          "model_module": "@jupyter-widgets/controls",
          "model_name": "FloatProgressModel",
          "state": {
            "_view_name": "ProgressView",
            "style": "IPY_MODEL_2b1dc24652c2455c80fd95349d56b839",
            "_dom_classes": [],
            "description": "Downloading: 100%",
            "_model_name": "FloatProgressModel",
            "bar_style": "success",
            "max": 501200538,
            "_view_module": "@jupyter-widgets/controls",
            "_model_module_version": "1.5.0",
            "value": 501200538,
            "_view_count": null,
            "_view_module_version": "1.5.0",
            "orientation": "horizontal",
            "min": 0,
            "description_tooltip": null,
            "_model_module": "@jupyter-widgets/controls",
            "layout": "IPY_MODEL_d6b847501f8943729fdbdbb600c3f114"
          }
        },
        "80eb389ab6814663aa3b07fc396d9ab2": {
          "model_module": "@jupyter-widgets/controls",
          "model_name": "HTMLModel",
          "state": {
            "_view_name": "HTMLView",
            "style": "IPY_MODEL_fbaedd0eef8442b78a89b0f65bca4663",
            "_dom_classes": [],
            "description": "",
            "_model_name": "HTMLModel",
            "placeholder": "​",
            "_view_module": "@jupyter-widgets/controls",
            "_model_module_version": "1.5.0",
            "value": " 501M/501M [00:10&lt;00:00, 48.9MB/s]",
            "_view_count": null,
            "_view_module_version": "1.5.0",
            "description_tooltip": null,
            "_model_module": "@jupyter-widgets/controls",
            "layout": "IPY_MODEL_b5ab60ad75324d6e9d8e98e9657b1f94"
          }
        },
        "2b1dc24652c2455c80fd95349d56b839": {
          "model_module": "@jupyter-widgets/controls",
          "model_name": "ProgressStyleModel",
          "state": {
            "_view_name": "StyleView",
            "_model_name": "ProgressStyleModel",
            "description_width": "initial",
            "_view_module": "@jupyter-widgets/base",
            "_model_module_version": "1.5.0",
            "_view_count": null,
            "_view_module_version": "1.2.0",
            "bar_color": null,
            "_model_module": "@jupyter-widgets/controls"
          }
        },
        "d6b847501f8943729fdbdbb600c3f114": {
          "model_module": "@jupyter-widgets/base",
          "model_name": "LayoutModel",
          "state": {
            "_view_name": "LayoutView",
            "grid_template_rows": null,
            "right": null,
            "justify_content": null,
            "_view_module": "@jupyter-widgets/base",
            "overflow": null,
            "_model_module_version": "1.2.0",
            "_view_count": null,
            "flex_flow": null,
            "width": null,
            "min_width": null,
            "border": null,
            "align_items": null,
            "bottom": null,
            "_model_module": "@jupyter-widgets/base",
            "top": null,
            "grid_column": null,
            "overflow_y": null,
            "overflow_x": null,
            "grid_auto_flow": null,
            "grid_area": null,
            "grid_template_columns": null,
            "flex": null,
            "_model_name": "LayoutModel",
            "justify_items": null,
            "grid_row": null,
            "max_height": null,
            "align_content": null,
            "visibility": null,
            "align_self": null,
            "height": null,
            "min_height": null,
            "padding": null,
            "grid_auto_rows": null,
            "grid_gap": null,
            "max_width": null,
            "order": null,
            "_view_module_version": "1.2.0",
            "grid_template_areas": null,
            "object_position": null,
            "object_fit": null,
            "grid_auto_columns": null,
            "margin": null,
            "display": null,
            "left": null
          }
        },
        "fbaedd0eef8442b78a89b0f65bca4663": {
          "model_module": "@jupyter-widgets/controls",
          "model_name": "DescriptionStyleModel",
          "state": {
            "_view_name": "StyleView",
            "_model_name": "DescriptionStyleModel",
            "description_width": "",
            "_view_module": "@jupyter-widgets/base",
            "_model_module_version": "1.5.0",
            "_view_count": null,
            "_view_module_version": "1.2.0",
            "_model_module": "@jupyter-widgets/controls"
          }
        },
        "b5ab60ad75324d6e9d8e98e9657b1f94": {
          "model_module": "@jupyter-widgets/base",
          "model_name": "LayoutModel",
          "state": {
            "_view_name": "LayoutView",
            "grid_template_rows": null,
            "right": null,
            "justify_content": null,
            "_view_module": "@jupyter-widgets/base",
            "overflow": null,
            "_model_module_version": "1.2.0",
            "_view_count": null,
            "flex_flow": null,
            "width": null,
            "min_width": null,
            "border": null,
            "align_items": null,
            "bottom": null,
            "_model_module": "@jupyter-widgets/base",
            "top": null,
            "grid_column": null,
            "overflow_y": null,
            "overflow_x": null,
            "grid_auto_flow": null,
            "grid_area": null,
            "grid_template_columns": null,
            "flex": null,
            "_model_name": "LayoutModel",
            "justify_items": null,
            "grid_row": null,
            "max_height": null,
            "align_content": null,
            "visibility": null,
            "align_self": null,
            "height": null,
            "min_height": null,
            "padding": null,
            "grid_auto_rows": null,
            "grid_gap": null,
            "max_width": null,
            "order": null,
            "_view_module_version": "1.2.0",
            "grid_template_areas": null,
            "object_position": null,
            "object_fit": null,
            "grid_auto_columns": null,
            "margin": null,
            "display": null,
            "left": null
          }
        },
        "19563b08adfe437f89e1e15c30f2d81b": {
          "model_module": "@jupyter-widgets/controls",
          "model_name": "HBoxModel",
          "state": {
            "_view_name": "HBoxView",
            "_dom_classes": [],
            "_model_name": "HBoxModel",
            "_view_module": "@jupyter-widgets/controls",
            "_model_module_version": "1.5.0",
            "_view_count": null,
            "_view_module_version": "1.5.0",
            "box_style": "",
            "layout": "IPY_MODEL_95b708126bf54e308c53400db1f6a44f",
            "_model_module": "@jupyter-widgets/controls",
            "children": [
              "IPY_MODEL_8f9da959b4154f069abf3f607884c903",
              "IPY_MODEL_ba2fe3ee70f24c3aaf035f99dcdd78a1"
            ]
          }
        },
        "95b708126bf54e308c53400db1f6a44f": {
          "model_module": "@jupyter-widgets/base",
          "model_name": "LayoutModel",
          "state": {
            "_view_name": "LayoutView",
            "grid_template_rows": null,
            "right": null,
            "justify_content": null,
            "_view_module": "@jupyter-widgets/base",
            "overflow": null,
            "_model_module_version": "1.2.0",
            "_view_count": null,
            "flex_flow": null,
            "width": null,
            "min_width": null,
            "border": null,
            "align_items": null,
            "bottom": null,
            "_model_module": "@jupyter-widgets/base",
            "top": null,
            "grid_column": null,
            "overflow_y": null,
            "overflow_x": null,
            "grid_auto_flow": null,
            "grid_area": null,
            "grid_template_columns": null,
            "flex": null,
            "_model_name": "LayoutModel",
            "justify_items": null,
            "grid_row": null,
            "max_height": null,
            "align_content": null,
            "visibility": null,
            "align_self": null,
            "height": null,
            "min_height": null,
            "padding": null,
            "grid_auto_rows": null,
            "grid_gap": null,
            "max_width": null,
            "order": null,
            "_view_module_version": "1.2.0",
            "grid_template_areas": null,
            "object_position": null,
            "object_fit": null,
            "grid_auto_columns": null,
            "margin": null,
            "display": null,
            "left": null
          }
        },
        "8f9da959b4154f069abf3f607884c903": {
          "model_module": "@jupyter-widgets/controls",
          "model_name": "FloatProgressModel",
          "state": {
            "_view_name": "ProgressView",
            "style": "IPY_MODEL_12277f65abf04fa8ab9f1b6b431faf07",
            "_dom_classes": [],
            "description": "Downloading: 100%",
            "_model_name": "FloatProgressModel",
            "bar_style": "success",
            "max": 898823,
            "_view_module": "@jupyter-widgets/controls",
            "_model_module_version": "1.5.0",
            "value": 898823,
            "_view_count": null,
            "_view_module_version": "1.5.0",
            "orientation": "horizontal",
            "min": 0,
            "description_tooltip": null,
            "_model_module": "@jupyter-widgets/controls",
            "layout": "IPY_MODEL_c702418a9c2a44b0ba2bd73c19cfa3b0"
          }
        },
        "ba2fe3ee70f24c3aaf035f99dcdd78a1": {
          "model_module": "@jupyter-widgets/controls",
          "model_name": "HTMLModel",
          "state": {
            "_view_name": "HTMLView",
            "style": "IPY_MODEL_63cf107576bc4693b18fd8226aa17674",
            "_dom_classes": [],
            "description": "",
            "_model_name": "HTMLModel",
            "placeholder": "​",
            "_view_module": "@jupyter-widgets/controls",
            "_model_module_version": "1.5.0",
            "value": " 899k/899k [00:01&lt;00:00, 640kB/s]",
            "_view_count": null,
            "_view_module_version": "1.5.0",
            "description_tooltip": null,
            "_model_module": "@jupyter-widgets/controls",
            "layout": "IPY_MODEL_b93b4ea271014cfd9031532f4e7cb27a"
          }
        },
        "12277f65abf04fa8ab9f1b6b431faf07": {
          "model_module": "@jupyter-widgets/controls",
          "model_name": "ProgressStyleModel",
          "state": {
            "_view_name": "StyleView",
            "_model_name": "ProgressStyleModel",
            "description_width": "initial",
            "_view_module": "@jupyter-widgets/base",
            "_model_module_version": "1.5.0",
            "_view_count": null,
            "_view_module_version": "1.2.0",
            "bar_color": null,
            "_model_module": "@jupyter-widgets/controls"
          }
        },
        "c702418a9c2a44b0ba2bd73c19cfa3b0": {
          "model_module": "@jupyter-widgets/base",
          "model_name": "LayoutModel",
          "state": {
            "_view_name": "LayoutView",
            "grid_template_rows": null,
            "right": null,
            "justify_content": null,
            "_view_module": "@jupyter-widgets/base",
            "overflow": null,
            "_model_module_version": "1.2.0",
            "_view_count": null,
            "flex_flow": null,
            "width": null,
            "min_width": null,
            "border": null,
            "align_items": null,
            "bottom": null,
            "_model_module": "@jupyter-widgets/base",
            "top": null,
            "grid_column": null,
            "overflow_y": null,
            "overflow_x": null,
            "grid_auto_flow": null,
            "grid_area": null,
            "grid_template_columns": null,
            "flex": null,
            "_model_name": "LayoutModel",
            "justify_items": null,
            "grid_row": null,
            "max_height": null,
            "align_content": null,
            "visibility": null,
            "align_self": null,
            "height": null,
            "min_height": null,
            "padding": null,
            "grid_auto_rows": null,
            "grid_gap": null,
            "max_width": null,
            "order": null,
            "_view_module_version": "1.2.0",
            "grid_template_areas": null,
            "object_position": null,
            "object_fit": null,
            "grid_auto_columns": null,
            "margin": null,
            "display": null,
            "left": null
          }
        },
        "63cf107576bc4693b18fd8226aa17674": {
          "model_module": "@jupyter-widgets/controls",
          "model_name": "DescriptionStyleModel",
          "state": {
            "_view_name": "StyleView",
            "_model_name": "DescriptionStyleModel",
            "description_width": "",
            "_view_module": "@jupyter-widgets/base",
            "_model_module_version": "1.5.0",
            "_view_count": null,
            "_view_module_version": "1.2.0",
            "_model_module": "@jupyter-widgets/controls"
          }
        },
        "b93b4ea271014cfd9031532f4e7cb27a": {
          "model_module": "@jupyter-widgets/base",
          "model_name": "LayoutModel",
          "state": {
            "_view_name": "LayoutView",
            "grid_template_rows": null,
            "right": null,
            "justify_content": null,
            "_view_module": "@jupyter-widgets/base",
            "overflow": null,
            "_model_module_version": "1.2.0",
            "_view_count": null,
            "flex_flow": null,
            "width": null,
            "min_width": null,
            "border": null,
            "align_items": null,
            "bottom": null,
            "_model_module": "@jupyter-widgets/base",
            "top": null,
            "grid_column": null,
            "overflow_y": null,
            "overflow_x": null,
            "grid_auto_flow": null,
            "grid_area": null,
            "grid_template_columns": null,
            "flex": null,
            "_model_name": "LayoutModel",
            "justify_items": null,
            "grid_row": null,
            "max_height": null,
            "align_content": null,
            "visibility": null,
            "align_self": null,
            "height": null,
            "min_height": null,
            "padding": null,
            "grid_auto_rows": null,
            "grid_gap": null,
            "max_width": null,
            "order": null,
            "_view_module_version": "1.2.0",
            "grid_template_areas": null,
            "object_position": null,
            "object_fit": null,
            "grid_auto_columns": null,
            "margin": null,
            "display": null,
            "left": null
          }
        },
        "3068c5d0c6ef48c4900bb00fb17c9087": {
          "model_module": "@jupyter-widgets/controls",
          "model_name": "HBoxModel",
          "state": {
            "_view_name": "HBoxView",
            "_dom_classes": [],
            "_model_name": "HBoxModel",
            "_view_module": "@jupyter-widgets/controls",
            "_model_module_version": "1.5.0",
            "_view_count": null,
            "_view_module_version": "1.5.0",
            "box_style": "",
            "layout": "IPY_MODEL_aeecfce4beac47c5b5e165192fde8458",
            "_model_module": "@jupyter-widgets/controls",
            "children": [
              "IPY_MODEL_97124295085c4f3181c982723dd34dd0",
              "IPY_MODEL_f10a9b438de84f8c91246478e11f1c8f"
            ]
          }
        },
        "aeecfce4beac47c5b5e165192fde8458": {
          "model_module": "@jupyter-widgets/base",
          "model_name": "LayoutModel",
          "state": {
            "_view_name": "LayoutView",
            "grid_template_rows": null,
            "right": null,
            "justify_content": null,
            "_view_module": "@jupyter-widgets/base",
            "overflow": null,
            "_model_module_version": "1.2.0",
            "_view_count": null,
            "flex_flow": null,
            "width": null,
            "min_width": null,
            "border": null,
            "align_items": null,
            "bottom": null,
            "_model_module": "@jupyter-widgets/base",
            "top": null,
            "grid_column": null,
            "overflow_y": null,
            "overflow_x": null,
            "grid_auto_flow": null,
            "grid_area": null,
            "grid_template_columns": null,
            "flex": null,
            "_model_name": "LayoutModel",
            "justify_items": null,
            "grid_row": null,
            "max_height": null,
            "align_content": null,
            "visibility": null,
            "align_self": null,
            "height": null,
            "min_height": null,
            "padding": null,
            "grid_auto_rows": null,
            "grid_gap": null,
            "max_width": null,
            "order": null,
            "_view_module_version": "1.2.0",
            "grid_template_areas": null,
            "object_position": null,
            "object_fit": null,
            "grid_auto_columns": null,
            "margin": null,
            "display": null,
            "left": null
          }
        },
        "97124295085c4f3181c982723dd34dd0": {
          "model_module": "@jupyter-widgets/controls",
          "model_name": "FloatProgressModel",
          "state": {
            "_view_name": "ProgressView",
            "style": "IPY_MODEL_c32bcbc6c0874562b67c787e0e14fadc",
            "_dom_classes": [],
            "description": "Downloading: 100%",
            "_model_name": "FloatProgressModel",
            "bar_style": "success",
            "max": 456318,
            "_view_module": "@jupyter-widgets/controls",
            "_model_module_version": "1.5.0",
            "value": 456318,
            "_view_count": null,
            "_view_module_version": "1.5.0",
            "orientation": "horizontal",
            "min": 0,
            "description_tooltip": null,
            "_model_module": "@jupyter-widgets/controls",
            "layout": "IPY_MODEL_97cc957af07e41d09760baa3ae2bbf9d"
          }
        },
        "f10a9b438de84f8c91246478e11f1c8f": {
          "model_module": "@jupyter-widgets/controls",
          "model_name": "HTMLModel",
          "state": {
            "_view_name": "HTMLView",
            "style": "IPY_MODEL_3dbd69c5a3a449c5a3436390a4114c89",
            "_dom_classes": [],
            "description": "",
            "_model_name": "HTMLModel",
            "placeholder": "​",
            "_view_module": "@jupyter-widgets/controls",
            "_model_module_version": "1.5.0",
            "value": " 456k/456k [00:00&lt;00:00, 1.13MB/s]",
            "_view_count": null,
            "_view_module_version": "1.5.0",
            "description_tooltip": null,
            "_model_module": "@jupyter-widgets/controls",
            "layout": "IPY_MODEL_7e157f5da94a4fcfbe459c0dabf09a9a"
          }
        },
        "c32bcbc6c0874562b67c787e0e14fadc": {
          "model_module": "@jupyter-widgets/controls",
          "model_name": "ProgressStyleModel",
          "state": {
            "_view_name": "StyleView",
            "_model_name": "ProgressStyleModel",
            "description_width": "initial",
            "_view_module": "@jupyter-widgets/base",
            "_model_module_version": "1.5.0",
            "_view_count": null,
            "_view_module_version": "1.2.0",
            "bar_color": null,
            "_model_module": "@jupyter-widgets/controls"
          }
        },
        "97cc957af07e41d09760baa3ae2bbf9d": {
          "model_module": "@jupyter-widgets/base",
          "model_name": "LayoutModel",
          "state": {
            "_view_name": "LayoutView",
            "grid_template_rows": null,
            "right": null,
            "justify_content": null,
            "_view_module": "@jupyter-widgets/base",
            "overflow": null,
            "_model_module_version": "1.2.0",
            "_view_count": null,
            "flex_flow": null,
            "width": null,
            "min_width": null,
            "border": null,
            "align_items": null,
            "bottom": null,
            "_model_module": "@jupyter-widgets/base",
            "top": null,
            "grid_column": null,
            "overflow_y": null,
            "overflow_x": null,
            "grid_auto_flow": null,
            "grid_area": null,
            "grid_template_columns": null,
            "flex": null,
            "_model_name": "LayoutModel",
            "justify_items": null,
            "grid_row": null,
            "max_height": null,
            "align_content": null,
            "visibility": null,
            "align_self": null,
            "height": null,
            "min_height": null,
            "padding": null,
            "grid_auto_rows": null,
            "grid_gap": null,
            "max_width": null,
            "order": null,
            "_view_module_version": "1.2.0",
            "grid_template_areas": null,
            "object_position": null,
            "object_fit": null,
            "grid_auto_columns": null,
            "margin": null,
            "display": null,
            "left": null
          }
        },
        "3dbd69c5a3a449c5a3436390a4114c89": {
          "model_module": "@jupyter-widgets/controls",
          "model_name": "DescriptionStyleModel",
          "state": {
            "_view_name": "StyleView",
            "_model_name": "DescriptionStyleModel",
            "description_width": "",
            "_view_module": "@jupyter-widgets/base",
            "_model_module_version": "1.5.0",
            "_view_count": null,
            "_view_module_version": "1.2.0",
            "_model_module": "@jupyter-widgets/controls"
          }
        },
        "7e157f5da94a4fcfbe459c0dabf09a9a": {
          "model_module": "@jupyter-widgets/base",
          "model_name": "LayoutModel",
          "state": {
            "_view_name": "LayoutView",
            "grid_template_rows": null,
            "right": null,
            "justify_content": null,
            "_view_module": "@jupyter-widgets/base",
            "overflow": null,
            "_model_module_version": "1.2.0",
            "_view_count": null,
            "flex_flow": null,
            "width": null,
            "min_width": null,
            "border": null,
            "align_items": null,
            "bottom": null,
            "_model_module": "@jupyter-widgets/base",
            "top": null,
            "grid_column": null,
            "overflow_y": null,
            "overflow_x": null,
            "grid_auto_flow": null,
            "grid_area": null,
            "grid_template_columns": null,
            "flex": null,
            "_model_name": "LayoutModel",
            "justify_items": null,
            "grid_row": null,
            "max_height": null,
            "align_content": null,
            "visibility": null,
            "align_self": null,
            "height": null,
            "min_height": null,
            "padding": null,
            "grid_auto_rows": null,
            "grid_gap": null,
            "max_width": null,
            "order": null,
            "_view_module_version": "1.2.0",
            "grid_template_areas": null,
            "object_position": null,
            "object_fit": null,
            "grid_auto_columns": null,
            "margin": null,
            "display": null,
            "left": null
          }
        }
      }
    },
    "accelerator": "GPU"
  },
  "cells": [
    {
      "cell_type": "markdown",
      "metadata": {
        "id": "tpjDg8X3cVhM",
        "colab_type": "text"
      },
      "source": [
        "# All imports"
      ]
    },
    {
      "cell_type": "code",
      "metadata": {
        "id": "xRTwIegDaPhE",
        "colab_type": "code",
        "colab": {
          "base_uri": "https://localhost:8080/",
          "height": 117
        },
        "outputId": "82d4c8b0-1566-404a-d4df-b96d29f0ca97"
      },
      "source": [
        "# for files\n",
        "import os\n",
        "from google_drive_downloader import GoogleDriveDownloader as gdd\n",
        "# general\n",
        "import pandas as pd\n",
        "import numpy as np\n",
        "import seaborn as sns\n",
        "import matplotlib.pyplot as plt\n",
        "from tqdm import tqdm\n",
        "import re\n",
        "import gc\n",
        "import multiprocessing\n",
        "# nltk\n",
        "import nltk\n",
        "nltk.download(\"stopwords\")\n",
        "from nltk.corpus import stopwords\n",
        "cachedStopWords = stopwords.words(\"english\")\n",
        "from nltk import word_tokenize\n",
        "from nltk.stem.porter import PorterStemmer\n",
        "from nltk.stem import WordNetLemmatizer\n",
        "nltk.download('punkt')\n",
        "nltk.download('wordnet')\n",
        "from wordcloud import WordCloud\n",
        "# sklearn\n",
        "from sklearn.feature_extraction.text import CountVectorizer\n",
        "from sklearn.feature_extraction.text import TfidfVectorizer\n",
        "from sklearn.multioutput import MultiOutputClassifier\n",
        "from sklearn.linear_model import LogisticRegression\n",
        "from sklearn.metrics import classification_report\n",
        "from sklearn.model_selection import train_test_split\n",
        "from sklearn import utils\n",
        "# gensim\n",
        "from gensim.models.doc2vec import TaggedDocument\n",
        "from gensim.models import Doc2Vec\n",
        "import gensim.models.keyedvectors as word2vec\n",
        "# keras\n",
        "from keras.preprocessing.text import Tokenizer\n",
        "from keras.preprocessing.sequence import pad_sequences\n",
        "from keras.layers import Dense, Input, LSTM, Embedding, Dropout, Activation\n",
        "from keras.layers import Bidirectional, GlobalMaxPool1D,Bidirectional\n",
        "from keras.models import Model\n",
        "from keras import initializers, regularizers, constraints, optimizers, layers\n",
        "from keras.utils import Sequence"
      ],
      "execution_count": 17,
      "outputs": [
        {
          "output_type": "stream",
          "text": [
            "[nltk_data] Downloading package stopwords to /root/nltk_data...\n",
            "[nltk_data]   Package stopwords is already up-to-date!\n",
            "[nltk_data] Downloading package punkt to /root/nltk_data...\n",
            "[nltk_data]   Package punkt is already up-to-date!\n",
            "[nltk_data] Downloading package wordnet to /root/nltk_data...\n",
            "[nltk_data]   Package wordnet is already up-to-date!\n"
          ],
          "name": "stdout"
        }
      ]
    },
    {
      "cell_type": "code",
      "metadata": {
        "id": "jtXYTtNq85dR",
        "colab_type": "code",
        "colab": {}
      },
      "source": [
        "sns.set_style('dark')"
      ],
      "execution_count": 2,
      "outputs": []
    },
    {
      "cell_type": "markdown",
      "metadata": {
        "id": "dX8-ES5YcYDV",
        "colab_type": "text"
      },
      "source": [
        "# Load data"
      ]
    },
    {
      "cell_type": "code",
      "metadata": {
        "id": "Vrmpd2FhcUzf",
        "colab_type": "code",
        "colab": {
          "base_uri": "https://localhost:8080/",
          "height": 84
        },
        "outputId": "bb3bdc15-1916-4941-e556-d0eb43025a5d"
      },
      "source": [
        "if not os.path.exists('./data'):\n",
        "  os.mkdir('./data')\n",
        "\n",
        "gdd.download_file_from_google_drive(file_id='1e_-vl9IncR4T9P6KiCxVnmeOZJgxIAXr', dest_path='./data/train_csv.zip')\n",
        "gdd.download_file_from_google_drive(file_id='12aofsxmKuzE5wLeFmTA0qX6x5jKLDzGY', dest_path='./data/glove.zip')\n",
        "gdd.download_file_from_google_drive(file_id='18LzLy-AZDGafGy65YROc5r0XJaG23HBp', dest_path='./data/fasttext.zip')\n",
        "gdd.download_file_from_google_drive(file_id='1AUQ-vzZM3B-ieKl9qCagSWlo-888gmbK', dest_path='./data/word2vec.gz')"
      ],
      "execution_count": 3,
      "outputs": [
        {
          "output_type": "stream",
          "text": [
            "Downloading 1e_-vl9IncR4T9P6KiCxVnmeOZJgxIAXr into ./data/train_csv.zip... Done.\n",
            "Downloading 12aofsxmKuzE5wLeFmTA0qX6x5jKLDzGY into ./data/glove.zip... Done.\n",
            "Downloading 18LzLy-AZDGafGy65YROc5r0XJaG23HBp into ./data/fasttext.zip... Done.\n",
            "Downloading 1AUQ-vzZM3B-ieKl9qCagSWlo-888gmbK into ./data/word2vec.gz... Done.\n"
          ],
          "name": "stdout"
        }
      ]
    },
    {
      "cell_type": "code",
      "metadata": {
        "id": "ccugNU5ex8Iq",
        "colab_type": "code",
        "colab": {
          "base_uri": "https://localhost:8080/",
          "height": 54
        },
        "outputId": "60f63dca-ed49-424b-d089-402a5e831cd9"
      },
      "source": [
        "! unzip ./data/fasttext.zip"
      ],
      "execution_count": null,
      "outputs": [
        {
          "output_type": "stream",
          "text": [
            "Archive:  ./data/fasttext.zip\n",
            "  inflating: wiki-news-300d-1M.vec   \n"
          ],
          "name": "stdout"
        }
      ]
    },
    {
      "cell_type": "code",
      "metadata": {
        "id": "pATxlY01iOuO",
        "colab_type": "code",
        "colab": {}
      },
      "source": [
        "#! gunzip ./data/word2vec.gz"
      ],
      "execution_count": null,
      "outputs": []
    },
    {
      "cell_type": "code",
      "metadata": {
        "id": "F9Tx5vvrcsfA",
        "colab_type": "code",
        "colab": {
          "base_uri": "https://localhost:8080/",
          "height": 50
        },
        "outputId": "8cc0fa10-6e8d-4502-c150-b6e2d08e9e5f"
      },
      "source": [
        "! unzip ./data/train_csv.zip "
      ],
      "execution_count": 4,
      "outputs": [
        {
          "output_type": "stream",
          "text": [
            "Archive:  ./data/train_csv.zip\n",
            "  inflating: train.csv               \n"
          ],
          "name": "stdout"
        }
      ]
    },
    {
      "cell_type": "code",
      "metadata": {
        "id": "SWv8EqJfPiV3",
        "colab_type": "code",
        "colab": {
          "base_uri": "https://localhost:8080/",
          "height": 108
        },
        "outputId": "38380d3a-ba69-4d40-ed9e-523ca0a1d3d9"
      },
      "source": [
        "! unzip ./data/glove.zip -d ./glove"
      ],
      "execution_count": null,
      "outputs": [
        {
          "output_type": "stream",
          "text": [
            "Archive:  ./data/glove.zip\n",
            "  inflating: ./glove/glove.twitter.27B.25d.txt  \n",
            "  inflating: ./glove/glove.twitter.27B.50d.txt  \n",
            "  inflating: ./glove/glove.twitter.27B.100d.txt  \n",
            "  inflating: ./glove/glove.twitter.27B.200d.txt  \n"
          ],
          "name": "stdout"
        }
      ]
    },
    {
      "cell_type": "code",
      "metadata": {
        "id": "PiT9Hw82cy1D",
        "colab_type": "code",
        "colab": {}
      },
      "source": [
        "df = pd.read_csv('/content/train.csv')"
      ],
      "execution_count": 5,
      "outputs": []
    },
    {
      "cell_type": "markdown",
      "metadata": {
        "id": "LIzIk-MEdP75",
        "colab_type": "text"
      },
      "source": [
        "# EDA"
      ]
    },
    {
      "cell_type": "code",
      "metadata": {
        "id": "MNkqQj83dQoD",
        "colab_type": "code",
        "colab": {
          "base_uri": "https://localhost:8080/",
          "height": 198
        },
        "outputId": "bc52a413-0583-42c3-b894-4c2db66f4b8f"
      },
      "source": [
        "df.head()"
      ],
      "execution_count": null,
      "outputs": [
        {
          "output_type": "execute_result",
          "data": {
            "text/html": [
              "<div>\n",
              "<style scoped>\n",
              "    .dataframe tbody tr th:only-of-type {\n",
              "        vertical-align: middle;\n",
              "    }\n",
              "\n",
              "    .dataframe tbody tr th {\n",
              "        vertical-align: top;\n",
              "    }\n",
              "\n",
              "    .dataframe thead th {\n",
              "        text-align: right;\n",
              "    }\n",
              "</style>\n",
              "<table border=\"1\" class=\"dataframe\">\n",
              "  <thead>\n",
              "    <tr style=\"text-align: right;\">\n",
              "      <th></th>\n",
              "      <th>id</th>\n",
              "      <th>comment_text</th>\n",
              "      <th>toxic</th>\n",
              "      <th>severe_toxic</th>\n",
              "      <th>obscene</th>\n",
              "      <th>threat</th>\n",
              "      <th>insult</th>\n",
              "      <th>identity_hate</th>\n",
              "    </tr>\n",
              "  </thead>\n",
              "  <tbody>\n",
              "    <tr>\n",
              "      <th>0</th>\n",
              "      <td>0000997932d777bf</td>\n",
              "      <td>Explanation\\nWhy the edits made under my usern...</td>\n",
              "      <td>0</td>\n",
              "      <td>0</td>\n",
              "      <td>0</td>\n",
              "      <td>0</td>\n",
              "      <td>0</td>\n",
              "      <td>0</td>\n",
              "    </tr>\n",
              "    <tr>\n",
              "      <th>1</th>\n",
              "      <td>000103f0d9cfb60f</td>\n",
              "      <td>D'aww! He matches this background colour I'm s...</td>\n",
              "      <td>0</td>\n",
              "      <td>0</td>\n",
              "      <td>0</td>\n",
              "      <td>0</td>\n",
              "      <td>0</td>\n",
              "      <td>0</td>\n",
              "    </tr>\n",
              "    <tr>\n",
              "      <th>2</th>\n",
              "      <td>000113f07ec002fd</td>\n",
              "      <td>Hey man, I'm really not trying to edit war. It...</td>\n",
              "      <td>0</td>\n",
              "      <td>0</td>\n",
              "      <td>0</td>\n",
              "      <td>0</td>\n",
              "      <td>0</td>\n",
              "      <td>0</td>\n",
              "    </tr>\n",
              "    <tr>\n",
              "      <th>3</th>\n",
              "      <td>0001b41b1c6bb37e</td>\n",
              "      <td>\"\\nMore\\nI can't make any real suggestions on ...</td>\n",
              "      <td>0</td>\n",
              "      <td>0</td>\n",
              "      <td>0</td>\n",
              "      <td>0</td>\n",
              "      <td>0</td>\n",
              "      <td>0</td>\n",
              "    </tr>\n",
              "    <tr>\n",
              "      <th>4</th>\n",
              "      <td>0001d958c54c6e35</td>\n",
              "      <td>You, sir, are my hero. Any chance you remember...</td>\n",
              "      <td>0</td>\n",
              "      <td>0</td>\n",
              "      <td>0</td>\n",
              "      <td>0</td>\n",
              "      <td>0</td>\n",
              "      <td>0</td>\n",
              "    </tr>\n",
              "  </tbody>\n",
              "</table>\n",
              "</div>"
            ],
            "text/plain": [
              "                 id  ... identity_hate\n",
              "0  0000997932d777bf  ...             0\n",
              "1  000103f0d9cfb60f  ...             0\n",
              "2  000113f07ec002fd  ...             0\n",
              "3  0001b41b1c6bb37e  ...             0\n",
              "4  0001d958c54c6e35  ...             0\n",
              "\n",
              "[5 rows x 8 columns]"
            ]
          },
          "metadata": {
            "tags": []
          },
          "execution_count": 8
        }
      ]
    },
    {
      "cell_type": "code",
      "metadata": {
        "id": "RDNLGkYmdVkC",
        "colab_type": "code",
        "colab": {
          "base_uri": "https://localhost:8080/",
          "height": 290
        },
        "outputId": "412c9cda-f974-44f5-fb3f-ddeafeee32ba"
      },
      "source": [
        "df.info()"
      ],
      "execution_count": null,
      "outputs": [
        {
          "output_type": "stream",
          "text": [
            "<class 'pandas.core.frame.DataFrame'>\n",
            "RangeIndex: 159571 entries, 0 to 159570\n",
            "Data columns (total 8 columns):\n",
            " #   Column         Non-Null Count   Dtype \n",
            "---  ------         --------------   ----- \n",
            " 0   id             159571 non-null  object\n",
            " 1   comment_text   159571 non-null  object\n",
            " 2   toxic          159571 non-null  int64 \n",
            " 3   severe_toxic   159571 non-null  int64 \n",
            " 4   obscene        159571 non-null  int64 \n",
            " 5   threat         159571 non-null  int64 \n",
            " 6   insult         159571 non-null  int64 \n",
            " 7   identity_hate  159571 non-null  int64 \n",
            "dtypes: int64(6), object(2)\n",
            "memory usage: 9.7+ MB\n"
          ],
          "name": "stdout"
        }
      ]
    },
    {
      "cell_type": "code",
      "metadata": {
        "id": "NM9J42IfzNtB",
        "colab_type": "code",
        "colab": {}
      },
      "source": [
        "label_columns = df.select_dtypes(include=[int]).columns"
      ],
      "execution_count": 6,
      "outputs": []
    },
    {
      "cell_type": "markdown",
      "metadata": {
        "id": "xcLIUkwuzow7",
        "colab_type": "text"
      },
      "source": [
        "Labels are binary"
      ]
    },
    {
      "cell_type": "code",
      "metadata": {
        "id": "GLyMPMr-zcXa",
        "colab_type": "code",
        "colab": {
          "base_uri": "https://localhost:8080/",
          "height": 288
        },
        "outputId": "42fc040f-2641-4953-f23d-91b3d39b047d"
      },
      "source": [
        "df.loc[:,label_columns].describe()"
      ],
      "execution_count": null,
      "outputs": [
        {
          "output_type": "execute_result",
          "data": {
            "text/html": [
              "<div>\n",
              "<style scoped>\n",
              "    .dataframe tbody tr th:only-of-type {\n",
              "        vertical-align: middle;\n",
              "    }\n",
              "\n",
              "    .dataframe tbody tr th {\n",
              "        vertical-align: top;\n",
              "    }\n",
              "\n",
              "    .dataframe thead th {\n",
              "        text-align: right;\n",
              "    }\n",
              "</style>\n",
              "<table border=\"1\" class=\"dataframe\">\n",
              "  <thead>\n",
              "    <tr style=\"text-align: right;\">\n",
              "      <th></th>\n",
              "      <th>toxic</th>\n",
              "      <th>severe_toxic</th>\n",
              "      <th>obscene</th>\n",
              "      <th>threat</th>\n",
              "      <th>insult</th>\n",
              "      <th>identity_hate</th>\n",
              "    </tr>\n",
              "  </thead>\n",
              "  <tbody>\n",
              "    <tr>\n",
              "      <th>count</th>\n",
              "      <td>159571.000000</td>\n",
              "      <td>159571.000000</td>\n",
              "      <td>159571.000000</td>\n",
              "      <td>159571.000000</td>\n",
              "      <td>159571.000000</td>\n",
              "      <td>159571.000000</td>\n",
              "    </tr>\n",
              "    <tr>\n",
              "      <th>mean</th>\n",
              "      <td>0.095844</td>\n",
              "      <td>0.009996</td>\n",
              "      <td>0.052948</td>\n",
              "      <td>0.002996</td>\n",
              "      <td>0.049364</td>\n",
              "      <td>0.008805</td>\n",
              "    </tr>\n",
              "    <tr>\n",
              "      <th>std</th>\n",
              "      <td>0.294379</td>\n",
              "      <td>0.099477</td>\n",
              "      <td>0.223931</td>\n",
              "      <td>0.054650</td>\n",
              "      <td>0.216627</td>\n",
              "      <td>0.093420</td>\n",
              "    </tr>\n",
              "    <tr>\n",
              "      <th>min</th>\n",
              "      <td>0.000000</td>\n",
              "      <td>0.000000</td>\n",
              "      <td>0.000000</td>\n",
              "      <td>0.000000</td>\n",
              "      <td>0.000000</td>\n",
              "      <td>0.000000</td>\n",
              "    </tr>\n",
              "    <tr>\n",
              "      <th>25%</th>\n",
              "      <td>0.000000</td>\n",
              "      <td>0.000000</td>\n",
              "      <td>0.000000</td>\n",
              "      <td>0.000000</td>\n",
              "      <td>0.000000</td>\n",
              "      <td>0.000000</td>\n",
              "    </tr>\n",
              "    <tr>\n",
              "      <th>50%</th>\n",
              "      <td>0.000000</td>\n",
              "      <td>0.000000</td>\n",
              "      <td>0.000000</td>\n",
              "      <td>0.000000</td>\n",
              "      <td>0.000000</td>\n",
              "      <td>0.000000</td>\n",
              "    </tr>\n",
              "    <tr>\n",
              "      <th>75%</th>\n",
              "      <td>0.000000</td>\n",
              "      <td>0.000000</td>\n",
              "      <td>0.000000</td>\n",
              "      <td>0.000000</td>\n",
              "      <td>0.000000</td>\n",
              "      <td>0.000000</td>\n",
              "    </tr>\n",
              "    <tr>\n",
              "      <th>max</th>\n",
              "      <td>1.000000</td>\n",
              "      <td>1.000000</td>\n",
              "      <td>1.000000</td>\n",
              "      <td>1.000000</td>\n",
              "      <td>1.000000</td>\n",
              "      <td>1.000000</td>\n",
              "    </tr>\n",
              "  </tbody>\n",
              "</table>\n",
              "</div>"
            ],
            "text/plain": [
              "               toxic   severe_toxic  ...         insult  identity_hate\n",
              "count  159571.000000  159571.000000  ...  159571.000000  159571.000000\n",
              "mean        0.095844       0.009996  ...       0.049364       0.008805\n",
              "std         0.294379       0.099477  ...       0.216627       0.093420\n",
              "min         0.000000       0.000000  ...       0.000000       0.000000\n",
              "25%         0.000000       0.000000  ...       0.000000       0.000000\n",
              "50%         0.000000       0.000000  ...       0.000000       0.000000\n",
              "75%         0.000000       0.000000  ...       0.000000       0.000000\n",
              "max         1.000000       1.000000  ...       1.000000       1.000000\n",
              "\n",
              "[8 rows x 6 columns]"
            ]
          },
          "metadata": {
            "tags": []
          },
          "execution_count": 9
        }
      ]
    },
    {
      "cell_type": "markdown",
      "metadata": {
        "id": "E2mgoDQQ_crw",
        "colab_type": "text"
      },
      "source": [
        "Add clean label"
      ]
    },
    {
      "cell_type": "code",
      "metadata": {
        "id": "QoMhtroI_b8E",
        "colab_type": "code",
        "colab": {}
      },
      "source": [
        "df['clean'] = df.loc[:,label_columns].apply(lambda x: 1 if x.sum() == 0 else 0, axis=1)\n",
        "# add clean column to label columns\n",
        "label_columns = df.select_dtypes(include=[int]).columns"
      ],
      "execution_count": 7,
      "outputs": []
    },
    {
      "cell_type": "code",
      "metadata": {
        "id": "jdv5LbusAchO",
        "colab_type": "code",
        "colab": {}
      },
      "source": [
        "count_per_label = [df[column].sum() for column in label_columns]"
      ],
      "execution_count": null,
      "outputs": []
    },
    {
      "cell_type": "markdown",
      "metadata": {
        "id": "nWl6tKJ8AWlT",
        "colab_type": "text"
      },
      "source": [
        "Task seems to be inbalanced"
      ]
    },
    {
      "cell_type": "code",
      "metadata": {
        "id": "vGaWE-lfAe3I",
        "colab_type": "code",
        "colab": {
          "base_uri": "https://localhost:8080/",
          "height": 283
        },
        "outputId": "3d8567b2-9cf1-45c0-f8f7-8d10a47ea572"
      },
      "source": [
        "sns.barplot(x=count_per_label, y=label_columns)"
      ],
      "execution_count": null,
      "outputs": [
        {
          "output_type": "execute_result",
          "data": {
            "text/plain": [
              "<matplotlib.axes._subplots.AxesSubplot at 0x7f03db0b00b8>"
            ]
          },
          "metadata": {
            "tags": []
          },
          "execution_count": 14
        },
        {
          "output_type": "display_data",
          "data": {
            "image/png": "[encoded data removed]",
            "text/plain": [
              "<Figure size 432x288 with 1 Axes>"
            ]
          },
          "metadata": {
            "tags": []
          }
        }
      ]
    },
    {
      "cell_type": "markdown",
      "metadata": {
        "id": "YKEqSjSNgAqY",
        "colab_type": "text"
      },
      "source": [
        "Compare total number of bad comments to clean comments"
      ]
    },
    {
      "cell_type": "code",
      "metadata": {
        "id": "ggZWan1DBCGd",
        "colab_type": "code",
        "colab": {
          "base_uri": "https://localhost:8080/",
          "height": 283
        },
        "outputId": "2902998f-a6d4-4d66-9493-5162eb7421f3"
      },
      "source": [
        "sns.barplot(x=[df.shape[0] - df['clean'].sum(), df['clean'].sum()], y=['bad','clean'])"
      ],
      "execution_count": null,
      "outputs": [
        {
          "output_type": "execute_result",
          "data": {
            "text/plain": [
              "<matplotlib.axes._subplots.AxesSubplot at 0x7f03db066c18>"
            ]
          },
          "metadata": {
            "tags": []
          },
          "execution_count": 15
        },
        {
          "output_type": "display_data",
          "data": {
            "image/png": "[encoded data removed]",
            "text/plain": [
              "<Figure size 432x288 with 1 Axes>"
            ]
          },
          "metadata": {
            "tags": []
          }
        }
      ]
    },
    {
      "cell_type": "code",
      "metadata": {
        "id": "a6Hf5ZHtvo3u",
        "colab_type": "code",
        "colab": {}
      },
      "source": [
        "concat_df = pd.concat([df['comment_text'].apply(lambda x: len(x)), df['clean']], axis=1)"
      ],
      "execution_count": null,
      "outputs": []
    },
    {
      "cell_type": "code",
      "metadata": {
        "id": "Mkq6Vb8VweaV",
        "colab_type": "code",
        "colab": {}
      },
      "source": [
        "concat_df.rename(columns={'comment_text':'comment_text_length'}, inplace=True)"
      ],
      "execution_count": null,
      "outputs": []
    },
    {
      "cell_type": "markdown",
      "metadata": {
        "id": "i1raZeyNDc1v",
        "colab_type": "text"
      },
      "source": [
        "We can observe a difference in comment length distribution for clean and bad comments. Bad comments are shorter than clean."
      ]
    },
    {
      "cell_type": "code",
      "metadata": {
        "id": "EhoWiEKeenSH",
        "colab_type": "code",
        "colab": {
          "base_uri": "https://localhost:8080/",
          "height": 625
        },
        "outputId": "949c1d0d-01b9-4a26-859e-34afa6738ea4"
      },
      "source": [
        "fig = plt.figure(figsize=(10,10))\n",
        "ax = fig.add_subplot(1,1,1)\n",
        "sns.distplot(concat_df.query('clean == 0')['comment_text_length'], ax=ax, label='Bad comments')\n",
        "sns.distplot(concat_df.query('clean == 1')['comment_text_length'], ax=ax, label='Clean comments')\n",
        "ax.legend()"
      ],
      "execution_count": null,
      "outputs": [
        {
          "output_type": "execute_result",
          "data": {
            "text/plain": [
              "<matplotlib.legend.Legend at 0x7f03d982af98>"
            ]
          },
          "metadata": {
            "tags": []
          },
          "execution_count": 18
        },
        {
          "output_type": "display_data",
          "data": {
            "image/png": "[encoded data removed]",
            "text/plain": [
              "<Figure size 720x720 with 1 Axes>"
            ]
          },
          "metadata": {
            "tags": []
          }
        }
      ]
    },
    {
      "cell_type": "markdown",
      "metadata": {
        "id": "qVr7QSCIAoxG",
        "colab_type": "text"
      },
      "source": [
        "Let's evaluate the median, because we can use it for the reasonable choice of the sequence length."
      ]
    },
    {
      "cell_type": "code",
      "metadata": {
        "id": "OXv93T8YAnr_",
        "colab_type": "code",
        "colab": {
          "base_uri": "https://localhost:8080/",
          "height": 35
        },
        "outputId": "cc112d2e-e5d6-42b2-f330-508ec87470ce"
      },
      "source": [
        "concat_df['comment_text_length'].median()"
      ],
      "execution_count": null,
      "outputs": [
        {
          "output_type": "execute_result",
          "data": {
            "text/plain": [
              "205.0"
            ]
          },
          "metadata": {
            "tags": []
          },
          "execution_count": 19
        }
      ]
    },
    {
      "cell_type": "code",
      "metadata": {
        "id": "Nf5q5_6KcJGQ",
        "colab_type": "code",
        "colab": {}
      },
      "source": [
        "def tokenize(text):\n",
        "    min_length = 3\n",
        "    words = map(lambda word: word.lower(), word_tokenize(text))\n",
        "    words = [word for word in words\n",
        "                  if word not in cachedStopWords]\n",
        "    tokens = (list(map(lambda token: PorterStemmer().stem(token),\n",
        "                  words)));\n",
        "    p = re.compile('[a-zA-Z]+');\n",
        "    filtered_tokens = list(filter(lambda token:\n",
        "                  p.match(token) and len(token)>=min_length,\n",
        "         tokens))\n",
        "    return filtered_tokens"
      ],
      "execution_count": null,
      "outputs": []
    },
    {
      "cell_type": "code",
      "metadata": {
        "id": "bN6d2Fwxckgq",
        "colab_type": "code",
        "colab": {}
      },
      "source": [
        "def visualize_most_popular(vectorised_data, vectorizer, words_num=20):\n",
        "  feature_table = {val:key for (key, val) in vectorizer.vocabulary_.items()}\n",
        "  sumed_data = vectorised_data.sum(axis=0)\n",
        "  score_table = {feature:score for feature, score in enumerate(list(np.array(sumed_data).flatten()))}\n",
        "  top_features = sorted(score_table.items(), reverse=True, key= lambda x: x[1])[:words_num]\n",
        "  top_words = [feature_table[f[0]] for f in top_features]\n",
        "  top_score = [f[1] for f in top_features]\n",
        "  freq = {word:val for word, val in zip(top_words, top_score)}\n",
        "  # Create and generate a word cloud image:\n",
        "  wordcloud = WordCloud().fit_words(freq)\n",
        "\n",
        "  # Display the generated image:\n",
        "  plt.imshow(wordcloud, interpolation='bilinear')\n",
        "  plt.axis(\"off\")\n",
        "  plt.show()"
      ],
      "execution_count": null,
      "outputs": []
    },
    {
      "cell_type": "code",
      "metadata": {
        "id": "eCx1t9jf2ZQf",
        "colab_type": "code",
        "colab": {}
      },
      "source": [
        "def visualize_group(group_name):\n",
        "  vectorizer = CountVectorizer(tokenizer=tokenize)\n",
        "  vectorised_data = vectorizer.fit_transform(df[df[group_name] == 1]['comment_text'].values)\n",
        "  visualize_most_popular(vectorised_data, vectorizer) "
      ],
      "execution_count": null,
      "outputs": []
    },
    {
      "cell_type": "markdown",
      "metadata": {
        "id": "gqcY9hwNkF1v",
        "colab_type": "text"
      },
      "source": [
        "Let's visualize the most popular words in different toxicity groups\n"
      ]
    },
    {
      "cell_type": "code",
      "metadata": {
        "id": "0nHXQKyJ2mma",
        "colab_type": "code",
        "colab": {
          "base_uri": "https://localhost:8080/",
          "height": 198
        },
        "outputId": "68e2af40-e0f0-4d0f-a675-a4dc0d216c91"
      },
      "source": [
        "visualize_group('toxic')"
      ],
      "execution_count": null,
      "outputs": [
        {
          "output_type": "display_data",
          "data": {
            "image/png": "[encoded data removed]",
            "text/plain": [
              "<Figure size 432x288 with 1 Axes>"
            ]
          },
          "metadata": {
            "tags": []
          }
        }
      ]
    },
    {
      "cell_type": "code",
      "metadata": {
        "id": "b_Ew5YjU3SAJ",
        "colab_type": "code",
        "colab": {
          "base_uri": "https://localhost:8080/",
          "height": 198
        },
        "outputId": "8cbb1afc-0f10-44f8-d90b-ff2bc0ad95b7"
      },
      "source": [
        "visualize_group('severe_toxic')"
      ],
      "execution_count": null,
      "outputs": [
        {
          "output_type": "display_data",
          "data": {
            "image/png": "[encoded data removed]",
            "text/plain": [
              "<Figure size 432x288 with 1 Axes>"
            ]
          },
          "metadata": {
            "tags": []
          }
        }
      ]
    },
    {
      "cell_type": "code",
      "metadata": {
        "id": "WK6VuJ8H3Ve8",
        "colab_type": "code",
        "colab": {
          "base_uri": "https://localhost:8080/",
          "height": 198
        },
        "outputId": "32634065-0741-4fa5-900a-b130f0f5acfa"
      },
      "source": [
        "visualize_group('obscene')"
      ],
      "execution_count": null,
      "outputs": [
        {
          "output_type": "display_data",
          "data": {
            "image/png": "[encoded data removed]",
            "text/plain": [
              "<Figure size 432x288 with 1 Axes>"
            ]
          },
          "metadata": {
            "tags": []
          }
        }
      ]
    },
    {
      "cell_type": "code",
      "metadata": {
        "id": "yTIxrfV53Zgb",
        "colab_type": "code",
        "colab": {
          "base_uri": "https://localhost:8080/",
          "height": 198
        },
        "outputId": "96006574-bd19-49c3-8d71-864673f7778a"
      },
      "source": [
        "visualize_group('threat')"
      ],
      "execution_count": null,
      "outputs": [
        {
          "output_type": "display_data",
          "data": {
            "image/png": "[encoded data removed]",
            "text/plain": [
              "<Figure size 432x288 with 1 Axes>"
            ]
          },
          "metadata": {
            "tags": []
          }
        }
      ]
    },
    {
      "cell_type": "code",
      "metadata": {
        "id": "AhoMF5U_2WTf",
        "colab_type": "code",
        "colab": {
          "base_uri": "https://localhost:8080/",
          "height": 198
        },
        "outputId": "0210741f-15bc-4b4c-acb0-8f851282def5"
      },
      "source": [
        "visualize_group('insult')"
      ],
      "execution_count": null,
      "outputs": [
        {
          "output_type": "display_data",
          "data": {
            "image/png": "[encoded data removed]",
            "text/plain": [
              "<Figure size 432x288 with 1 Axes>"
            ]
          },
          "metadata": {
            "tags": []
          }
        }
      ]
    },
    {
      "cell_type": "code",
      "metadata": {
        "id": "PWS-kLDZ3oAx",
        "colab_type": "code",
        "colab": {
          "base_uri": "https://localhost:8080/",
          "height": 198
        },
        "outputId": "8242b5ff-2560-454c-f3f8-8c767f7320d6"
      },
      "source": [
        "visualize_group('identity_hate')"
      ],
      "execution_count": null,
      "outputs": [
        {
          "output_type": "display_data",
          "data": {
            "image/png": "[encoded data removed]",
            "text/plain": [
              "<Figure size 432x288 with 1 Axes>"
            ]
          },
          "metadata": {
            "tags": []
          }
        }
      ]
    },
    {
      "cell_type": "markdown",
      "metadata": {
        "id": "hJc3wF3n6Qht",
        "colab_type": "text"
      },
      "source": [
        "Clean group"
      ]
    },
    {
      "cell_type": "code",
      "metadata": {
        "id": "Nx2Ryauv3xYb",
        "colab_type": "code",
        "colab": {
          "base_uri": "https://localhost:8080/",
          "height": 198
        },
        "outputId": "f80be6f0-0ece-4ff0-fcce-78f7a9ea3d13"
      },
      "source": [
        "vectorizer = CountVectorizer(tokenizer=tokenize)\n",
        "vectorised_data = vectorizer.fit_transform(df[df['clean'] == 1]['comment_text'].values[:20000])\n",
        "visualize_most_popular(vectorised_data, vectorizer)"
      ],
      "execution_count": null,
      "outputs": [
        {
          "output_type": "display_data",
          "data": {
            "image/png": "[encoded data removed]",
            "text/plain": [
              "<Figure size 432x288 with 1 Axes>"
            ]
          },
          "metadata": {
            "tags": []
          }
        }
      ]
    },
    {
      "cell_type": "markdown",
      "metadata": {
        "id": "AoYZsLsC8io2",
        "colab_type": "text"
      },
      "source": [
        "We have to reduce data size due to significant computational time "
      ]
    },
    {
      "cell_type": "code",
      "metadata": {
        "id": "Rp98aswp8trg",
        "colab_type": "code",
        "colab": {
          "base_uri": "https://localhost:8080/",
          "height": 35
        },
        "outputId": "6c99f574-310d-49b6-aa83-905ed2d9b33f"
      },
      "source": [
        "df.shape"
      ],
      "execution_count": null,
      "outputs": [
        {
          "output_type": "execute_result",
          "data": {
            "text/plain": [
              "(159571, 9)"
            ]
          },
          "metadata": {
            "tags": []
          },
          "execution_count": 29
        }
      ]
    },
    {
      "cell_type": "markdown",
      "metadata": {
        "id": "TP8RLJon-9AY",
        "colab_type": "text"
      },
      "source": [
        "Use the rarest groups for stratification"
      ]
    },
    {
      "cell_type": "code",
      "metadata": {
        "id": "5zEvqvTj9O1T",
        "colab_type": "code",
        "colab": {
          "base_uri": "https://localhost:8080/",
          "height": 33
        },
        "outputId": "cd0aebe8-7120-4131-bfc8-67bc2aaa13d2"
      },
      "source": [
        "_, reduced_df = train_test_split(df,stratify=df.loc[:,['severe_toxic','identity_hate','threat']],test_size=0.1)\n",
        "reduced_df.shape"
      ],
      "execution_count": 8,
      "outputs": [
        {
          "output_type": "execute_result",
          "data": {
            "text/plain": [
              "(15958, 9)"
            ]
          },
          "metadata": {
            "tags": []
          },
          "execution_count": 8
        }
      ]
    },
    {
      "cell_type": "markdown",
      "metadata": {
        "id": "xby7KS3R_CBH",
        "colab_type": "text"
      },
      "source": [
        "It seems that balance has been saved"
      ]
    },
    {
      "cell_type": "code",
      "metadata": {
        "id": "C0kodP2ndV-b",
        "colab_type": "code",
        "colab": {
          "base_uri": "https://localhost:8080/",
          "height": 283
        },
        "outputId": "d465682b-542e-4f79-9342-921b2d97250e"
      },
      "source": [
        "count_per_label = [reduced_df[column].sum() for column in label_columns]\n",
        "sns.barplot(x=count_per_label, y=label_columns)"
      ],
      "execution_count": null,
      "outputs": [
        {
          "output_type": "execute_result",
          "data": {
            "text/plain": [
              "<matplotlib.axes._subplots.AxesSubplot at 0x7f03d8d7d940>"
            ]
          },
          "metadata": {
            "tags": []
          },
          "execution_count": 31
        },
        {
          "output_type": "display_data",
          "data": {
            "image/png": "[encoded data removed]",
            "text/plain": [
              "<Figure size 432x288 with 1 Axes>"
            ]
          },
          "metadata": {
            "tags": []
          }
        }
      ]
    },
    {
      "cell_type": "markdown",
      "metadata": {
        "id": "zMUu_7cI4gpC",
        "colab_type": "text"
      },
      "source": [
        "Train/test split"
      ]
    },
    {
      "cell_type": "code",
      "metadata": {
        "id": "afEQ1gmi4iPq",
        "colab_type": "code",
        "colab": {}
      },
      "source": [
        "train_df, test_df = train_test_split(reduced_df,test_size=0.3,stratify=reduced_df.loc[:,['severe_toxic','identity_hate','threat']])"
      ],
      "execution_count": 9,
      "outputs": []
    },
    {
      "cell_type": "code",
      "metadata": {
        "id": "hj8mi84R5ZWS",
        "colab_type": "code",
        "colab": {
          "base_uri": "https://localhost:8080/",
          "height": 35
        },
        "outputId": "4c426b36-df91-4d33-d244-b8fe1465f11c"
      },
      "source": [
        "print(train_df.shape, test_df.shape)"
      ],
      "execution_count": null,
      "outputs": [
        {
          "output_type": "stream",
          "text": [
            "(11170, 9) (4788, 9)\n"
          ],
          "name": "stdout"
        }
      ]
    },
    {
      "cell_type": "markdown",
      "metadata": {
        "id": "nsA4zr4k_2N6",
        "colab_type": "text"
      },
      "source": [
        "Balance has been saved"
      ]
    },
    {
      "cell_type": "code",
      "metadata": {
        "id": "bttxcU4F_ti7",
        "colab_type": "code",
        "colab": {
          "base_uri": "https://localhost:8080/",
          "height": 283
        },
        "outputId": "d082c925-20dd-40b1-bfdb-ee55f7c129b6"
      },
      "source": [
        "count_per_label = [train_df[column].sum() for column in label_columns]\n",
        "sns.barplot(x=count_per_label, y=label_columns)"
      ],
      "execution_count": null,
      "outputs": [
        {
          "output_type": "execute_result",
          "data": {
            "text/plain": [
              "<matplotlib.axes._subplots.AxesSubplot at 0x7f03d9440e80>"
            ]
          },
          "metadata": {
            "tags": []
          },
          "execution_count": 34
        },
        {
          "output_type": "display_data",
          "data": {
            "image/png": "[encoded data removed]",
            "text/plain": [
              "<Figure size 432x288 with 1 Axes>"
            ]
          },
          "metadata": {
            "tags": []
          }
        }
      ]
    },
    {
      "cell_type": "code",
      "metadata": {
        "id": "9kwvmU3O_w0T",
        "colab_type": "code",
        "colab": {
          "base_uri": "https://localhost:8080/",
          "height": 283
        },
        "outputId": "8d2f5327-7a1b-41af-b6a8-8b14912af4d9"
      },
      "source": [
        "count_per_label = [test_df[column].sum() for column in label_columns]\n",
        "sns.barplot(x=count_per_label, y=label_columns)"
      ],
      "execution_count": null,
      "outputs": [
        {
          "output_type": "execute_result",
          "data": {
            "text/plain": [
              "<matplotlib.axes._subplots.AxesSubplot at 0x7f03d94e9dd8>"
            ]
          },
          "metadata": {
            "tags": []
          },
          "execution_count": 35
        },
        {
          "output_type": "display_data",
          "data": {
            "image/png": "[encoded data removed]",
            "text/plain": [
              "<Figure size 432x288 with 1 Axes>"
            ]
          },
          "metadata": {
            "tags": []
          }
        }
      ]
    },
    {
      "cell_type": "markdown",
      "metadata": {
        "id": "-6LDnmCH57wM",
        "colab_type": "text"
      },
      "source": [
        "# Classical approaches"
      ]
    },
    {
      "cell_type": "code",
      "metadata": {
        "id": "5r3EXRFH6ABJ",
        "colab_type": "code",
        "colab": {}
      },
      "source": [
        "def tokenize(text):\n",
        "    min_length = 3\n",
        "    words = map(lambda word: word.lower(), word_tokenize(text))\n",
        "    words = [word for word in words\n",
        "                  if word not in cachedStopWords]\n",
        "    tokens = (list(map(lambda token: PorterStemmer().stem(token),\n",
        "                  words)));\n",
        "    p = re.compile('[a-zA-Z]+');\n",
        "    filtered_tokens = list(filter(lambda token:\n",
        "                  p.match(token) and len(token)>=min_length,\n",
        "         tokens))\n",
        "    return filtered_tokens"
      ],
      "execution_count": null,
      "outputs": []
    },
    {
      "cell_type": "code",
      "metadata": {
        "id": "F73G5Lrl6BrL",
        "colab_type": "code",
        "colab": {}
      },
      "source": [
        "def fit_predict_classical(train_df, test_df, vectorizer, text_column, list_classes):\n",
        "  X_vec_train = vectorizer.fit_transform(train_df[text_column].values)\n",
        "  clf = MultiOutputClassifier(LogisticRegression(class_weight='balanced', C=0.8)).fit(X_vec_train, train_df.loc[:,list_classes])\n",
        "  prediction_train = clf.predict(X_vec_train)\n",
        "  X_vec_test = vectorizer.transform(test_df[text_column].values)\n",
        "  prediction_test = clf.predict(X_vec_test)\n",
        "  return prediction_train, prediction_test"
      ],
      "execution_count": null,
      "outputs": []
    },
    {
      "cell_type": "code",
      "metadata": {
        "id": "rZgF-sOQ4Jop",
        "colab_type": "code",
        "colab": {}
      },
      "source": [
        "list_classes = [\"toxic\", \"severe_toxic\", \"obscene\", \"threat\", \"insult\", \"identity_hate\", 'clean']"
      ],
      "execution_count": null,
      "outputs": []
    },
    {
      "cell_type": "markdown",
      "metadata": {
        "id": "MibYAmvuf__r",
        "colab_type": "text"
      },
      "source": [
        "## Count vectors"
      ]
    },
    {
      "cell_type": "code",
      "metadata": {
        "id": "vWUEV9Gy6n9X",
        "colab_type": "code",
        "colab": {
          "base_uri": "https://localhost:8080/",
          "height": 890
        },
        "outputId": "75f97f5e-d28a-4797-8e2a-83e029613a5e"
      },
      "source": [
        "prediction_train, prediction_test = fit_predict_classical(train_df, test_df, CountVectorizer(tokenizer=tokenize),'comment_text', list_classes)"
      ],
      "execution_count": null,
      "outputs": [
        {
          "output_type": "stream",
          "text": [
            "/usr/local/lib/python3.6/dist-packages/sklearn/linear_model/_logistic.py:940: ConvergenceWarning: lbfgs failed to converge (status=1):\n",
            "STOP: TOTAL NO. of ITERATIONS REACHED LIMIT.\n",
            "\n",
            "Increase the number of iterations (max_iter) or scale the data as shown in:\n",
            "    https://scikit-learn.org/stable/modules/preprocessing.html\n",
            "Please also refer to the documentation for alternative solver options:\n",
            "    https://scikit-learn.org/stable/modules/linear_model.html#logistic-regression\n",
            "  extra_warning_msg=_LOGISTIC_SOLVER_CONVERGENCE_MSG)\n",
            "/usr/local/lib/python3.6/dist-packages/sklearn/linear_model/_logistic.py:940: ConvergenceWarning: lbfgs failed to converge (status=1):\n",
            "STOP: TOTAL NO. of ITERATIONS REACHED LIMIT.\n",
            "\n",
            "Increase the number of iterations (max_iter) or scale the data as shown in:\n",
            "    https://scikit-learn.org/stable/modules/preprocessing.html\n",
            "Please also refer to the documentation for alternative solver options:\n",
            "    https://scikit-learn.org/stable/modules/linear_model.html#logistic-regression\n",
            "  extra_warning_msg=_LOGISTIC_SOLVER_CONVERGENCE_MSG)\n",
            "/usr/local/lib/python3.6/dist-packages/sklearn/linear_model/_logistic.py:940: ConvergenceWarning: lbfgs failed to converge (status=1):\n",
            "STOP: TOTAL NO. of ITERATIONS REACHED LIMIT.\n",
            "\n",
            "Increase the number of iterations (max_iter) or scale the data as shown in:\n",
            "    https://scikit-learn.org/stable/modules/preprocessing.html\n",
            "Please also refer to the documentation for alternative solver options:\n",
            "    https://scikit-learn.org/stable/modules/linear_model.html#logistic-regression\n",
            "  extra_warning_msg=_LOGISTIC_SOLVER_CONVERGENCE_MSG)\n",
            "/usr/local/lib/python3.6/dist-packages/sklearn/linear_model/_logistic.py:940: ConvergenceWarning: lbfgs failed to converge (status=1):\n",
            "STOP: TOTAL NO. of ITERATIONS REACHED LIMIT.\n",
            "\n",
            "Increase the number of iterations (max_iter) or scale the data as shown in:\n",
            "    https://scikit-learn.org/stable/modules/preprocessing.html\n",
            "Please also refer to the documentation for alternative solver options:\n",
            "    https://scikit-learn.org/stable/modules/linear_model.html#logistic-regression\n",
            "  extra_warning_msg=_LOGISTIC_SOLVER_CONVERGENCE_MSG)\n",
            "/usr/local/lib/python3.6/dist-packages/sklearn/linear_model/_logistic.py:940: ConvergenceWarning: lbfgs failed to converge (status=1):\n",
            "STOP: TOTAL NO. of ITERATIONS REACHED LIMIT.\n",
            "\n",
            "Increase the number of iterations (max_iter) or scale the data as shown in:\n",
            "    https://scikit-learn.org/stable/modules/preprocessing.html\n",
            "Please also refer to the documentation for alternative solver options:\n",
            "    https://scikit-learn.org/stable/modules/linear_model.html#logistic-regression\n",
            "  extra_warning_msg=_LOGISTIC_SOLVER_CONVERGENCE_MSG)\n",
            "/usr/local/lib/python3.6/dist-packages/sklearn/linear_model/_logistic.py:940: ConvergenceWarning: lbfgs failed to converge (status=1):\n",
            "STOP: TOTAL NO. of ITERATIONS REACHED LIMIT.\n",
            "\n",
            "Increase the number of iterations (max_iter) or scale the data as shown in:\n",
            "    https://scikit-learn.org/stable/modules/preprocessing.html\n",
            "Please also refer to the documentation for alternative solver options:\n",
            "    https://scikit-learn.org/stable/modules/linear_model.html#logistic-regression\n",
            "  extra_warning_msg=_LOGISTIC_SOLVER_CONVERGENCE_MSG)\n"
          ],
          "name": "stderr"
        }
      ]
    },
    {
      "cell_type": "code",
      "metadata": {
        "id": "wSwp8-Sh4PKJ",
        "colab_type": "code",
        "colab": {
          "base_uri": "https://localhost:8080/",
          "height": 346
        },
        "outputId": "d27d557f-4b59-4acb-d912-bfd7ac23589c"
      },
      "source": [
        "print(classification_report(train_df.loc[:,list_classes], prediction_train,\\\n",
        "                            target_names=list_classes))"
      ],
      "execution_count": null,
      "outputs": [
        {
          "output_type": "stream",
          "text": [
            "               precision    recall  f1-score   support\n",
            "\n",
            "        toxic       0.91      1.00      0.95      1046\n",
            " severe_toxic       0.60      1.00      0.75       111\n",
            "      obscene       0.92      1.00      0.95       585\n",
            "       threat       0.83      1.00      0.91        34\n",
            "       insult       0.80      1.00      0.89       551\n",
            "identity_hate       0.82      1.00      0.90        98\n",
            "        clean       1.00      0.99      1.00     10050\n",
            "\n",
            "    micro avg       0.97      0.99      0.98     12475\n",
            "    macro avg       0.84      1.00      0.91     12475\n",
            " weighted avg       0.97      0.99      0.98     12475\n",
            "  samples avg       0.98      0.99      0.99     12475\n",
            "\n"
          ],
          "name": "stdout"
        },
        {
          "output_type": "stream",
          "text": [
            "/usr/local/lib/python3.6/dist-packages/sklearn/metrics/_classification.py:1272: UndefinedMetricWarning: Precision and F-score are ill-defined and being set to 0.0 in samples with no predicted labels. Use `zero_division` parameter to control this behavior.\n",
            "  _warn_prf(average, modifier, msg_start, len(result))\n"
          ],
          "name": "stderr"
        }
      ]
    },
    {
      "cell_type": "code",
      "metadata": {
        "id": "fSryj9-ff07Q",
        "colab_type": "code",
        "colab": {
          "base_uri": "https://localhost:8080/",
          "height": 346
        },
        "outputId": "5bd90084-139c-4b40-d061-f7c5719b05a7"
      },
      "source": [
        "print(classification_report(test_df.loc[:,list_classes], prediction_test,\\\n",
        "                            target_names=list_classes))"
      ],
      "execution_count": null,
      "outputs": [
        {
          "output_type": "stream",
          "text": [
            "               precision    recall  f1-score   support\n",
            "\n",
            "        toxic       0.67      0.74      0.70       433\n",
            " severe_toxic       0.35      0.71      0.47        48\n",
            "      obscene       0.73      0.76      0.74       235\n",
            "       threat       0.14      0.21      0.17        14\n",
            "       insult       0.51      0.65      0.57       214\n",
            "identity_hate       0.21      0.28      0.24        43\n",
            "        clean       0.97      0.97      0.97      4329\n",
            "\n",
            "    micro avg       0.89      0.92      0.90      5316\n",
            "    macro avg       0.51      0.62      0.55      5316\n",
            " weighted avg       0.90      0.92      0.91      5316\n",
            "  samples avg       0.92      0.93      0.92      5316\n",
            "\n"
          ],
          "name": "stdout"
        },
        {
          "output_type": "stream",
          "text": [
            "/usr/local/lib/python3.6/dist-packages/sklearn/metrics/_classification.py:1272: UndefinedMetricWarning: Precision and F-score are ill-defined and being set to 0.0 in samples with no predicted labels. Use `zero_division` parameter to control this behavior.\n",
            "  _warn_prf(average, modifier, msg_start, len(result))\n"
          ],
          "name": "stderr"
        }
      ]
    },
    {
      "cell_type": "markdown",
      "metadata": {
        "id": "Cob5Hu5hmZAk",
        "colab_type": "text"
      },
      "source": [
        "## TFIDF"
      ]
    },
    {
      "cell_type": "code",
      "metadata": {
        "id": "QIwym3TC5IST",
        "colab_type": "code",
        "colab": {}
      },
      "source": [
        "prediction_train, prediction_test = fit_predict_classical(train_df, test_df, TfidfVectorizer(tokenizer=tokenize),'comment_text',list_classes)"
      ],
      "execution_count": null,
      "outputs": []
    },
    {
      "cell_type": "code",
      "metadata": {
        "id": "YVSrJ4dz5nxF",
        "colab_type": "code",
        "colab": {
          "base_uri": "https://localhost:8080/",
          "height": 346
        },
        "outputId": "49e8487e-ef79-46ce-bf21-59c4bcdc3128"
      },
      "source": [
        "print(classification_report(train_df.loc[:,list_classes], prediction_train,\\\n",
        "                            target_names=list_classes))"
      ],
      "execution_count": null,
      "outputs": [
        {
          "output_type": "stream",
          "text": [
            "               precision    recall  f1-score   support\n",
            "\n",
            "        toxic       0.80      0.99      0.88      1046\n",
            " severe_toxic       0.41      1.00      0.58       111\n",
            "      obscene       0.82      1.00      0.90       585\n",
            "       threat       0.46      1.00      0.63        34\n",
            "       insult       0.72      1.00      0.84       551\n",
            "identity_hate       0.43      1.00      0.60        98\n",
            "        clean       1.00      0.97      0.99     10050\n",
            "\n",
            "    micro avg       0.93      0.98      0.95     12475\n",
            "    macro avg       0.66      0.99      0.77     12475\n",
            " weighted avg       0.95      0.98      0.96     12475\n",
            "  samples avg       0.96      0.97      0.96     12475\n",
            "\n"
          ],
          "name": "stdout"
        },
        {
          "output_type": "stream",
          "text": [
            "/usr/local/lib/python3.6/dist-packages/sklearn/metrics/_classification.py:1272: UndefinedMetricWarning: Precision and F-score are ill-defined and being set to 0.0 in samples with no predicted labels. Use `zero_division` parameter to control this behavior.\n",
            "  _warn_prf(average, modifier, msg_start, len(result))\n"
          ],
          "name": "stderr"
        }
      ]
    },
    {
      "cell_type": "code",
      "metadata": {
        "id": "-UkyQkmsgAVd",
        "colab_type": "code",
        "colab": {
          "base_uri": "https://localhost:8080/",
          "height": 346
        },
        "outputId": "03dd0fad-12b4-47d7-e6f4-d5522afa0857"
      },
      "source": [
        "print(classification_report(test_df.loc[:,list_classes], prediction_test,\\\n",
        "                            target_names=list_classes))"
      ],
      "execution_count": null,
      "outputs": [
        {
          "output_type": "stream",
          "text": [
            "               precision    recall  f1-score   support\n",
            "\n",
            "        toxic       0.67      0.78      0.72       433\n",
            " severe_toxic       0.34      0.81      0.48        48\n",
            "      obscene       0.70      0.79      0.74       235\n",
            "       threat       0.23      0.50      0.32        14\n",
            "       insult       0.56      0.75      0.64       214\n",
            "identity_hate       0.23      0.56      0.33        43\n",
            "        clean       0.98      0.96      0.97      4329\n",
            "\n",
            "    micro avg       0.88      0.92      0.90      5316\n",
            "    macro avg       0.53      0.74      0.60      5316\n",
            " weighted avg       0.91      0.92      0.91      5316\n",
            "  samples avg       0.92      0.94      0.92      5316\n",
            "\n"
          ],
          "name": "stdout"
        },
        {
          "output_type": "stream",
          "text": [
            "/usr/local/lib/python3.6/dist-packages/sklearn/metrics/_classification.py:1272: UndefinedMetricWarning: Precision and F-score are ill-defined and being set to 0.0 in samples with no predicted labels. Use `zero_division` parameter to control this behavior.\n",
            "  _warn_prf(average, modifier, msg_start, len(result))\n"
          ],
          "name": "stderr"
        }
      ]
    },
    {
      "cell_type": "markdown",
      "metadata": {
        "id": "7B0YIexiHEuR",
        "colab_type": "text"
      },
      "source": [
        "# Embeddings"
      ]
    },
    {
      "cell_type": "code",
      "metadata": {
        "id": "Cr22m_IuHLj4",
        "colab_type": "code",
        "colab": {}
      },
      "source": [
        "list_classes = [\"toxic\", \"severe_toxic\", \"obscene\", \"threat\", \"insult\", \"identity_hate\", 'clean']\n",
        "y = train_df[list_classes].values\n",
        "list_sentences_train = train_df[\"comment_text\"]\n",
        "list_sentences_test = test_df[\"comment_text\"]"
      ],
      "execution_count": null,
      "outputs": []
    },
    {
      "cell_type": "code",
      "metadata": {
        "id": "v7WVsHnBHeOh",
        "colab_type": "code",
        "colab": {}
      },
      "source": [
        "def tokenize_without_normalization(text):\n",
        "    min_length = 3\n",
        "    words = map(lambda word: word.lower(), word_tokenize(text))\n",
        "    words = [word for word in words\n",
        "                  if word not in cachedStopWords]\n",
        "    \n",
        "    p = re.compile('[a-zA-Z]+');\n",
        "    filtered_tokens = list(filter(lambda token:\n",
        "                  p.match(token) and len(token)>=min_length,\n",
        "         words))\n",
        "    return \" \".join(filtered_tokens)"
      ],
      "execution_count": null,
      "outputs": []
    },
    {
      "cell_type": "code",
      "metadata": {
        "id": "jAfNhx_tGNID",
        "colab_type": "code",
        "colab": {}
      },
      "source": [
        "list_sentences_train=list(map(tokenize_without_normalization, list_sentences_train.values))\n",
        "list_sentences_test=list(map(tokenize_without_normalization, list_sentences_test.values))"
      ],
      "execution_count": null,
      "outputs": []
    },
    {
      "cell_type": "code",
      "metadata": {
        "id": "eGjZolOU8Fhx",
        "colab_type": "code",
        "colab": {}
      },
      "source": [
        "max_features = 20000\n",
        "tokenizer = Tokenizer(num_words=max_features,oov_token='unk')\n",
        "tokenizer.fit_on_texts(list(list_sentences_train))\n",
        "list_tokenized_train = tokenizer.texts_to_sequences(list_sentences_train)\n",
        "list_tokenized_test = tokenizer.texts_to_sequences(list_sentences_test)"
      ],
      "execution_count": null,
      "outputs": []
    },
    {
      "cell_type": "code",
      "metadata": {
        "id": "o_XivWR-WGUS",
        "colab_type": "code",
        "colab": {}
      },
      "source": [
        "maxlen = 200\n",
        "X_train = pad_sequences(list_tokenized_train, maxlen=maxlen)\n",
        "X_test = pad_sequences(list_tokenized_test, maxlen=maxlen)"
      ],
      "execution_count": null,
      "outputs": []
    },
    {
      "cell_type": "code",
      "metadata": {
        "id": "mIHqI37tXroF",
        "colab_type": "code",
        "colab": {}
      },
      "source": [
        "def loadEmbeddingMatrix(typeToLoad):\n",
        "        #load different embedding file from Kaggle depending on which embedding \n",
        "        #matrix we are going to experiment with\n",
        "        if(typeToLoad==\"glove\"):\n",
        "            EMBEDDING_FILE='/content/glove/glove.twitter.27B.25d.txt'\n",
        "            embed_size = 25\n",
        "        elif(typeToLoad==\"word2vec\"):\n",
        "            word2vecDict = word2vec.KeyedVectors.load_word2vec_format(\"/content/data/word2vec\", binary=True)\n",
        "            embed_size = 300\n",
        "        elif(typeToLoad==\"fasttext\"):\n",
        "            EMBEDDING_FILE='/content/wiki-news-300d-1M.vec'\n",
        "            embed_size = 300\n",
        "\n",
        "        if(typeToLoad==\"glove\" or typeToLoad==\"fasttext\" ):\n",
        "            embeddings_index = dict()\n",
        "            #Transfer the embedding weights into a dictionary by iterating through every line of the file.\n",
        "            f = open(EMBEDDING_FILE)\n",
        "            for line in f:\n",
        "                #split up line into an indexed array\n",
        "                values = line.split()\n",
        "                # we have some crashed embeddings\n",
        "                if len(values) != embed_size+1:\n",
        "                  continue\n",
        "                #first index is word\n",
        "                word = values[0]\n",
        "                #store the rest of the values in the array as a new array\n",
        "                coefs = np.asarray(values[1:], dtype='float32')\n",
        "                embeddings_index[word] = coefs \n",
        "            f.close()\n",
        "            print('Loaded %s word vectors.' % len(embeddings_index))\n",
        "        else:\n",
        "            embeddings_index = dict()\n",
        "            for word in word2vecDict.wv.vocab:\n",
        "                embeddings_index[word] = word2vecDict.word_vec(word)\n",
        "            print('Loaded %s word vectors.' % len(embeddings_index))\n",
        "            \n",
        "        gc.collect()\n",
        "        #We get the mean and standard deviation of the embedding weights so that we could maintain the \n",
        "        #same statistics for the rest of our own random generated weights. \n",
        "        all_embs = np.stack(list(embeddings_index.values()))\n",
        "        emb_mean,emb_std = all_embs.mean(), all_embs.std()\n",
        "        \n",
        "        nb_words = len(tokenizer.word_index)\n",
        "        #We are going to set the embedding size to the pretrained dimension as we are replicating it.\n",
        "        #the size will be Number of Words in Vocab X Embedding Size\n",
        "        embedding_matrix = np.random.normal(emb_mean, emb_std, (nb_words, embed_size))\n",
        "        gc.collect()\n",
        "\n",
        "        #With the newly created embedding matrix, we'll fill it up with the words that we have in both \n",
        "        #our own dictionary and loaded pretrained embedding. \n",
        "        embeddedCount = 0\n",
        "        for word, i in tokenizer.word_index.items():\n",
        "            i-=1\n",
        "            #then we see if this word is in glove's dictionary, if yes, get the corresponding weights\n",
        "            embedding_vector = embeddings_index.get(word)\n",
        "            #and store inside the embedding matrix that we will train later on.\n",
        "            if embedding_vector is not None: \n",
        "                embedding_matrix[i] = embedding_vector\n",
        "                embeddedCount+=1\n",
        "        print('total embedded:',embeddedCount,'common words')\n",
        "        \n",
        "        del(embeddings_index)\n",
        "        gc.collect()\n",
        "        \n",
        "        #finally, return the embedding matrix\n",
        "        return embedding_matrix"
      ],
      "execution_count": null,
      "outputs": []
    },
    {
      "cell_type": "code",
      "metadata": {
        "id": "k8ta1iTFKhaO",
        "colab_type": "code",
        "colab": {}
      },
      "source": [
        "def create_network():\n",
        "  inp = Input(shape=(maxlen, )) \n",
        "  x = Embedding(len(tokenizer.word_index), embedding_matrix.shape[1],weights=[embedding_matrix],trainable=False)(inp)\n",
        "  x = Bidirectional(LSTM(60, return_sequences=True,name='lstm_layer',dropout=0.1,recurrent_dropout=0.1))(x)\n",
        "  x = GlobalMaxPool1D()(x)\n",
        "  x = Dropout(0.1)(x)\n",
        "  x = Dense(50, activation=\"relu\")(x)\n",
        "  x = Dropout(0.1)(x)\n",
        "  x = Dense(7, activation=\"sigmoid\")(x)\n",
        "  model = Model(inputs=inp, outputs=x)\n",
        "  model.compile(loss='binary_crossentropy',\n",
        "                    optimizer='adam',\n",
        "                    metrics=['accuracy'])\n",
        "  return model"
      ],
      "execution_count": null,
      "outputs": []
    },
    {
      "cell_type": "markdown",
      "metadata": {
        "id": "N518dwPEJmu9",
        "colab_type": "text"
      },
      "source": [
        "## Fasttext"
      ]
    },
    {
      "cell_type": "code",
      "metadata": {
        "id": "QAxrhg3gJoQf",
        "colab_type": "code",
        "colab": {
          "base_uri": "https://localhost:8080/",
          "height": 54
        },
        "outputId": "f2aaa7a8-f041-4ff5-c298-9731526804d6"
      },
      "source": [
        "embedding_matrix = loadEmbeddingMatrix('fasttext')"
      ],
      "execution_count": null,
      "outputs": [
        {
          "output_type": "stream",
          "text": [
            "Loaded 999994 word vectors.\n",
            "total embedded: 27871 common words\n"
          ],
          "name": "stdout"
        }
      ]
    },
    {
      "cell_type": "code",
      "metadata": {
        "id": "Qr10w9-zKzJy",
        "colab_type": "code",
        "colab": {
          "base_uri": "https://localhost:8080/",
          "height": 92
        },
        "outputId": "55bb2c27-433c-45ad-b30a-f08b5892fedb"
      },
      "source": [
        "nn = create_network()"
      ],
      "execution_count": null,
      "outputs": [
        {
          "output_type": "stream",
          "text": [
            "WARNING:tensorflow:Layer lstm_layer will not use cuDNN kernel since it doesn't meet the cuDNN kernel criteria. It will use generic GPU kernel as fallback when running on GPU\n",
            "WARNING:tensorflow:Layer lstm_layer will not use cuDNN kernel since it doesn't meet the cuDNN kernel criteria. It will use generic GPU kernel as fallback when running on GPU\n",
            "WARNING:tensorflow:Layer lstm_layer will not use cuDNN kernel since it doesn't meet the cuDNN kernel criteria. It will use generic GPU kernel as fallback when running on GPU\n"
          ],
          "name": "stdout"
        }
      ]
    },
    {
      "cell_type": "code",
      "metadata": {
        "id": "zCo_5yV9K2pR",
        "colab_type": "code",
        "colab": {
          "base_uri": "https://localhost:8080/",
          "height": 454
        },
        "outputId": "aefb2881-11f9-4ecb-c57f-d3a89b3b8fc6"
      },
      "source": [
        "nn.summary()"
      ],
      "execution_count": null,
      "outputs": [
        {
          "output_type": "stream",
          "text": [
            "Model: \"functional_1\"\n",
            "_________________________________________________________________\n",
            "Layer (type)                 Output Shape              Param #   \n",
            "=================================================================\n",
            "input_1 (InputLayer)         [(None, 200)]             0         \n",
            "_________________________________________________________________\n",
            "embedding (Embedding)        (None, 200, 300)          10802100  \n",
            "_________________________________________________________________\n",
            "bidirectional (Bidirectional (None, 200, 120)          173280    \n",
            "_________________________________________________________________\n",
            "global_max_pooling1d (Global (None, 120)               0         \n",
            "_________________________________________________________________\n",
            "dropout (Dropout)            (None, 120)               0         \n",
            "_________________________________________________________________\n",
            "dense (Dense)                (None, 50)                6050      \n",
            "_________________________________________________________________\n",
            "dropout_1 (Dropout)          (None, 50)                0         \n",
            "_________________________________________________________________\n",
            "dense_1 (Dense)              (None, 7)                 357       \n",
            "=================================================================\n",
            "Total params: 10,981,787\n",
            "Trainable params: 179,687\n",
            "Non-trainable params: 10,802,100\n",
            "_________________________________________________________________\n"
          ],
          "name": "stdout"
        }
      ]
    },
    {
      "cell_type": "code",
      "metadata": {
        "id": "eSzTJpDZK-jC",
        "colab_type": "code",
        "colab": {
          "base_uri": "https://localhost:8080/",
          "height": 781
        },
        "outputId": "36a8334f-5825-4bf1-ae6b-63078046a3a4"
      },
      "source": [
        "%%time\n",
        "batch_size = 128\n",
        "epochs = 20\n",
        "hist = nn.fit(X_train,y, batch_size=batch_size, epochs=epochs, validation_split=0.1)"
      ],
      "execution_count": null,
      "outputs": [
        {
          "output_type": "stream",
          "text": [
            "Epoch 1/20\n",
            "79/79 [==============================] - 101s 1s/step - loss: 0.2297 - accuracy: 0.8702 - val_loss: 0.1538 - val_accuracy: 0.9096\n",
            "Epoch 2/20\n",
            "79/79 [==============================] - 101s 1s/step - loss: 0.1691 - accuracy: 0.8997 - val_loss: 0.1482 - val_accuracy: 0.9096\n",
            "Epoch 3/20\n",
            "79/79 [==============================] - 100s 1s/step - loss: 0.1638 - accuracy: 0.8997 - val_loss: 0.1424 - val_accuracy: 0.9096\n",
            "Epoch 4/20\n",
            "79/79 [==============================] - 100s 1s/step - loss: 0.1563 - accuracy: 0.8997 - val_loss: 0.1326 - val_accuracy: 0.9096\n",
            "Epoch 5/20\n",
            "79/79 [==============================] - 101s 1s/step - loss: 0.1438 - accuracy: 0.8988 - val_loss: 0.1230 - val_accuracy: 0.9114\n",
            "Epoch 6/20\n",
            "79/79 [==============================] - 99s 1s/step - loss: 0.1353 - accuracy: 0.9026 - val_loss: 0.1151 - val_accuracy: 0.9248\n",
            "Epoch 7/20\n",
            "79/79 [==============================] - 100s 1s/step - loss: 0.1221 - accuracy: 0.9167 - val_loss: 0.1086 - val_accuracy: 0.9293\n",
            "Epoch 8/20\n",
            "79/79 [==============================] - 102s 1s/step - loss: 0.1123 - accuracy: 0.9197 - val_loss: 0.1020 - val_accuracy: 0.9176\n",
            "Epoch 9/20\n",
            "79/79 [==============================] - 104s 1s/step - loss: 0.1037 - accuracy: 0.9216 - val_loss: 0.0982 - val_accuracy: 0.9338\n",
            "Epoch 10/20\n",
            "79/79 [==============================] - 102s 1s/step - loss: 0.0984 - accuracy: 0.9301 - val_loss: 0.0959 - val_accuracy: 0.9346\n",
            "Epoch 11/20\n",
            "79/79 [==============================] - 99s 1s/step - loss: 0.0916 - accuracy: 0.9346 - val_loss: 0.0927 - val_accuracy: 0.9338\n",
            "Epoch 12/20\n",
            "79/79 [==============================] - 100s 1s/step - loss: 0.0882 - accuracy: 0.9376 - val_loss: 0.0927 - val_accuracy: 0.9400\n",
            "Epoch 13/20\n",
            "79/79 [==============================] - 99s 1s/step - loss: 0.0821 - accuracy: 0.9420 - val_loss: 0.0908 - val_accuracy: 0.9400\n",
            "Epoch 14/20\n",
            "79/79 [==============================] - 100s 1s/step - loss: 0.0780 - accuracy: 0.9454 - val_loss: 0.0988 - val_accuracy: 0.9346\n",
            "Epoch 15/20\n",
            "79/79 [==============================] - 99s 1s/step - loss: 0.0745 - accuracy: 0.9468 - val_loss: 0.0884 - val_accuracy: 0.9445\n",
            "Epoch 16/20\n",
            "79/79 [==============================] - 98s 1s/step - loss: 0.0701 - accuracy: 0.9498 - val_loss: 0.0859 - val_accuracy: 0.9445\n",
            "Epoch 17/20\n",
            "79/79 [==============================] - 102s 1s/step - loss: 0.0654 - accuracy: 0.9563 - val_loss: 0.0901 - val_accuracy: 0.9400\n",
            "Epoch 18/20\n",
            "79/79 [==============================] - 104s 1s/step - loss: 0.0627 - accuracy: 0.9569 - val_loss: 0.0936 - val_accuracy: 0.9445\n",
            "Epoch 19/20\n",
            "79/79 [==============================] - 105s 1s/step - loss: 0.0596 - accuracy: 0.9578 - val_loss: 0.0915 - val_accuracy: 0.9481\n",
            "Epoch 20/20\n",
            "79/79 [==============================] - 104s 1s/step - loss: 0.0569 - accuracy: 0.9617 - val_loss: 0.1000 - val_accuracy: 0.9445\n",
            "CPU times: user 51min 31s, sys: 8min 6s, total: 59min 37s\n",
            "Wall time: 34min 12s\n"
          ],
          "name": "stdout"
        }
      ]
    },
    {
      "cell_type": "code",
      "metadata": {
        "id": "5n-9scXALYJg",
        "colab_type": "code",
        "colab": {}
      },
      "source": [
        "prediction_test = nn.predict(X_test)"
      ],
      "execution_count": null,
      "outputs": []
    },
    {
      "cell_type": "code",
      "metadata": {
        "id": "2S3bVDjVLdym",
        "colab_type": "code",
        "colab": {}
      },
      "source": [
        "prediction_test[prediction_test >= 0.5] = 1\n",
        "prediction_test[prediction_test < 0.5] = 0"
      ],
      "execution_count": null,
      "outputs": []
    },
    {
      "cell_type": "code",
      "metadata": {
        "id": "QSnVDZnsKDp6",
        "colab_type": "code",
        "colab": {
          "base_uri": "https://localhost:8080/",
          "height": 383
        },
        "outputId": "1f111888-1da8-4abf-af69-f0c71a7b16f7"
      },
      "source": [
        "print(classification_report(test_df.loc[:,list_classes], prediction_test,\\\n",
        "                            target_names=list_classes))"
      ],
      "execution_count": null,
      "outputs": [
        {
          "output_type": "stream",
          "text": [
            "               precision    recall  f1-score   support\n",
            "\n",
            "        toxic       0.85      0.49      0.62       429\n",
            " severe_toxic       0.50      0.04      0.08        48\n",
            "      obscene       0.87      0.58      0.70       254\n",
            "       threat       0.00      0.00      0.00        14\n",
            "       insult       0.78      0.56      0.65       219\n",
            "identity_hate       0.00      0.00      0.00        43\n",
            "        clean       0.95      0.99      0.97      4338\n",
            "\n",
            "    micro avg       0.94      0.89      0.91      5345\n",
            "    macro avg       0.56      0.38      0.43      5345\n",
            " weighted avg       0.92      0.89      0.90      5345\n",
            "  samples avg       0.94      0.93      0.93      5345\n",
            "\n"
          ],
          "name": "stdout"
        },
        {
          "output_type": "stream",
          "text": [
            "/usr/local/lib/python3.6/dist-packages/sklearn/metrics/_classification.py:1272: UndefinedMetricWarning: Precision and F-score are ill-defined and being set to 0.0 in labels with no predicted samples. Use `zero_division` parameter to control this behavior.\n",
            "  _warn_prf(average, modifier, msg_start, len(result))\n",
            "/usr/local/lib/python3.6/dist-packages/sklearn/metrics/_classification.py:1272: UndefinedMetricWarning: Precision and F-score are ill-defined and being set to 0.0 in samples with no predicted labels. Use `zero_division` parameter to control this behavior.\n",
            "  _warn_prf(average, modifier, msg_start, len(result))\n"
          ],
          "name": "stderr"
        }
      ]
    },
    {
      "cell_type": "markdown",
      "metadata": {
        "id": "U6FLCuv6JpFK",
        "colab_type": "text"
      },
      "source": [
        "## Glove"
      ]
    },
    {
      "cell_type": "code",
      "metadata": {
        "id": "wXmvKRzAJqS_",
        "colab_type": "code",
        "colab": {
          "base_uri": "https://localhost:8080/",
          "height": 54
        },
        "outputId": "5715b11d-6b18-4dfe-bd66-aeb68c4f71ae"
      },
      "source": [
        "embedding_matrix = loadEmbeddingMatrix('glove')"
      ],
      "execution_count": null,
      "outputs": [
        {
          "output_type": "stream",
          "text": [
            "Loaded 1193513 word vectors.\n",
            "total embedded: 26495 common words\n"
          ],
          "name": "stdout"
        }
      ]
    },
    {
      "cell_type": "code",
      "metadata": {
        "id": "MY0zsZjKLqPY",
        "colab_type": "code",
        "colab": {}
      },
      "source": [
        "nn = create_network()"
      ],
      "execution_count": null,
      "outputs": []
    },
    {
      "cell_type": "code",
      "metadata": {
        "id": "wtYK1ofRLr5Y",
        "colab_type": "code",
        "colab": {
          "base_uri": "https://localhost:8080/",
          "height": 454
        },
        "outputId": "01ed43b4-78ea-4bb6-c882-01ac12487732"
      },
      "source": [
        "nn.summary()"
      ],
      "execution_count": null,
      "outputs": [
        {
          "output_type": "stream",
          "text": [
            "Model: \"model_2\"\n",
            "_________________________________________________________________\n",
            "Layer (type)                 Output Shape              Param #   \n",
            "=================================================================\n",
            "input_2 (InputLayer)         (None, 200)               0         \n",
            "_________________________________________________________________\n",
            "embedding_2 (Embedding)      (None, 200, 25)           899500    \n",
            "_________________________________________________________________\n",
            "bidirectional_2 (Bidirection (None, 200, 120)          41280     \n",
            "_________________________________________________________________\n",
            "global_max_pooling1d_2 (Glob (None, 120)               0         \n",
            "_________________________________________________________________\n",
            "dropout_3 (Dropout)          (None, 120)               0         \n",
            "_________________________________________________________________\n",
            "dense_3 (Dense)              (None, 50)                6050      \n",
            "_________________________________________________________________\n",
            "dropout_4 (Dropout)          (None, 50)                0         \n",
            "_________________________________________________________________\n",
            "dense_4 (Dense)              (None, 7)                 357       \n",
            "=================================================================\n",
            "Total params: 947,187\n",
            "Trainable params: 47,687\n",
            "Non-trainable params: 899,500\n",
            "_________________________________________________________________\n"
          ],
          "name": "stdout"
        }
      ]
    },
    {
      "cell_type": "code",
      "metadata": {
        "id": "UdDNyhnXOc5e",
        "colab_type": "code",
        "colab": {
          "base_uri": "https://localhost:8080/",
          "height": 435
        },
        "outputId": "feb24f6f-a39e-4148-b8da-d7ac853cddb5"
      },
      "source": [
        "%%time\n",
        "batch_size = 128\n",
        "epochs = 10\n",
        "hist = nn.fit(X_train,y, batch_size=batch_size, epochs=epochs, validation_split=0.1)"
      ],
      "execution_count": null,
      "outputs": [
        {
          "output_type": "stream",
          "text": [
            "Train on 10053 samples, validate on 1117 samples\n",
            "Epoch 1/10\n",
            "10053/10053 [==============================] - 39s 4ms/step - loss: 0.2193 - accuracy: 0.9375 - val_loss: 0.1564 - val_accuracy: 0.9550\n",
            "Epoch 2/10\n",
            "10053/10053 [==============================] - 38s 4ms/step - loss: 0.1673 - accuracy: 0.9542 - val_loss: 0.1526 - val_accuracy: 0.9550\n",
            "Epoch 3/10\n",
            "10053/10053 [==============================] - 38s 4ms/step - loss: 0.1639 - accuracy: 0.9543 - val_loss: 0.1505 - val_accuracy: 0.9550\n",
            "Epoch 4/10\n",
            "10053/10053 [==============================] - 38s 4ms/step - loss: 0.1610 - accuracy: 0.9542 - val_loss: 0.1488 - val_accuracy: 0.9550\n",
            "Epoch 5/10\n",
            "10053/10053 [==============================] - 38s 4ms/step - loss: 0.1589 - accuracy: 0.9543 - val_loss: 0.1484 - val_accuracy: 0.9550\n",
            "Epoch 6/10\n",
            "10053/10053 [==============================] - 38s 4ms/step - loss: 0.1579 - accuracy: 0.9543 - val_loss: 0.1473 - val_accuracy: 0.9550\n",
            "Epoch 7/10\n",
            "10053/10053 [==============================] - 39s 4ms/step - loss: 0.1546 - accuracy: 0.9543 - val_loss: 0.1449 - val_accuracy: 0.9550\n",
            "Epoch 8/10\n",
            "10053/10053 [==============================] - 38s 4ms/step - loss: 0.1525 - accuracy: 0.9543 - val_loss: 0.1436 - val_accuracy: 0.9550\n",
            "Epoch 9/10\n",
            "10053/10053 [==============================] - 38s 4ms/step - loss: 0.1515 - accuracy: 0.9543 - val_loss: 0.1422 - val_accuracy: 0.9550\n",
            "Epoch 10/10\n",
            "10053/10053 [==============================] - 39s 4ms/step - loss: 0.1484 - accuracy: 0.9544 - val_loss: 0.1407 - val_accuracy: 0.9550\n",
            "CPU times: user 11min 48s, sys: 33.2 s, total: 12min 21s\n",
            "Wall time: 6min 27s\n"
          ],
          "name": "stdout"
        }
      ]
    },
    {
      "cell_type": "code",
      "metadata": {
        "id": "eU52T90rLtHR",
        "colab_type": "code",
        "colab": {}
      },
      "source": [
        "prediction_test = nn.predict(X_test)"
      ],
      "execution_count": null,
      "outputs": []
    },
    {
      "cell_type": "code",
      "metadata": {
        "id": "X8iv53DaLubB",
        "colab_type": "code",
        "colab": {}
      },
      "source": [
        "prediction_test[prediction_test >= 0.5] = 1\n",
        "prediction_test[prediction_test < 0.5] = 0"
      ],
      "execution_count": null,
      "outputs": []
    },
    {
      "cell_type": "code",
      "metadata": {
        "id": "wiDr56NuKIcW",
        "colab_type": "code",
        "colab": {
          "base_uri": "https://localhost:8080/",
          "height": 346
        },
        "outputId": "baf89a33-0c88-4e81-f81e-b176714bf922"
      },
      "source": [
        "print(classification_report(test_df.loc[:,list_classes], prediction_test,\\\n",
        "                            target_names=list_classes))"
      ],
      "execution_count": null,
      "outputs": [
        {
          "output_type": "stream",
          "text": [
            "               precision    recall  f1-score   support\n",
            "\n",
            "        toxic       0.00      0.00      0.00       463\n",
            " severe_toxic       0.00      0.00      0.00        48\n",
            "      obscene       0.00      0.00      0.00       260\n",
            "       threat       0.00      0.00      0.00        14\n",
            "       insult       0.00      0.00      0.00       250\n",
            "identity_hate       0.00      0.00      0.00        43\n",
            "        clean       0.90      1.00      0.95      4303\n",
            "\n",
            "    micro avg       0.90      0.80      0.85      5381\n",
            "    macro avg       0.13      0.14      0.14      5381\n",
            " weighted avg       0.72      0.80      0.76      5381\n",
            "  samples avg       0.90      0.90      0.90      5381\n",
            "\n"
          ],
          "name": "stdout"
        },
        {
          "output_type": "stream",
          "text": [
            "/usr/local/lib/python3.6/dist-packages/sklearn/metrics/_classification.py:1272: UndefinedMetricWarning: Precision and F-score are ill-defined and being set to 0.0 in labels with no predicted samples. Use `zero_division` parameter to control this behavior.\n",
            "  _warn_prf(average, modifier, msg_start, len(result))\n"
          ],
          "name": "stderr"
        }
      ]
    },
    {
      "cell_type": "markdown",
      "metadata": {
        "id": "vIc9RZgraRd_",
        "colab_type": "text"
      },
      "source": [
        "# Doc2Vec"
      ]
    },
    {
      "cell_type": "code",
      "metadata": {
        "id": "CSP1rPaRbR-J",
        "colab_type": "code",
        "colab": {}
      },
      "source": [
        "train_tagged = train_df.apply(\n",
        "    lambda x: TaggedDocument(words=tokenize(x['comment_text']),tags=[x.name]), axis=1)\n",
        "test_tagged = test_df.apply(\n",
        "    lambda x: TaggedDocument(words=tokenize(x['comment_text']),tags=[x.name]), axis=1)"
      ],
      "execution_count": null,
      "outputs": []
    },
    {
      "cell_type": "code",
      "metadata": {
        "id": "Hj991FHBAPa9",
        "colab_type": "code",
        "colab": {}
      },
      "source": [
        "cores = multiprocessing.cpu_count()"
      ],
      "execution_count": null,
      "outputs": []
    },
    {
      "cell_type": "code",
      "metadata": {
        "id": "SCFqMMF8AQeA",
        "colab_type": "code",
        "colab": {
          "base_uri": "https://localhost:8080/",
          "height": 35
        },
        "outputId": "7c3d54cf-fd04-49d1-8f2d-19fad0130eba"
      },
      "source": [
        "model_dbow = Doc2Vec(dm=0, vector_size=300, negative=5, hs=0, min_count=2, sample = 0, workers=cores)\n",
        "model_dbow.build_vocab([x for x in tqdm(train_tagged.values)])"
      ],
      "execution_count": null,
      "outputs": [
        {
          "output_type": "stream",
          "text": [
            "100%|██████████| 11170/11170 [00:00<00:00, 1389394.30it/s]\n"
          ],
          "name": "stderr"
        }
      ]
    },
    {
      "cell_type": "code",
      "metadata": {
        "id": "PK4R78YRAnVh",
        "colab_type": "code",
        "colab": {
          "base_uri": "https://localhost:8080/",
          "height": 599
        },
        "outputId": "43b4b5b7-1a0c-426d-a777-ecd6ca74ca49"
      },
      "source": [
        "%%time\n",
        "for epoch in range(30):\n",
        "    model_dbow.train(utils.shuffle([x for x in tqdm(train_tagged.values)]), total_examples=len(train_tagged.values), epochs=1)\n",
        "    model_dbow.alpha -= 0.002\n",
        "    model_dbow.min_alpha = model_dbow.alpha"
      ],
      "execution_count": null,
      "outputs": [
        {
          "output_type": "stream",
          "text": [
            "100%|██████████| 11170/11170 [00:00<00:00, 844729.29it/s]\n",
            "100%|██████████| 11170/11170 [00:00<00:00, 2130821.65it/s]\n",
            "100%|██████████| 11170/11170 [00:00<00:00, 2364747.41it/s]\n",
            "100%|██████████| 11170/11170 [00:00<00:00, 2370250.72it/s]\n",
            "100%|██████████| 11170/11170 [00:00<00:00, 807472.74it/s]\n",
            "100%|██████████| 11170/11170 [00:00<00:00, 1923961.06it/s]\n",
            "100%|██████████| 11170/11170 [00:00<00:00, 1672212.43it/s]\n",
            "100%|██████████| 11170/11170 [00:00<00:00, 1781518.58it/s]\n",
            "100%|██████████| 11170/11170 [00:00<00:00, 2453670.04it/s]\n",
            "100%|██████████| 11170/11170 [00:00<00:00, 1653737.23it/s]\n",
            "100%|██████████| 11170/11170 [00:00<00:00, 2115905.32it/s]\n",
            "100%|██████████| 11170/11170 [00:00<00:00, 2372771.62it/s]\n",
            "100%|██████████| 11170/11170 [00:00<00:00, 2419707.45it/s]\n",
            "100%|██████████| 11170/11170 [00:00<00:00, 2377708.88it/s]\n",
            "100%|██████████| 11170/11170 [00:00<00:00, 2327968.98it/s]\n",
            "100%|██████████| 11170/11170 [00:00<00:00, 2384971.27it/s]\n",
            "100%|██████████| 11170/11170 [00:00<00:00, 1689154.01it/s]\n",
            "100%|██████████| 11170/11170 [00:00<00:00, 1931098.29it/s]\n",
            "100%|██████████| 11170/11170 [00:00<00:00, 2402583.37it/s]\n",
            "100%|██████████| 11170/11170 [00:00<00:00, 2243899.41it/s]\n",
            "100%|██████████| 11170/11170 [00:00<00:00, 2420332.47it/s]\n",
            "100%|██████████| 11170/11170 [00:00<00:00, 1559495.90it/s]\n",
            "100%|██████████| 11170/11170 [00:00<00:00, 2147129.96it/s]\n",
            "100%|██████████| 11170/11170 [00:00<00:00, 2310404.17it/s]\n",
            "100%|██████████| 11170/11170 [00:00<00:00, 1666680.03it/s]\n",
            "100%|██████████| 11170/11170 [00:00<00:00, 1965695.04it/s]\n",
            "100%|██████████| 11170/11170 [00:00<00:00, 2383151.52it/s]\n",
            "100%|██████████| 11170/11170 [00:00<00:00, 2376261.70it/s]\n",
            "100%|██████████| 11170/11170 [00:00<00:00, 2781758.44it/s]\n",
            "100%|██████████| 11170/11170 [00:00<00:00, 2406285.35it/s]\n"
          ],
          "name": "stderr"
        },
        {
          "output_type": "stream",
          "text": [
            "CPU times: user 52.4 s, sys: 2.72 s, total: 55.1 s\n",
            "Wall time: 31.9 s\n"
          ],
          "name": "stdout"
        }
      ]
    },
    {
      "cell_type": "code",
      "metadata": {
        "id": "s0vM9HVuA7S4",
        "colab_type": "code",
        "colab": {}
      },
      "source": [
        "def vec_for_learning(model, tagged_docs,df):\n",
        "    sents = tagged_docs.values\n",
        "    targets, regressors = zip(*[(df.loc[doc.tags[0],label_columns].values, model.infer_vector(doc.words, steps=20)) for doc in sents])\n",
        "    return targets, regressors"
      ],
      "execution_count": null,
      "outputs": []
    },
    {
      "cell_type": "code",
      "metadata": {
        "id": "ak7LYdZ_A_Bo",
        "colab_type": "code",
        "colab": {}
      },
      "source": [
        "y_train, X_train = vec_for_learning(model_dbow, train_tagged, train_df)\n",
        "y_test, X_test = vec_for_learning(model_dbow, test_tagged, test_df)\n",
        "y_train=np.asarray(y_train,dtype=int)\n",
        "y_test=np.asarray(y_test,dtype=int)"
      ],
      "execution_count": null,
      "outputs": []
    },
    {
      "cell_type": "code",
      "metadata": {
        "id": "Fzav7HSY6Zht",
        "colab_type": "code",
        "colab": {}
      },
      "source": [
        "clf = MultiOutputClassifier(LogisticRegression()).fit(X_train, y_train)\n",
        "prediction_train = clf.predict(X_train)\n",
        "prediction_test = clf.predict(X_test)"
      ],
      "execution_count": null,
      "outputs": []
    },
    {
      "cell_type": "code",
      "metadata": {
        "id": "uN0B4fIo8HXB",
        "colab_type": "code",
        "colab": {
          "base_uri": "https://localhost:8080/",
          "height": 383
        },
        "outputId": "8df18797-5e53-48b5-8d40-6241ed87df69"
      },
      "source": [
        "print(classification_report(y_train, prediction_train,\\\n",
        "                            target_names=list_classes))"
      ],
      "execution_count": null,
      "outputs": [
        {
          "output_type": "stream",
          "text": [
            "               precision    recall  f1-score   support\n",
            "\n",
            "        toxic       0.83      0.00      0.01      1076\n",
            " severe_toxic       0.50      0.01      0.02       111\n",
            "      obscene       1.00      0.01      0.01       574\n",
            "       threat       0.00      0.00      0.00        34\n",
            "       insult       0.50      0.00      0.00       537\n",
            "identity_hate       0.00      0.00      0.00        98\n",
            "        clean       0.90      1.00      0.95     10029\n",
            "\n",
            "    micro avg       0.90      0.81      0.85     12459\n",
            "    macro avg       0.53      0.15      0.14     12459\n",
            " weighted avg       0.87      0.81      0.76     12459\n",
            "  samples avg       0.90      0.90      0.90     12459\n",
            "\n"
          ],
          "name": "stdout"
        },
        {
          "output_type": "stream",
          "text": [
            "/usr/local/lib/python3.6/dist-packages/sklearn/metrics/_classification.py:1272: UndefinedMetricWarning: Precision and F-score are ill-defined and being set to 0.0 in labels with no predicted samples. Use `zero_division` parameter to control this behavior.\n",
            "  _warn_prf(average, modifier, msg_start, len(result))\n",
            "/usr/local/lib/python3.6/dist-packages/sklearn/metrics/_classification.py:1272: UndefinedMetricWarning: Precision and F-score are ill-defined and being set to 0.0 in samples with no predicted labels. Use `zero_division` parameter to control this behavior.\n",
            "  _warn_prf(average, modifier, msg_start, len(result))\n"
          ],
          "name": "stderr"
        }
      ]
    },
    {
      "cell_type": "code",
      "metadata": {
        "id": "QQjOu6vH9sb4",
        "colab_type": "code",
        "colab": {
          "base_uri": "https://localhost:8080/",
          "height": 346
        },
        "outputId": "1ffb40a3-2986-491c-9abf-fe045af5c55a"
      },
      "source": [
        "print(classification_report(y_test, prediction_test,\\\n",
        "                            target_names=list_classes))"
      ],
      "execution_count": null,
      "outputs": [
        {
          "output_type": "stream",
          "text": [
            "               precision    recall  f1-score   support\n",
            "\n",
            "        toxic       1.00      0.00      0.00       463\n",
            " severe_toxic       0.00      0.00      0.00        48\n",
            "      obscene       1.00      0.00      0.01       260\n",
            "       threat       0.00      0.00      0.00        14\n",
            "       insult       0.00      0.00      0.00       250\n",
            "identity_hate       0.00      0.00      0.00        43\n",
            "        clean       0.90      1.00      0.95      4303\n",
            "\n",
            "    micro avg       0.90      0.80      0.85      5381\n",
            "    macro avg       0.41      0.14      0.14      5381\n",
            " weighted avg       0.85      0.80      0.76      5381\n",
            "  samples avg       0.90      0.90      0.90      5381\n",
            "\n"
          ],
          "name": "stdout"
        },
        {
          "output_type": "stream",
          "text": [
            "/usr/local/lib/python3.6/dist-packages/sklearn/metrics/_classification.py:1272: UndefinedMetricWarning: Precision and F-score are ill-defined and being set to 0.0 in labels with no predicted samples. Use `zero_division` parameter to control this behavior.\n",
            "  _warn_prf(average, modifier, msg_start, len(result))\n"
          ],
          "name": "stderr"
        }
      ]
    },
    {
      "cell_type": "markdown",
      "metadata": {
        "id": "-U9cHAKqPXfe",
        "colab_type": "text"
      },
      "source": [
        "# BERT"
      ]
    },
    {
      "cell_type": "code",
      "metadata": {
        "id": "_cd1SbbH0QFz",
        "colab_type": "code",
        "colab": {
          "base_uri": "https://localhost:8080/",
          "height": 405
        },
        "outputId": "e5c9053a-d2c5-49a6-f5e7-d721af4889cc"
      },
      "source": [
        "! pip install simplerepresentations"
      ],
      "execution_count": 12,
      "outputs": [
        {
          "output_type": "stream",
          "text": [
            "Requirement already satisfied: simplerepresentations in /usr/local/lib/python3.6/dist-packages (0.0.4)\n",
            "Requirement already satisfied: tqdm in /usr/local/lib/python3.6/dist-packages (from simplerepresentations) (4.41.1)\n",
            "Requirement already satisfied: torch in /usr/local/lib/python3.6/dist-packages (from simplerepresentations) (1.6.0+cu101)\n",
            "Requirement already satisfied: transformers in /usr/local/lib/python3.6/dist-packages (from simplerepresentations) (3.1.0)\n",
            "Requirement already satisfied: numpy in /usr/local/lib/python3.6/dist-packages (from simplerepresentations) (1.18.5)\n",
            "Requirement already satisfied: future in /usr/local/lib/python3.6/dist-packages (from torch->simplerepresentations) (0.16.0)\n",
            "Requirement already satisfied: sentencepiece!=0.1.92 in /usr/local/lib/python3.6/dist-packages (from transformers->simplerepresentations) (0.1.91)\n",
            "Requirement already satisfied: filelock in /usr/local/lib/python3.6/dist-packages (from transformers->simplerepresentations) (3.0.12)\n",
            "Requirement already satisfied: regex!=2019.12.17 in /usr/local/lib/python3.6/dist-packages (from transformers->simplerepresentations) (2019.12.20)\n",
            "Requirement already satisfied: dataclasses; python_version < \"3.7\" in /usr/local/lib/python3.6/dist-packages (from transformers->simplerepresentations) (0.7)\n",
            "Requirement already satisfied: sacremoses in /usr/local/lib/python3.6/dist-packages (from transformers->simplerepresentations) (0.0.43)\n",
            "Requirement already satisfied: tokenizers==0.8.1.rc2 in /usr/local/lib/python3.6/dist-packages (from transformers->simplerepresentations) (0.8.1rc2)\n",
            "Requirement already satisfied: packaging in /usr/local/lib/python3.6/dist-packages (from transformers->simplerepresentations) (20.4)\n",
            "Requirement already satisfied: requests in /usr/local/lib/python3.6/dist-packages (from transformers->simplerepresentations) (2.23.0)\n",
            "Requirement already satisfied: joblib in /usr/local/lib/python3.6/dist-packages (from sacremoses->transformers->simplerepresentations) (0.16.0)\n",
            "Requirement already satisfied: click in /usr/local/lib/python3.6/dist-packages (from sacremoses->transformers->simplerepresentations) (7.1.2)\n",
            "Requirement already satisfied: six in /usr/local/lib/python3.6/dist-packages (from sacremoses->transformers->simplerepresentations) (1.15.0)\n",
            "Requirement already satisfied: pyparsing>=2.0.2 in /usr/local/lib/python3.6/dist-packages (from packaging->transformers->simplerepresentations) (2.4.7)\n",
            "Requirement already satisfied: urllib3!=1.25.0,!=1.25.1,<1.26,>=1.21.1 in /usr/local/lib/python3.6/dist-packages (from requests->transformers->simplerepresentations) (1.24.3)\n",
            "Requirement already satisfied: idna<3,>=2.5 in /usr/local/lib/python3.6/dist-packages (from requests->transformers->simplerepresentations) (2.10)\n",
            "Requirement already satisfied: chardet<4,>=3.0.2 in /usr/local/lib/python3.6/dist-packages (from requests->transformers->simplerepresentations) (3.0.4)\n",
            "Requirement already satisfied: certifi>=2017.4.17 in /usr/local/lib/python3.6/dist-packages (from requests->transformers->simplerepresentations) (2020.6.20)\n"
          ],
          "name": "stdout"
        }
      ]
    },
    {
      "cell_type": "code",
      "metadata": {
        "id": "WbDQ4z3yCT1e",
        "colab_type": "code",
        "colab": {}
      },
      "source": [
        "# for BERT\n",
        "from simplerepresentations import RepresentationModel"
      ],
      "execution_count": 13,
      "outputs": []
    },
    {
      "cell_type": "code",
      "metadata": {
        "id": "rSMQybSeDind",
        "colab_type": "code",
        "colab": {}
      },
      "source": [
        "train_df, val_df = train_test_split(train_df,stratify=train_df.loc[:,['severe_toxic','identity_hate','threat']],test_size=0.1)"
      ],
      "execution_count": 24,
      "outputs": []
    },
    {
      "cell_type": "code",
      "metadata": {
        "id": "__R0SFWID9qi",
        "colab_type": "code",
        "colab": {
          "base_uri": "https://localhost:8080/",
          "height": 33
        },
        "outputId": "ea505b09-a38d-4df6-c5e0-6d0128a7262b"
      },
      "source": [
        "train_df.shape, val_df.shape, test_df.shape"
      ],
      "execution_count": 26,
      "outputs": [
        {
          "output_type": "execute_result",
          "data": {
            "text/plain": [
              "((10053, 9), (1117, 9), (4788, 9))"
            ]
          },
          "metadata": {
            "tags": []
          },
          "execution_count": 26
        }
      ]
    },
    {
      "cell_type": "code",
      "metadata": {
        "id": "LRSEKoi2_bLK",
        "colab_type": "code",
        "colab": {}
      },
      "source": [
        "list_classes = [\"toxic\", \"severe_toxic\", \"obscene\", \"threat\", \"insult\", \"identity_hate\", 'clean']\n",
        "y_train = train_df[list_classes].values\n",
        "y_val = val_df[list_classes].values\n",
        "y_test = test_df[list_classes].values\n",
        "list_sentences_train = train_df[\"comment_text\"].to_list()\n",
        "list_sentences_val = val_df[\"comment_text\"].to_list()\n",
        "list_sentences_test = test_df[\"comment_text\"].to_list()"
      ],
      "execution_count": 27,
      "outputs": []
    },
    {
      "cell_type": "code",
      "metadata": {
        "id": "n0dZtZVo_feo",
        "colab_type": "code",
        "colab": {
          "base_uri": "https://localhost:8080/",
          "height": 212,
          "referenced_widgets": [
            "0681c80e5a0344f28254c0737d77d84f",
            "acb8ec0393824a449cfab62d5dce112f",
            "c9f1e625435b43a4996cd7319375136e",
            "0f78823a3d654354831f1acb3dab237c",
            "5722a3ad2c6f4d1aa1615f050bf785c6",
            "f2216493549e41d18d36fdd207064967",
            "71d9b4a2e6cc4c55badfcb6f66c256f3",
            "820ce7987b474192ab8e40a0c462a23a",
            "b385c804a3d94fe798ca7b26c0a93d12",
            "646c0b8443a241afa47245d7009f8615",
            "4ff668578c61447dbf72109b089dcfe5",
            "80eb389ab6814663aa3b07fc396d9ab2",
            "2b1dc24652c2455c80fd95349d56b839",
            "d6b847501f8943729fdbdbb600c3f114",
            "fbaedd0eef8442b78a89b0f65bca4663",
            "b5ab60ad75324d6e9d8e98e9657b1f94",
            "19563b08adfe437f89e1e15c30f2d81b",
            "95b708126bf54e308c53400db1f6a44f",
            "8f9da959b4154f069abf3f607884c903",
            "ba2fe3ee70f24c3aaf035f99dcdd78a1",
            "12277f65abf04fa8ab9f1b6b431faf07",
            "c702418a9c2a44b0ba2bd73c19cfa3b0",
            "63cf107576bc4693b18fd8226aa17674",
            "b93b4ea271014cfd9031532f4e7cb27a",
            "3068c5d0c6ef48c4900bb00fb17c9087",
            "aeecfce4beac47c5b5e165192fde8458",
            "97124295085c4f3181c982723dd34dd0",
            "f10a9b438de84f8c91246478e11f1c8f",
            "c32bcbc6c0874562b67c787e0e14fadc",
            "97cc957af07e41d09760baa3ae2bbf9d",
            "3dbd69c5a3a449c5a3436390a4114c89",
            "7e157f5da94a4fcfbe459c0dabf09a9a"
          ]
        },
        "outputId": "d0cbe22e-38d5-4ce7-e2f3-a27a382ef8a8"
      },
      "source": [
        "model_type = 'roberta'\n",
        "model_name = 'roberta-base'\n",
        "\n",
        "representation_model = RepresentationModel(\n",
        "    model_type=model_type,\n",
        "    model_name=model_name,\n",
        "    batch_size=128,\n",
        "    max_seq_length=200, # truncate sentences to be less than or equal to 128 tokens\n",
        "    combination_method='sum', # sum the last `last_hidden_to_use` hidden states\n",
        "    last_hidden_to_use=1, # use the last 1 hidden states to build tokens representations\n",
        "    verbose=0\n",
        ")"
      ],
      "execution_count": 15,
      "outputs": [
        {
          "output_type": "display_data",
          "data": {
            "application/vnd.jupyter.widget-view+json": {
              "model_id": "0681c80e5a0344f28254c0737d77d84f",
              "version_minor": 0,
              "version_major": 2
            },
            "text/plain": [
              "HBox(children=(FloatProgress(value=0.0, description='Downloading', max=481.0, style=ProgressStyle(description_…"
            ]
          },
          "metadata": {
            "tags": []
          }
        },
        {
          "output_type": "stream",
          "text": [
            "\n"
          ],
          "name": "stdout"
        },
        {
          "output_type": "display_data",
          "data": {
            "application/vnd.jupyter.widget-view+json": {
              "model_id": "b385c804a3d94fe798ca7b26c0a93d12",
              "version_minor": 0,
              "version_major": 2
            },
            "text/plain": [
              "HBox(children=(FloatProgress(value=0.0, description='Downloading', max=501200538.0, style=ProgressStyle(descri…"
            ]
          },
          "metadata": {
            "tags": []
          }
        },
        {
          "output_type": "stream",
          "text": [
            "\n"
          ],
          "name": "stdout"
        },
        {
          "output_type": "display_data",
          "data": {
            "application/vnd.jupyter.widget-view+json": {
              "model_id": "19563b08adfe437f89e1e15c30f2d81b",
              "version_minor": 0,
              "version_major": 2
            },
            "text/plain": [
              "HBox(children=(FloatProgress(value=0.0, description='Downloading', max=898823.0, style=ProgressStyle(descripti…"
            ]
          },
          "metadata": {
            "tags": []
          }
        },
        {
          "output_type": "stream",
          "text": [
            "\n"
          ],
          "name": "stdout"
        },
        {
          "output_type": "display_data",
          "data": {
            "application/vnd.jupyter.widget-view+json": {
              "model_id": "3068c5d0c6ef48c4900bb00fb17c9087",
              "version_minor": 0,
              "version_major": 2
            },
            "text/plain": [
              "HBox(children=(FloatProgress(value=0.0, description='Downloading', max=456318.0, style=ProgressStyle(descripti…"
            ]
          },
          "metadata": {
            "tags": []
          }
        },
        {
          "output_type": "stream",
          "text": [
            "\n"
          ],
          "name": "stdout"
        }
      ]
    },
    {
      "cell_type": "code",
      "metadata": {
        "id": "yR7ckCiB_jaY",
        "colab_type": "code",
        "colab": {}
      },
      "source": [
        "class DataGenerator(Sequence):\n",
        "    def __init__(self, representation_model, sentences, labels, batch_size, token_level=True):\n",
        "        self.representation_model = representation_model\n",
        "        self.sentences = sentences\n",
        "        self.labels = labels\n",
        "        self.batch_size = batch_size\n",
        "        self.token_level = token_level\n",
        "\n",
        "    def __len__(self):\n",
        "        return int(np.ceil(len(self.sentences) / float(self.batch_size)))\n",
        "\n",
        "    def __getitem__(self, idx):\n",
        "        sentences_batch = np.array(self.sentences[idx * self.batch_size:(idx + 1) * self.batch_size])\n",
        "        labels_batch = np.array(self.labels[idx * self.batch_size:(idx + 1) * self.batch_size])\n",
        "\n",
        "        sentences_sen_batch, sentences_tok_batch = self.representation_model(sentences_batch)\n",
        "\n",
        "        if self.token_level:\n",
        "            sentences_batch = sentences_tok_batch\n",
        "        else:\n",
        "            sentences_batch = sentences_sen_batch\n",
        "\n",
        "        return sentences_batch, np.array(labels_batch)\n",
        "\n",
        "train_tok_generator = DataGenerator(representation_model, list_sentences_train, y_train, 128)\n",
        "val_tok_generator = DataGenerator(representation_model, list_sentences_val, y_val, 128)\n",
        "test_tok_generator = DataGenerator(representation_model, list_sentences_test, y_test, 128)"
      ],
      "execution_count": 28,
      "outputs": []
    },
    {
      "cell_type": "code",
      "metadata": {
        "id": "nxFvxh8yAWoI",
        "colab_type": "code",
        "colab": {
          "base_uri": "https://localhost:8080/",
          "height": 84
        },
        "outputId": "92234da6-9662-4e7a-d8b6-b67930ad74fa"
      },
      "source": [
        "all_sentences_representations, all_tokens_representations = representation_model(list_sentences_train[0])\n",
        "\n",
        "print(all_sentences_representations.shape)\n",
        "print(all_tokens_representations.shape)\n",
        "print(all_sentences_representations[0].shape)\n",
        "print(all_tokens_representations[0].shape)"
      ],
      "execution_count": 21,
      "outputs": [
        {
          "output_type": "stream",
          "text": [
            "(34, 768)\n",
            "(34, 200, 768)\n",
            "(768,)\n",
            "(200, 768)\n"
          ],
          "name": "stdout"
        }
      ]
    },
    {
      "cell_type": "code",
      "metadata": {
        "id": "Z_L8_WCvAo3W",
        "colab_type": "code",
        "colab": {
          "base_uri": "https://localhost:8080/",
          "height": 87
        },
        "outputId": "641cb450-6ea3-4e2f-9c53-3e111489c840"
      },
      "source": [
        "inp = Input(shape=(200, 768, )) \n",
        "x = Bidirectional(LSTM(60, return_sequences=True,name='lstm_layer',dropout=0.1,recurrent_dropout=0.1))(inp)\n",
        "x = GlobalMaxPool1D()(x)\n",
        "x = Dropout(0.1)(x)\n",
        "x = Dense(50, activation=\"relu\")(x)\n",
        "x = Dropout(0.1)(x)\n",
        "x = Dense(7, activation=\"sigmoid\")(x)\n",
        "model = Model(inputs=inp, outputs=x)\n",
        "model.compile(loss='binary_crossentropy',\n",
        "                    optimizer='adam',\n",
        "                    metrics=['accuracy'])"
      ],
      "execution_count": 29,
      "outputs": [
        {
          "output_type": "stream",
          "text": [
            "WARNING:tensorflow:Layer lstm_layer will not use cuDNN kernel since it doesn't meet the cuDNN kernel criteria. It will use generic GPU kernel as fallback when running on GPU\n",
            "WARNING:tensorflow:Layer lstm_layer will not use cuDNN kernel since it doesn't meet the cuDNN kernel criteria. It will use generic GPU kernel as fallback when running on GPU\n",
            "WARNING:tensorflow:Layer lstm_layer will not use cuDNN kernel since it doesn't meet the cuDNN kernel criteria. It will use generic GPU kernel as fallback when running on GPU\n"
          ],
          "name": "stdout"
        }
      ]
    },
    {
      "cell_type": "code",
      "metadata": {
        "id": "PpgYG-RWBQJu",
        "colab_type": "code",
        "colab": {
          "base_uri": "https://localhost:8080/",
          "height": 472
        },
        "outputId": "0a16d3ac-fc40-40f4-8f3b-61a0c34d3907"
      },
      "source": [
        "%%time\n",
        "model.fit_generator(train_tok_generator, epochs=10, validation_data=val_tok_generator)"
      ],
      "execution_count": 30,
      "outputs": [
        {
          "output_type": "stream",
          "text": [
            "WARNING:tensorflow:From <timed eval>:1: Model.fit_generator (from tensorflow.python.keras.engine.training) is deprecated and will be removed in a future version.\n",
            "Instructions for updating:\n",
            "Please use Model.fit, which supports generators.\n",
            "Epoch 1/10\n",
            "79/79 [==============================] - 380s 5s/step - loss: 0.1897 - accuracy: 0.8819 - val_loss: 0.0920 - val_accuracy: 0.9391\n",
            "Epoch 2/10\n",
            "79/79 [==============================] - 394s 5s/step - loss: 0.0832 - accuracy: 0.9408 - val_loss: 0.0644 - val_accuracy: 0.9526\n",
            "Epoch 3/10\n",
            "79/79 [==============================] - 394s 5s/step - loss: 0.0667 - accuracy: 0.9488 - val_loss: 0.0612 - val_accuracy: 0.9588\n",
            "Epoch 4/10\n",
            "79/79 [==============================] - 397s 5s/step - loss: 0.0572 - accuracy: 0.9569 - val_loss: 0.0590 - val_accuracy: 0.9579\n",
            "Epoch 5/10\n",
            "79/79 [==============================] - 403s 5s/step - loss: 0.0538 - accuracy: 0.9591 - val_loss: 0.0588 - val_accuracy: 0.9615\n",
            "Epoch 6/10\n",
            "79/79 [==============================] - 407s 5s/step - loss: 0.0499 - accuracy: 0.9626 - val_loss: 0.0581 - val_accuracy: 0.9597\n",
            "Epoch 7/10\n",
            "79/79 [==============================] - 401s 5s/step - loss: 0.0444 - accuracy: 0.9666 - val_loss: 0.0568 - val_accuracy: 0.9588\n",
            "Epoch 8/10\n",
            "79/79 [==============================] - 393s 5s/step - loss: 0.0415 - accuracy: 0.9704 - val_loss: 0.0569 - val_accuracy: 0.9543\n",
            "Epoch 9/10\n",
            "79/79 [==============================] - 391s 5s/step - loss: 0.0386 - accuracy: 0.9734 - val_loss: 0.0610 - val_accuracy: 0.9606\n",
            "Epoch 10/10\n",
            "79/79 [==============================] - 393s 5s/step - loss: 0.0338 - accuracy: 0.9787 - val_loss: 0.0606 - val_accuracy: 0.9588\n",
            "CPU times: user 1h 16min 22s, sys: 20min 12s, total: 1h 36min 34s\n",
            "Wall time: 1h 7min 24s\n"
          ],
          "name": "stdout"
        },
        {
          "output_type": "execute_result",
          "data": {
            "text/plain": [
              "<tensorflow.python.keras.callbacks.History at 0x7f69fa241860>"
            ]
          },
          "metadata": {
            "tags": []
          },
          "execution_count": 30
        }
      ]
    },
    {
      "cell_type": "code",
      "metadata": {
        "id": "AbiN5VAZUB_t",
        "colab_type": "code",
        "colab": {
          "base_uri": "https://localhost:8080/",
          "height": 87
        },
        "outputId": "329a701d-bcd9-42fa-803d-3c5fbd471307"
      },
      "source": [
        "prediction_test = model.predict_generator(test_tok_generator)"
      ],
      "execution_count": 31,
      "outputs": [
        {
          "output_type": "stream",
          "text": [
            "WARNING:tensorflow:From <ipython-input-31-187618c12df9>:1: Model.predict_generator (from tensorflow.python.keras.engine.training) is deprecated and will be removed in a future version.\n",
            "Instructions for updating:\n",
            "Please use Model.predict, which supports generators.\n"
          ],
          "name": "stdout"
        }
      ]
    },
    {
      "cell_type": "code",
      "metadata": {
        "id": "s3N4lBuAcq9n",
        "colab_type": "code",
        "colab": {
          "base_uri": "https://localhost:8080/",
          "height": 33
        },
        "outputId": "a2b1db2d-2b7e-437c-afe8-e433641f9542"
      },
      "source": [
        "prediction_test.shape"
      ],
      "execution_count": 32,
      "outputs": [
        {
          "output_type": "execute_result",
          "data": {
            "text/plain": [
              "(4788, 7)"
            ]
          },
          "metadata": {
            "tags": []
          },
          "execution_count": 32
        }
      ]
    },
    {
      "cell_type": "code",
      "metadata": {
        "id": "NBZoqLqYdl3Q",
        "colab_type": "code",
        "colab": {}
      },
      "source": [
        "prediction_test[prediction_test >= 0.5] = 1\n",
        "prediction_test[prediction_test < 0.5] = 0"
      ],
      "execution_count": 33,
      "outputs": []
    },
    {
      "cell_type": "code",
      "metadata": {
        "id": "HY8Bb_kRdm2p",
        "colab_type": "code",
        "colab": {
          "base_uri": "https://localhost:8080/",
          "height": 354
        },
        "outputId": "bd95344c-8c22-4741-e9b1-4392ebaa3dfa"
      },
      "source": [
        "print(classification_report(test_df.loc[:,['toxic','severe_toxic','obscene','threat','insult','identity_hate','clean']], prediction_test,\\\n",
        "                            target_names=['toxic','severe_toxic','obscene','threat','insult','identity_hate','clean']))"
      ],
      "execution_count": 34,
      "outputs": [
        {
          "output_type": "stream",
          "text": [
            "               precision    recall  f1-score   support\n",
            "\n",
            "        toxic       0.84      0.76      0.80       495\n",
            " severe_toxic       0.75      0.06      0.12        48\n",
            "      obscene       0.81      0.76      0.78       264\n",
            "       threat       0.00      0.00      0.00        14\n",
            "       insult       0.73      0.68      0.70       253\n",
            "identity_hate       1.00      0.02      0.05        43\n",
            "        clean       0.97      0.99      0.98      4272\n",
            "\n",
            "    micro avg       0.94      0.92      0.93      5389\n",
            "    macro avg       0.73      0.47      0.49      5389\n",
            " weighted avg       0.94      0.92      0.92      5389\n",
            "  samples avg       0.95      0.95      0.94      5389\n",
            "\n"
          ],
          "name": "stdout"
        },
        {
          "output_type": "stream",
          "text": [
            "/usr/local/lib/python3.6/dist-packages/sklearn/metrics/_classification.py:1272: UndefinedMetricWarning: Precision and F-score are ill-defined and being set to 0.0 in labels with no predicted samples. Use `zero_division` parameter to control this behavior.\n",
            "  _warn_prf(average, modifier, msg_start, len(result))\n",
            "/usr/local/lib/python3.6/dist-packages/sklearn/metrics/_classification.py:1272: UndefinedMetricWarning: Precision and F-score are ill-defined and being set to 0.0 in samples with no predicted labels. Use `zero_division` parameter to control this behavior.\n",
            "  _warn_prf(average, modifier, msg_start, len(result))\n"
          ],
          "name": "stderr"
        }
      ]
    }
  ]
}