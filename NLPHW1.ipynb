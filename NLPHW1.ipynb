{
  "nbformat": 4,
  "nbformat_minor": 0,
  "metadata": {
    "colab": {
      "name": "NLPHW1.ipynb",
      "provenance": [],
      "collapsed_sections": [
        "-6LDnmCH57wM"
      ],
      "toc_visible": true
    },
    "kernelspec": {
      "name": "python3",
      "display_name": "Python 3"
    }
  },
  "cells": [
    {
      "cell_type": "markdown",
      "metadata": {
        "id": "tpjDg8X3cVhM",
        "colab_type": "text"
      },
      "source": [
        "# All imports"
      ]
    },
    {
      "cell_type": "code",
      "metadata": {
        "id": "xRTwIegDaPhE",
        "colab_type": "code",
        "colab": {}
      },
      "source": [
        "import os\n",
        "from google_drive_downloader import GoogleDriveDownloader as gdd"
      ],
      "execution_count": 2,
      "outputs": []
    },
    {
      "cell_type": "code",
      "metadata": {
        "id": "hJFKdCRHc08k",
        "colab_type": "code",
        "colab": {
          "base_uri": "https://localhost:8080/",
          "height": 74
        },
        "outputId": "a63032bb-b8b9-4815-f44c-969ed881475d"
      },
      "source": [
        "import pandas as pd\n",
        "import numpy as np\n",
        "import seaborn as sns\n",
        "import matplotlib.pyplot as plt"
      ],
      "execution_count": 3,
      "outputs": [
        {
          "output_type": "stream",
          "text": [
            "/usr/local/lib/python3.6/dist-packages/statsmodels/tools/_testing.py:19: FutureWarning: pandas.util.testing is deprecated. Use the functions in the public API at pandas.testing instead.\n",
            "  import pandas.util.testing as tm\n"
          ],
          "name": "stderr"
        }
      ]
    },
    {
      "cell_type": "code",
      "metadata": {
        "id": "jtXYTtNq85dR",
        "colab_type": "code",
        "colab": {}
      },
      "source": [
        "sns.set_style('dark')"
      ],
      "execution_count": 4,
      "outputs": []
    },
    {
      "cell_type": "code",
      "metadata": {
        "id": "QDmDrrXTgU5n",
        "colab_type": "code",
        "colab": {
          "base_uri": "https://localhost:8080/",
          "height": 126
        },
        "outputId": "9738b630-6459-412f-83fd-cde5c2caeb41"
      },
      "source": [
        "import nltk\n",
        "nltk.download(\"stopwords\")\n",
        "from nltk.corpus import stopwords\n",
        "cachedStopWords = stopwords.words(\"english\")\n",
        "from nltk import word_tokenize\n",
        "from nltk.stem.porter import PorterStemmer\n",
        "from nltk.stem import WordNetLemmatizer\n",
        "import re\n",
        "nltk.download('punkt')\n",
        "nltk.download('wordnet')\n",
        "from wordcloud import WordCloud"
      ],
      "execution_count": 5,
      "outputs": [
        {
          "output_type": "stream",
          "text": [
            "[nltk_data] Downloading package stopwords to /root/nltk_data...\n",
            "[nltk_data]   Unzipping corpora/stopwords.zip.\n",
            "[nltk_data] Downloading package punkt to /root/nltk_data...\n",
            "[nltk_data]   Unzipping tokenizers/punkt.zip.\n",
            "[nltk_data] Downloading package wordnet to /root/nltk_data...\n",
            "[nltk_data]   Unzipping corpora/wordnet.zip.\n"
          ],
          "name": "stdout"
        }
      ]
    },
    {
      "cell_type": "code",
      "metadata": {
        "id": "mIBKneRxgJWR",
        "colab_type": "code",
        "colab": {}
      },
      "source": [
        "from sklearn.feature_extraction.text import CountVectorizer\n",
        "from sklearn.feature_extraction.text import TfidfVectorizer\n",
        "from sklearn.multioutput import MultiOutputClassifier\n",
        "from sklearn.linear_model import LogisticRegression\n",
        "from sklearn.metrics import classification_report\n",
        "from sklearn.model_selection import train_test_split\n",
        "\n",
        "from gensim.models.doc2vec import TaggedDocument\n",
        "from tqdm import tqdm\n",
        "from gensim.models import Doc2Vec\n",
        "from sklearn import utils"
      ],
      "execution_count": 6,
      "outputs": []
    },
    {
      "cell_type": "markdown",
      "metadata": {
        "id": "dX8-ES5YcYDV",
        "colab_type": "text"
      },
      "source": [
        "# Load data"
      ]
    },
    {
      "cell_type": "code",
      "metadata": {
        "id": "Vrmpd2FhcUzf",
        "colab_type": "code",
        "colab": {
          "base_uri": "https://localhost:8080/",
          "height": 90
        },
        "outputId": "5abfe001-ad0f-43dc-ef0d-8924aa7b1616"
      },
      "source": [
        "if not os.path.exists('./data'):\n",
        "  os.mkdir('./data')\n",
        "\n",
        "gdd.download_file_from_google_drive(file_id='1e_-vl9IncR4T9P6KiCxVnmeOZJgxIAXr', dest_path='./data/train_csv.zip')\n",
        "gdd.download_file_from_google_drive(file_id='12aofsxmKuzE5wLeFmTA0qX6x5jKLDzGY', dest_path='./data/glove.zip')\n",
        "gdd.download_file_from_google_drive(file_id='18LzLy-AZDGafGy65YROc5r0XJaG23HBp', dest_path='./data/fasttext.zip')\n",
        "gdd.download_file_from_google_drive(file_id='1AUQ-vzZM3B-ieKl9qCagSWlo-888gmbK', dest_path='./data/word2vec.gz')"
      ],
      "execution_count": 7,
      "outputs": [
        {
          "output_type": "stream",
          "text": [
            "Downloading 1e_-vl9IncR4T9P6KiCxVnmeOZJgxIAXr into ./data/train_csv.zip... Done.\n",
            "Downloading 12aofsxmKuzE5wLeFmTA0qX6x5jKLDzGY into ./data/glove.zip... Done.\n",
            "Downloading 18LzLy-AZDGafGy65YROc5r0XJaG23HBp into ./data/fasttext.zip... Done.\n",
            "Downloading 1AUQ-vzZM3B-ieKl9qCagSWlo-888gmbK into ./data/word2vec.gz... Done.\n"
          ],
          "name": "stdout"
        }
      ]
    },
    {
      "cell_type": "code",
      "metadata": {
        "id": "ccugNU5ex8Iq",
        "colab_type": "code",
        "colab": {
          "base_uri": "https://localhost:8080/",
          "height": 54
        },
        "outputId": "47c6e54a-c2c4-4d62-9436-ba494523c534"
      },
      "source": [
        "! unzip ./data/fasttext.zip"
      ],
      "execution_count": 7,
      "outputs": [
        {
          "output_type": "stream",
          "text": [
            "Archive:  ./data/fasttext.zip\n",
            "  inflating: wiki-news-300d-1M.vec   \n"
          ],
          "name": "stdout"
        }
      ]
    },
    {
      "cell_type": "code",
      "metadata": {
        "id": "pATxlY01iOuO",
        "colab_type": "code",
        "colab": {}
      },
      "source": [
        "! gunzip ./data/word2vec.gz"
      ],
      "execution_count": 8,
      "outputs": []
    },
    {
      "cell_type": "code",
      "metadata": {
        "id": "F9Tx5vvrcsfA",
        "colab_type": "code",
        "colab": {
          "base_uri": "https://localhost:8080/",
          "height": 54
        },
        "outputId": "3e78928c-b469-43e2-cb3a-ed04a08397f2"
      },
      "source": [
        "! unzip ./data/train_csv.zip "
      ],
      "execution_count": 8,
      "outputs": [
        {
          "output_type": "stream",
          "text": [
            "Archive:  ./data/train_csv.zip\n",
            "  inflating: train.csv               \n"
          ],
          "name": "stdout"
        }
      ]
    },
    {
      "cell_type": "code",
      "metadata": {
        "id": "SWv8EqJfPiV3",
        "colab_type": "code",
        "colab": {
          "base_uri": "https://localhost:8080/",
          "height": 108
        },
        "outputId": "37e85214-09b1-4a22-8207-579c817c0513"
      },
      "source": [
        "! unzip ./data/glove.zip -d ./glove"
      ],
      "execution_count": 10,
      "outputs": [
        {
          "output_type": "stream",
          "text": [
            "Archive:  ./data/glove.zip\n",
            "  inflating: ./glove/glove.twitter.27B.25d.txt  \n",
            "  inflating: ./glove/glove.twitter.27B.50d.txt  \n",
            "  inflating: ./glove/glove.twitter.27B.100d.txt  \n",
            "  inflating: ./glove/glove.twitter.27B.200d.txt  \n"
          ],
          "name": "stdout"
        }
      ]
    },
    {
      "cell_type": "code",
      "metadata": {
        "id": "PiT9Hw82cy1D",
        "colab_type": "code",
        "colab": {}
      },
      "source": [
        "df = pd.read_csv('/content/train.csv')"
      ],
      "execution_count": 9,
      "outputs": []
    },
    {
      "cell_type": "markdown",
      "metadata": {
        "id": "LIzIk-MEdP75",
        "colab_type": "text"
      },
      "source": [
        "# EDA"
      ]
    },
    {
      "cell_type": "code",
      "metadata": {
        "id": "MNkqQj83dQoD",
        "colab_type": "code",
        "colab": {
          "base_uri": "https://localhost:8080/",
          "height": 198
        },
        "outputId": "34ef369b-7e74-4e32-e9ca-f150c21c7181"
      },
      "source": [
        "df.head()"
      ],
      "execution_count": 12,
      "outputs": [
        {
          "output_type": "execute_result",
          "data": {
            "text/html": [
              "<div>\n",
              "<style scoped>\n",
              "    .dataframe tbody tr th:only-of-type {\n",
              "        vertical-align: middle;\n",
              "    }\n",
              "\n",
              "    .dataframe tbody tr th {\n",
              "        vertical-align: top;\n",
              "    }\n",
              "\n",
              "    .dataframe thead th {\n",
              "        text-align: right;\n",
              "    }\n",
              "</style>\n",
              "<table border=\"1\" class=\"dataframe\">\n",
              "  <thead>\n",
              "    <tr style=\"text-align: right;\">\n",
              "      <th></th>\n",
              "      <th>id</th>\n",
              "      <th>comment_text</th>\n",
              "      <th>toxic</th>\n",
              "      <th>severe_toxic</th>\n",
              "      <th>obscene</th>\n",
              "      <th>threat</th>\n",
              "      <th>insult</th>\n",
              "      <th>identity_hate</th>\n",
              "    </tr>\n",
              "  </thead>\n",
              "  <tbody>\n",
              "    <tr>\n",
              "      <th>0</th>\n",
              "      <td>0000997932d777bf</td>\n",
              "      <td>Explanation\\nWhy the edits made under my usern...</td>\n",
              "      <td>0</td>\n",
              "      <td>0</td>\n",
              "      <td>0</td>\n",
              "      <td>0</td>\n",
              "      <td>0</td>\n",
              "      <td>0</td>\n",
              "    </tr>\n",
              "    <tr>\n",
              "      <th>1</th>\n",
              "      <td>000103f0d9cfb60f</td>\n",
              "      <td>D'aww! He matches this background colour I'm s...</td>\n",
              "      <td>0</td>\n",
              "      <td>0</td>\n",
              "      <td>0</td>\n",
              "      <td>0</td>\n",
              "      <td>0</td>\n",
              "      <td>0</td>\n",
              "    </tr>\n",
              "    <tr>\n",
              "      <th>2</th>\n",
              "      <td>000113f07ec002fd</td>\n",
              "      <td>Hey man, I'm really not trying to edit war. It...</td>\n",
              "      <td>0</td>\n",
              "      <td>0</td>\n",
              "      <td>0</td>\n",
              "      <td>0</td>\n",
              "      <td>0</td>\n",
              "      <td>0</td>\n",
              "    </tr>\n",
              "    <tr>\n",
              "      <th>3</th>\n",
              "      <td>0001b41b1c6bb37e</td>\n",
              "      <td>\"\\nMore\\nI can't make any real suggestions on ...</td>\n",
              "      <td>0</td>\n",
              "      <td>0</td>\n",
              "      <td>0</td>\n",
              "      <td>0</td>\n",
              "      <td>0</td>\n",
              "      <td>0</td>\n",
              "    </tr>\n",
              "    <tr>\n",
              "      <th>4</th>\n",
              "      <td>0001d958c54c6e35</td>\n",
              "      <td>You, sir, are my hero. Any chance you remember...</td>\n",
              "      <td>0</td>\n",
              "      <td>0</td>\n",
              "      <td>0</td>\n",
              "      <td>0</td>\n",
              "      <td>0</td>\n",
              "      <td>0</td>\n",
              "    </tr>\n",
              "  </tbody>\n",
              "</table>\n",
              "</div>"
            ],
            "text/plain": [
              "                 id  ... identity_hate\n",
              "0  0000997932d777bf  ...             0\n",
              "1  000103f0d9cfb60f  ...             0\n",
              "2  000113f07ec002fd  ...             0\n",
              "3  0001b41b1c6bb37e  ...             0\n",
              "4  0001d958c54c6e35  ...             0\n",
              "\n",
              "[5 rows x 8 columns]"
            ]
          },
          "metadata": {
            "tags": []
          },
          "execution_count": 12
        }
      ]
    },
    {
      "cell_type": "code",
      "metadata": {
        "id": "RDNLGkYmdVkC",
        "colab_type": "code",
        "colab": {
          "base_uri": "https://localhost:8080/",
          "height": 290
        },
        "outputId": "e99269cb-1859-43e7-8bd3-786c21a369f9"
      },
      "source": [
        "df.info()"
      ],
      "execution_count": 13,
      "outputs": [
        {
          "output_type": "stream",
          "text": [
            "<class 'pandas.core.frame.DataFrame'>\n",
            "RangeIndex: 159571 entries, 0 to 159570\n",
            "Data columns (total 8 columns):\n",
            " #   Column         Non-Null Count   Dtype \n",
            "---  ------         --------------   ----- \n",
            " 0   id             159571 non-null  object\n",
            " 1   comment_text   159571 non-null  object\n",
            " 2   toxic          159571 non-null  int64 \n",
            " 3   severe_toxic   159571 non-null  int64 \n",
            " 4   obscene        159571 non-null  int64 \n",
            " 5   threat         159571 non-null  int64 \n",
            " 6   insult         159571 non-null  int64 \n",
            " 7   identity_hate  159571 non-null  int64 \n",
            "dtypes: int64(6), object(2)\n",
            "memory usage: 9.7+ MB\n"
          ],
          "name": "stdout"
        }
      ]
    },
    {
      "cell_type": "code",
      "metadata": {
        "id": "NM9J42IfzNtB",
        "colab_type": "code",
        "colab": {}
      },
      "source": [
        "label_columns = df.select_dtypes(include=[int]).columns"
      ],
      "execution_count": 10,
      "outputs": []
    },
    {
      "cell_type": "markdown",
      "metadata": {
        "id": "xcLIUkwuzow7",
        "colab_type": "text"
      },
      "source": [
        "Labels are binary"
      ]
    },
    {
      "cell_type": "code",
      "metadata": {
        "id": "GLyMPMr-zcXa",
        "colab_type": "code",
        "colab": {
          "base_uri": "https://localhost:8080/",
          "height": 288
        },
        "outputId": "ca722a89-45da-4c21-96d5-31eae44f0141"
      },
      "source": [
        "df.loc[:,label_columns].describe()"
      ],
      "execution_count": 11,
      "outputs": [
        {
          "output_type": "execute_result",
          "data": {
            "text/html": [
              "<div>\n",
              "<style scoped>\n",
              "    .dataframe tbody tr th:only-of-type {\n",
              "        vertical-align: middle;\n",
              "    }\n",
              "\n",
              "    .dataframe tbody tr th {\n",
              "        vertical-align: top;\n",
              "    }\n",
              "\n",
              "    .dataframe thead th {\n",
              "        text-align: right;\n",
              "    }\n",
              "</style>\n",
              "<table border=\"1\" class=\"dataframe\">\n",
              "  <thead>\n",
              "    <tr style=\"text-align: right;\">\n",
              "      <th></th>\n",
              "      <th>toxic</th>\n",
              "      <th>severe_toxic</th>\n",
              "      <th>obscene</th>\n",
              "      <th>threat</th>\n",
              "      <th>insult</th>\n",
              "      <th>identity_hate</th>\n",
              "    </tr>\n",
              "  </thead>\n",
              "  <tbody>\n",
              "    <tr>\n",
              "      <th>count</th>\n",
              "      <td>159571.000000</td>\n",
              "      <td>159571.000000</td>\n",
              "      <td>159571.000000</td>\n",
              "      <td>159571.000000</td>\n",
              "      <td>159571.000000</td>\n",
              "      <td>159571.000000</td>\n",
              "    </tr>\n",
              "    <tr>\n",
              "      <th>mean</th>\n",
              "      <td>0.095844</td>\n",
              "      <td>0.009996</td>\n",
              "      <td>0.052948</td>\n",
              "      <td>0.002996</td>\n",
              "      <td>0.049364</td>\n",
              "      <td>0.008805</td>\n",
              "    </tr>\n",
              "    <tr>\n",
              "      <th>std</th>\n",
              "      <td>0.294379</td>\n",
              "      <td>0.099477</td>\n",
              "      <td>0.223931</td>\n",
              "      <td>0.054650</td>\n",
              "      <td>0.216627</td>\n",
              "      <td>0.093420</td>\n",
              "    </tr>\n",
              "    <tr>\n",
              "      <th>min</th>\n",
              "      <td>0.000000</td>\n",
              "      <td>0.000000</td>\n",
              "      <td>0.000000</td>\n",
              "      <td>0.000000</td>\n",
              "      <td>0.000000</td>\n",
              "      <td>0.000000</td>\n",
              "    </tr>\n",
              "    <tr>\n",
              "      <th>25%</th>\n",
              "      <td>0.000000</td>\n",
              "      <td>0.000000</td>\n",
              "      <td>0.000000</td>\n",
              "      <td>0.000000</td>\n",
              "      <td>0.000000</td>\n",
              "      <td>0.000000</td>\n",
              "    </tr>\n",
              "    <tr>\n",
              "      <th>50%</th>\n",
              "      <td>0.000000</td>\n",
              "      <td>0.000000</td>\n",
              "      <td>0.000000</td>\n",
              "      <td>0.000000</td>\n",
              "      <td>0.000000</td>\n",
              "      <td>0.000000</td>\n",
              "    </tr>\n",
              "    <tr>\n",
              "      <th>75%</th>\n",
              "      <td>0.000000</td>\n",
              "      <td>0.000000</td>\n",
              "      <td>0.000000</td>\n",
              "      <td>0.000000</td>\n",
              "      <td>0.000000</td>\n",
              "      <td>0.000000</td>\n",
              "    </tr>\n",
              "    <tr>\n",
              "      <th>max</th>\n",
              "      <td>1.000000</td>\n",
              "      <td>1.000000</td>\n",
              "      <td>1.000000</td>\n",
              "      <td>1.000000</td>\n",
              "      <td>1.000000</td>\n",
              "      <td>1.000000</td>\n",
              "    </tr>\n",
              "  </tbody>\n",
              "</table>\n",
              "</div>"
            ],
            "text/plain": [
              "               toxic   severe_toxic  ...         insult  identity_hate\n",
              "count  159571.000000  159571.000000  ...  159571.000000  159571.000000\n",
              "mean        0.095844       0.009996  ...       0.049364       0.008805\n",
              "std         0.294379       0.099477  ...       0.216627       0.093420\n",
              "min         0.000000       0.000000  ...       0.000000       0.000000\n",
              "25%         0.000000       0.000000  ...       0.000000       0.000000\n",
              "50%         0.000000       0.000000  ...       0.000000       0.000000\n",
              "75%         0.000000       0.000000  ...       0.000000       0.000000\n",
              "max         1.000000       1.000000  ...       1.000000       1.000000\n",
              "\n",
              "[8 rows x 6 columns]"
            ]
          },
          "metadata": {
            "tags": []
          },
          "execution_count": 11
        }
      ]
    },
    {
      "cell_type": "markdown",
      "metadata": {
        "id": "E2mgoDQQ_crw",
        "colab_type": "text"
      },
      "source": [
        "Add clean label"
      ]
    },
    {
      "cell_type": "code",
      "metadata": {
        "id": "QoMhtroI_b8E",
        "colab_type": "code",
        "colab": {}
      },
      "source": [
        "df['clean'] = df.loc[:,label_columns].apply(lambda x: 1 if x.sum() == 0 else 0, axis=1)\n",
        "# add clean column to label columns\n",
        "label_columns = df.select_dtypes(include=[int]).columns"
      ],
      "execution_count": 12,
      "outputs": []
    },
    {
      "cell_type": "code",
      "metadata": {
        "id": "jdv5LbusAchO",
        "colab_type": "code",
        "colab": {}
      },
      "source": [
        "count_per_label = [df[column].sum() for column in label_columns]"
      ],
      "execution_count": 22,
      "outputs": []
    },
    {
      "cell_type": "markdown",
      "metadata": {
        "id": "nWl6tKJ8AWlT",
        "colab_type": "text"
      },
      "source": [
        "Task seems to be inbalanced"
      ]
    },
    {
      "cell_type": "code",
      "metadata": {
        "id": "vGaWE-lfAe3I",
        "colab_type": "code",
        "colab": {
          "base_uri": "https://localhost:8080/",
          "height": 283
        },
        "outputId": "7ff5d99d-3ae2-404a-f354-c40db4fabaac"
      },
      "source": [
        "sns.barplot(x=count_per_label, y=label_columns)"
      ],
      "execution_count": 18,
      "outputs": [
        {
          "output_type": "execute_result",
          "data": {
            "text/plain": [
              "<matplotlib.axes._subplots.AxesSubplot at 0x7f4bf1cf6b70>"
            ]
          },
          "metadata": {
            "tags": []
          },
          "execution_count": 18
        },
        {
          "output_type": "display_data",
          "data": {
            "image/png": "[encoded data removed]",
            "text/plain": [
              "<Figure size 432x288 with 1 Axes>"
            ]
          },
          "metadata": {
            "tags": []
          }
        }
      ]
    },
    {
      "cell_type": "markdown",
      "metadata": {
        "id": "YKEqSjSNgAqY",
        "colab_type": "text"
      },
      "source": [
        "Compare total number of bad comments to clean comments"
      ]
    },
    {
      "cell_type": "code",
      "metadata": {
        "id": "ggZWan1DBCGd",
        "colab_type": "code",
        "colab": {
          "base_uri": "https://localhost:8080/",
          "height": 283
        },
        "outputId": "8471760e-b865-42db-d501-0475a6456ab9"
      },
      "source": [
        "sns.barplot(x=[df.shape[0] - df['clean'].sum(), df['clean'].sum()], y=['bad','clean'])"
      ],
      "execution_count": null,
      "outputs": [
        {
          "output_type": "execute_result",
          "data": {
            "text/plain": [
              "<matplotlib.axes._subplots.AxesSubplot at 0x7f5159a02ef0>"
            ]
          },
          "metadata": {
            "tags": []
          },
          "execution_count": 31
        },
        {
          "output_type": "display_data",
          "data": {
            "image/png": "[encoded data removed]",
            "text/plain": [
              "<Figure size 432x288 with 1 Axes>"
            ]
          },
          "metadata": {
            "tags": []
          }
        }
      ]
    },
    {
      "cell_type": "code",
      "metadata": {
        "id": "a6Hf5ZHtvo3u",
        "colab_type": "code",
        "colab": {}
      },
      "source": [
        "concat_df = pd.concat([df['comment_text'].apply(lambda x: len(x)), df['clean']], axis=1)"
      ],
      "execution_count": null,
      "outputs": []
    },
    {
      "cell_type": "code",
      "metadata": {
        "id": "Mkq6Vb8VweaV",
        "colab_type": "code",
        "colab": {}
      },
      "source": [
        "concat_df.rename(columns={'comment_text':'comment_text_length'}, inplace=True)"
      ],
      "execution_count": null,
      "outputs": []
    },
    {
      "cell_type": "markdown",
      "metadata": {
        "id": "i1raZeyNDc1v",
        "colab_type": "text"
      },
      "source": [
        "We can observe a difference in comment length distribution for clean and bad comments. Bad comments are shorter than clean."
      ]
    },
    {
      "cell_type": "code",
      "metadata": {
        "id": "EhoWiEKeenSH",
        "colab_type": "code",
        "colab": {
          "base_uri": "https://localhost:8080/",
          "height": 625
        },
        "outputId": "5a4c223b-e26c-414d-e64f-988b9a76c3e4"
      },
      "source": [
        "fig = plt.figure(figsize=(10,10))\n",
        "ax = fig.add_subplot(1,1,1)\n",
        "sns.distplot(concat_df.query('clean == 0')['comment_text_length'], ax=ax, label='Bad comments')\n",
        "sns.distplot(concat_df.query('clean == 1')['comment_text_length'], ax=ax, label='Clean comments')\n",
        "ax.legend()"
      ],
      "execution_count": null,
      "outputs": [
        {
          "output_type": "execute_result",
          "data": {
            "text/plain": [
              "<matplotlib.legend.Legend at 0x7f5157fec390>"
            ]
          },
          "metadata": {
            "tags": []
          },
          "execution_count": 39
        },
        {
          "output_type": "display_data",
          "data": {
            "image/png": "[encoded data removed]",
            "text/plain": [
              "<Figure size 720x720 with 1 Axes>"
            ]
          },
          "metadata": {
            "tags": []
          }
        }
      ]
    },
    {
      "cell_type": "code",
      "metadata": {
        "id": "Nf5q5_6KcJGQ",
        "colab_type": "code",
        "colab": {}
      },
      "source": [
        "def tokenize(text):\n",
        "    min_length = 3\n",
        "    words = map(lambda word: word.lower(), word_tokenize(text))\n",
        "    words = [word for word in words\n",
        "                  if word not in cachedStopWords]\n",
        "    tokens = (list(map(lambda token: PorterStemmer().stem(token),\n",
        "                  words)));\n",
        "    p = re.compile('[a-zA-Z]+');\n",
        "    filtered_tokens = list(filter(lambda token:\n",
        "                  p.match(token) and len(token)>=min_length,\n",
        "         tokens))\n",
        "    return filtered_tokens"
      ],
      "execution_count": 13,
      "outputs": []
    },
    {
      "cell_type": "code",
      "metadata": {
        "id": "bN6d2Fwxckgq",
        "colab_type": "code",
        "colab": {}
      },
      "source": [
        "def visualize_most_popular(vectorised_data, vectorizer, words_num=20):\n",
        "  feature_table = {val:key for (key, val) in vectorizer.vocabulary_.items()}\n",
        "  sumed_data = vectorised_data.sum(axis=0)\n",
        "  score_table = {feature:score for feature, score in enumerate(list(np.array(sumed_data).flatten()))}\n",
        "  top_features = sorted(score_table.items(), reverse=True, key= lambda x: x[1])[:words_num]\n",
        "  top_words = [feature_table[f[0]] for f in top_features]\n",
        "  top_score = [f[1] for f in top_features]\n",
        "  freq = {word:val for word, val in zip(top_words, top_score)}\n",
        "  # Create and generate a word cloud image:\n",
        "  wordcloud = WordCloud().fit_words(freq)\n",
        "\n",
        "  # Display the generated image:\n",
        "  plt.imshow(wordcloud, interpolation='bilinear')\n",
        "  plt.axis(\"off\")\n",
        "  plt.show()"
      ],
      "execution_count": null,
      "outputs": []
    },
    {
      "cell_type": "code",
      "metadata": {
        "id": "eCx1t9jf2ZQf",
        "colab_type": "code",
        "colab": {}
      },
      "source": [
        "def visualize_group(group_name):\n",
        "  vectorizer = CountVectorizer(tokenizer=tokenize)\n",
        "  vectorised_data = vectorizer.fit_transform(df[df[group_name] == 1]['comment_text'].values)\n",
        "  visualize_most_popular(vectorised_data, vectorizer) "
      ],
      "execution_count": null,
      "outputs": []
    },
    {
      "cell_type": "markdown",
      "metadata": {
        "id": "gqcY9hwNkF1v",
        "colab_type": "text"
      },
      "source": [
        "Let's visualize the most popular words in different toxicity groups\n"
      ]
    },
    {
      "cell_type": "code",
      "metadata": {
        "id": "0nHXQKyJ2mma",
        "colab_type": "code",
        "colab": {
          "base_uri": "https://localhost:8080/",
          "height": 198
        },
        "outputId": "b919d917-9768-460f-9cd9-f433c8ca470c"
      },
      "source": [
        "visualize_group('toxic')"
      ],
      "execution_count": null,
      "outputs": [
        {
          "output_type": "display_data",
          "data": {
            "image/png": "[encoded data removed]",
            "text/plain": [
              "<Figure size 432x288 with 1 Axes>"
            ]
          },
          "metadata": {
            "tags": []
          }
        }
      ]
    },
    {
      "cell_type": "code",
      "metadata": {
        "id": "b_Ew5YjU3SAJ",
        "colab_type": "code",
        "colab": {
          "base_uri": "https://localhost:8080/",
          "height": 198
        },
        "outputId": "631cb0b5-e4da-4769-884d-0e9f786eaf8d"
      },
      "source": [
        "visualize_group('severe_toxic')"
      ],
      "execution_count": null,
      "outputs": [
        {
          "output_type": "display_data",
          "data": {
            "image/png": "[encoded data removed]",
            "text/plain": [
              "<Figure size 432x288 with 1 Axes>"
            ]
          },
          "metadata": {
            "tags": []
          }
        }
      ]
    },
    {
      "cell_type": "code",
      "metadata": {
        "id": "WK6VuJ8H3Ve8",
        "colab_type": "code",
        "colab": {
          "base_uri": "https://localhost:8080/",
          "height": 198
        },
        "outputId": "38ba3ced-4e6b-4fdd-f3c9-883f05a271c3"
      },
      "source": [
        "visualize_group('obscene')"
      ],
      "execution_count": null,
      "outputs": [
        {
          "output_type": "display_data",
          "data": {
            "image/png": "[encoded data removed]",
            "text/plain": [
              "<Figure size 432x288 with 1 Axes>"
            ]
          },
          "metadata": {
            "tags": []
          }
        }
      ]
    },
    {
      "cell_type": "code",
      "metadata": {
        "id": "yTIxrfV53Zgb",
        "colab_type": "code",
        "colab": {
          "base_uri": "https://localhost:8080/",
          "height": 198
        },
        "outputId": "e8963fe9-6d0c-4ff9-9a6d-eca1912f8eb1"
      },
      "source": [
        "visualize_group('threat')"
      ],
      "execution_count": null,
      "outputs": [
        {
          "output_type": "display_data",
          "data": {
            "image/png": "[encoded data removed]",
            "text/plain": [
              "<Figure size 432x288 with 1 Axes>"
            ]
          },
          "metadata": {
            "tags": []
          }
        }
      ]
    },
    {
      "cell_type": "code",
      "metadata": {
        "id": "AhoMF5U_2WTf",
        "colab_type": "code",
        "colab": {
          "base_uri": "https://localhost:8080/",
          "height": 198
        },
        "outputId": "b2c5fe5c-ddee-4fc7-ec93-b3b01ccd5451"
      },
      "source": [
        "visualize_group('insult')"
      ],
      "execution_count": null,
      "outputs": [
        {
          "output_type": "display_data",
          "data": {
            "image/png": "[encoded data removed]",
            "text/plain": [
              "<Figure size 432x288 with 1 Axes>"
            ]
          },
          "metadata": {
            "tags": []
          }
        }
      ]
    },
    {
      "cell_type": "code",
      "metadata": {
        "id": "PWS-kLDZ3oAx",
        "colab_type": "code",
        "colab": {
          "base_uri": "https://localhost:8080/",
          "height": 198
        },
        "outputId": "8242b5ff-2560-454c-f3f8-8c767f7320d6"
      },
      "source": [
        "visualize_group('identity_hate')"
      ],
      "execution_count": null,
      "outputs": [
        {
          "output_type": "display_data",
          "data": {
            "image/png": "[encoded data removed]",
            "text/plain": [
              "<Figure size 432x288 with 1 Axes>"
            ]
          },
          "metadata": {
            "tags": []
          }
        }
      ]
    },
    {
      "cell_type": "markdown",
      "metadata": {
        "id": "hJc3wF3n6Qht",
        "colab_type": "text"
      },
      "source": [
        "Clean group"
      ]
    },
    {
      "cell_type": "code",
      "metadata": {
        "id": "Nx2Ryauv3xYb",
        "colab_type": "code",
        "colab": {
          "base_uri": "https://localhost:8080/",
          "height": 198
        },
        "outputId": "44236740-ecac-40f5-ae51-3aa760e6af86"
      },
      "source": [
        "vectorizer = CountVectorizer(tokenizer=tokenize)\n",
        "vectorised_data = vectorizer.fit_transform(df[df['clean'] == 1]['comment_text'].values[:20000])\n",
        "visualize_most_popular(vectorised_data, vectorizer)"
      ],
      "execution_count": null,
      "outputs": [
        {
          "output_type": "display_data",
          "data": {
            "image/png": "[encoded data removed]",
            "text/plain": [
              "<Figure size 432x288 with 1 Axes>"
            ]
          },
          "metadata": {
            "tags": []
          }
        }
      ]
    },
    {
      "cell_type": "markdown",
      "metadata": {
        "id": "AoYZsLsC8io2",
        "colab_type": "text"
      },
      "source": [
        "We have to reduce data size due to significant computational time "
      ]
    },
    {
      "cell_type": "code",
      "metadata": {
        "id": "Rp98aswp8trg",
        "colab_type": "code",
        "colab": {
          "base_uri": "https://localhost:8080/",
          "height": 35
        },
        "outputId": "562ba6cd-792e-45fa-812c-60394f162320"
      },
      "source": [
        "df.shape"
      ],
      "execution_count": null,
      "outputs": [
        {
          "output_type": "execute_result",
          "data": {
            "text/plain": [
              "(159571, 9)"
            ]
          },
          "metadata": {
            "tags": []
          },
          "execution_count": 50
        }
      ]
    },
    {
      "cell_type": "markdown",
      "metadata": {
        "id": "TP8RLJon-9AY",
        "colab_type": "text"
      },
      "source": [
        "Use the rarest groups for stratification"
      ]
    },
    {
      "cell_type": "code",
      "metadata": {
        "id": "5zEvqvTj9O1T",
        "colab_type": "code",
        "colab": {
          "base_uri": "https://localhost:8080/",
          "height": 35
        },
        "outputId": "19bfc82f-0f4c-4207-be96-00ff31f43346"
      },
      "source": [
        "_, reduced_df = train_test_split(df,stratify=df.loc[:,['severe_toxic','identity_hate','threat']],test_size=0.1)\n",
        "reduced_df.shape"
      ],
      "execution_count": 14,
      "outputs": [
        {
          "output_type": "execute_result",
          "data": {
            "text/plain": [
              "(15958, 9)"
            ]
          },
          "metadata": {
            "tags": []
          },
          "execution_count": 14
        }
      ]
    },
    {
      "cell_type": "markdown",
      "metadata": {
        "id": "xby7KS3R_CBH",
        "colab_type": "text"
      },
      "source": [
        "It seems that balance has been saved"
      ]
    },
    {
      "cell_type": "code",
      "metadata": {
        "id": "C0kodP2ndV-b",
        "colab_type": "code",
        "colab": {
          "base_uri": "https://localhost:8080/",
          "height": 283
        },
        "outputId": "19d6cec3-efb7-48a1-be38-0ef632aa8929"
      },
      "source": [
        "count_per_label = [reduced_df[column].sum() for column in label_columns]\n",
        "sns.barplot(x=count_per_label, y=label_columns)"
      ],
      "execution_count": null,
      "outputs": [
        {
          "output_type": "execute_result",
          "data": {
            "text/plain": [
              "<matplotlib.axes._subplots.AxesSubplot at 0x7f7ff77710b8>"
            ]
          },
          "metadata": {
            "tags": []
          },
          "execution_count": 23
        },
        {
          "output_type": "display_data",
          "data": {
            "image/png": "[encoded data removed]",
            "text/plain": [
              "<Figure size 432x288 with 1 Axes>"
            ]
          },
          "metadata": {
            "tags": []
          }
        }
      ]
    },
    {
      "cell_type": "markdown",
      "metadata": {
        "id": "zMUu_7cI4gpC",
        "colab_type": "text"
      },
      "source": [
        "Train/test split"
      ]
    },
    {
      "cell_type": "code",
      "metadata": {
        "id": "afEQ1gmi4iPq",
        "colab_type": "code",
        "colab": {}
      },
      "source": [
        "train_df, test_df = train_test_split(reduced_df,test_size=0.3,stratify=reduced_df.loc[:,['severe_toxic','identity_hate','threat']])"
      ],
      "execution_count": 15,
      "outputs": []
    },
    {
      "cell_type": "code",
      "metadata": {
        "id": "hj8mi84R5ZWS",
        "colab_type": "code",
        "colab": {
          "base_uri": "https://localhost:8080/",
          "height": 35
        },
        "outputId": "77dcadc1-53a3-47f0-faaa-57a9116f250d"
      },
      "source": [
        "print(train_df.shape, test_df.shape)"
      ],
      "execution_count": null,
      "outputs": [
        {
          "output_type": "stream",
          "text": [
            "(11170, 9) (4788, 9)\n"
          ],
          "name": "stdout"
        }
      ]
    },
    {
      "cell_type": "markdown",
      "metadata": {
        "id": "nsA4zr4k_2N6",
        "colab_type": "text"
      },
      "source": [
        "Balance has been saved"
      ]
    },
    {
      "cell_type": "code",
      "metadata": {
        "id": "bttxcU4F_ti7",
        "colab_type": "code",
        "colab": {
          "base_uri": "https://localhost:8080/",
          "height": 283
        },
        "outputId": "d27c041b-9270-40ea-e72c-f2cb740b8b0e"
      },
      "source": [
        "count_per_label = [train_df[column].sum() for column in label_columns]\n",
        "sns.barplot(x=count_per_label, y=label_columns)"
      ],
      "execution_count": null,
      "outputs": [
        {
          "output_type": "execute_result",
          "data": {
            "text/plain": [
              "<matplotlib.axes._subplots.AxesSubplot at 0x7f7ff4c00208>"
            ]
          },
          "metadata": {
            "tags": []
          },
          "execution_count": 26
        },
        {
          "output_type": "display_data",
          "data": {
            "image/png": "[encoded data removed]",
            "text/plain": [
              "<Figure size 432x288 with 1 Axes>"
            ]
          },
          "metadata": {
            "tags": []
          }
        }
      ]
    },
    {
      "cell_type": "code",
      "metadata": {
        "id": "9kwvmU3O_w0T",
        "colab_type": "code",
        "colab": {
          "base_uri": "https://localhost:8080/",
          "height": 283
        },
        "outputId": "a0bc2c68-6bed-449f-b32d-2f487cc9e558"
      },
      "source": [
        "count_per_label = [test_df[column].sum() for column in label_columns]\n",
        "sns.barplot(x=count_per_label, y=label_columns)"
      ],
      "execution_count": null,
      "outputs": [
        {
          "output_type": "execute_result",
          "data": {
            "text/plain": [
              "<matplotlib.axes._subplots.AxesSubplot at 0x7f7ff4730d68>"
            ]
          },
          "metadata": {
            "tags": []
          },
          "execution_count": 27
        },
        {
          "output_type": "display_data",
          "data": {
            "image/png": "[encoded data removed]",
            "text/plain": [
              "<Figure size 432x288 with 1 Axes>"
            ]
          },
          "metadata": {
            "tags": []
          }
        }
      ]
    },
    {
      "cell_type": "markdown",
      "metadata": {
        "id": "-6LDnmCH57wM",
        "colab_type": "text"
      },
      "source": [
        "# Classical approaches"
      ]
    },
    {
      "cell_type": "code",
      "metadata": {
        "id": "5r3EXRFH6ABJ",
        "colab_type": "code",
        "colab": {}
      },
      "source": [
        "def tokenize(text):\n",
        "    min_length = 3\n",
        "    words = map(lambda word: word.lower(), word_tokenize(text))\n",
        "    words = [word for word in words\n",
        "                  if word not in cachedStopWords]\n",
        "    tokens = (list(map(lambda token: PorterStemmer().stem(token),\n",
        "                  words)));\n",
        "    p = re.compile('[a-zA-Z]+');\n",
        "    filtered_tokens = list(filter(lambda token:\n",
        "                  p.match(token) and len(token)>=min_length,\n",
        "         tokens))\n",
        "    return filtered_tokens"
      ],
      "execution_count": null,
      "outputs": []
    },
    {
      "cell_type": "code",
      "metadata": {
        "id": "F73G5Lrl6BrL",
        "colab_type": "code",
        "colab": {}
      },
      "source": [
        "def fit_predict_classical(train_df, test_df, vectorizer):\n",
        "  X_vec_train = vectorizer.fit_transform(train_df['comment_text'].values)\n",
        "  clf = MultiOutputClassifier(LogisticRegression()).fit(X_vec_train, train_df.loc[:,['toxic','severe_toxic','obscene','threat','insult','identity_hate','clean']])\n",
        "  prediction_train = clf.predict(X_vec_train)\n",
        "  X_vec_test = vectorizer.transform(test_df['comment_text'].values)\n",
        "  prediction_test = clf.predict(X_vec_test)\n",
        "  return prediction_train, prediction_test"
      ],
      "execution_count": null,
      "outputs": []
    },
    {
      "cell_type": "markdown",
      "metadata": {
        "id": "MibYAmvuf__r",
        "colab_type": "text"
      },
      "source": [
        "## Count vectors"
      ]
    },
    {
      "cell_type": "code",
      "metadata": {
        "id": "vWUEV9Gy6n9X",
        "colab_type": "code",
        "colab": {
          "base_uri": "https://localhost:8080/",
          "height": 599
        },
        "outputId": "ffa6a5df-937d-44be-dd7a-87890721e4f3"
      },
      "source": [
        "prediction_train, prediction_test = fit_predict_classical(train_df, test_df, CountVectorizer(tokenizer=tokenize))"
      ],
      "execution_count": null,
      "outputs": [
        {
          "output_type": "stream",
          "text": [
            "/usr/local/lib/python3.6/dist-packages/sklearn/linear_model/_logistic.py:940: ConvergenceWarning: lbfgs failed to converge (status=1):\n",
            "STOP: TOTAL NO. of ITERATIONS REACHED LIMIT.\n",
            "\n",
            "Increase the number of iterations (max_iter) or scale the data as shown in:\n",
            "    https://scikit-learn.org/stable/modules/preprocessing.html\n",
            "Please also refer to the documentation for alternative solver options:\n",
            "    https://scikit-learn.org/stable/modules/linear_model.html#logistic-regression\n",
            "  extra_warning_msg=_LOGISTIC_SOLVER_CONVERGENCE_MSG)\n",
            "/usr/local/lib/python3.6/dist-packages/sklearn/linear_model/_logistic.py:940: ConvergenceWarning: lbfgs failed to converge (status=1):\n",
            "STOP: TOTAL NO. of ITERATIONS REACHED LIMIT.\n",
            "\n",
            "Increase the number of iterations (max_iter) or scale the data as shown in:\n",
            "    https://scikit-learn.org/stable/modules/preprocessing.html\n",
            "Please also refer to the documentation for alternative solver options:\n",
            "    https://scikit-learn.org/stable/modules/linear_model.html#logistic-regression\n",
            "  extra_warning_msg=_LOGISTIC_SOLVER_CONVERGENCE_MSG)\n",
            "/usr/local/lib/python3.6/dist-packages/sklearn/linear_model/_logistic.py:940: ConvergenceWarning: lbfgs failed to converge (status=1):\n",
            "STOP: TOTAL NO. of ITERATIONS REACHED LIMIT.\n",
            "\n",
            "Increase the number of iterations (max_iter) or scale the data as shown in:\n",
            "    https://scikit-learn.org/stable/modules/preprocessing.html\n",
            "Please also refer to the documentation for alternative solver options:\n",
            "    https://scikit-learn.org/stable/modules/linear_model.html#logistic-regression\n",
            "  extra_warning_msg=_LOGISTIC_SOLVER_CONVERGENCE_MSG)\n",
            "/usr/local/lib/python3.6/dist-packages/sklearn/linear_model/_logistic.py:940: ConvergenceWarning: lbfgs failed to converge (status=1):\n",
            "STOP: TOTAL NO. of ITERATIONS REACHED LIMIT.\n",
            "\n",
            "Increase the number of iterations (max_iter) or scale the data as shown in:\n",
            "    https://scikit-learn.org/stable/modules/preprocessing.html\n",
            "Please also refer to the documentation for alternative solver options:\n",
            "    https://scikit-learn.org/stable/modules/linear_model.html#logistic-regression\n",
            "  extra_warning_msg=_LOGISTIC_SOLVER_CONVERGENCE_MSG)\n"
          ],
          "name": "stderr"
        }
      ]
    },
    {
      "cell_type": "code",
      "metadata": {
        "id": "zYOSBmq062SG",
        "colab_type": "code",
        "colab": {
          "base_uri": "https://localhost:8080/",
          "height": 383
        },
        "outputId": "9d725666-01e6-494a-c81c-680994985d13"
      },
      "source": [
        "print(classification_report(train_df.loc[:,['toxic','severe_toxic','obscene','threat','insult','identity_hate','clean']], prediction_train,\\\n",
        "                            target_names=['toxic','severe_toxic','obscene','threat','insult','identity_hate','clean']))"
      ],
      "execution_count": null,
      "outputs": [
        {
          "output_type": "stream",
          "text": [
            "               precision    recall  f1-score   support\n",
            "\n",
            "        toxic       0.99      0.40      0.57      1051\n",
            " severe_toxic       0.64      0.14      0.24       111\n",
            "      obscene       0.98      0.45      0.62       591\n",
            "       threat       0.00      0.00      0.00        34\n",
            "       insult       0.89      0.31      0.46       564\n",
            "identity_hate       1.00      0.01      0.02        98\n",
            "        clean       0.94      1.00      0.97     10031\n",
            "\n",
            "    micro avg       0.94      0.87      0.90     12480\n",
            "    macro avg       0.78      0.33      0.41     12480\n",
            " weighted avg       0.94      0.87      0.88     12480\n",
            "  samples avg       0.93      0.93      0.93     12480\n",
            "\n"
          ],
          "name": "stdout"
        },
        {
          "output_type": "stream",
          "text": [
            "/usr/local/lib/python3.6/dist-packages/sklearn/metrics/_classification.py:1272: UndefinedMetricWarning: Precision and F-score are ill-defined and being set to 0.0 in labels with no predicted samples. Use `zero_division` parameter to control this behavior.\n",
            "  _warn_prf(average, modifier, msg_start, len(result))\n",
            "/usr/local/lib/python3.6/dist-packages/sklearn/metrics/_classification.py:1272: UndefinedMetricWarning: Precision and F-score are ill-defined and being set to 0.0 in samples with no predicted labels. Use `zero_division` parameter to control this behavior.\n",
            "  _warn_prf(average, modifier, msg_start, len(result))\n"
          ],
          "name": "stderr"
        }
      ]
    },
    {
      "cell_type": "code",
      "metadata": {
        "id": "fSryj9-ff07Q",
        "colab_type": "code",
        "colab": {
          "base_uri": "https://localhost:8080/",
          "height": 383
        },
        "outputId": "58c221c9-ca0c-4fb6-f0d8-0ce81c895342"
      },
      "source": [
        "print(classification_report(test_df.loc[:,['toxic','severe_toxic','obscene','threat','insult','identity_hate','clean']], prediction_test,\\\n",
        "                            target_names=['toxic','severe_toxic','obscene','threat','insult','identity_hate','clean']))"
      ],
      "execution_count": null,
      "outputs": [
        {
          "output_type": "stream",
          "text": [
            "               precision    recall  f1-score   support\n",
            "\n",
            "        toxic       0.98      0.34      0.51       455\n",
            " severe_toxic       0.56      0.10      0.18        48\n",
            "      obscene       1.00      0.38      0.55       259\n",
            "       threat       0.00      0.00      0.00        14\n",
            "       insult       0.89      0.32      0.47       236\n",
            "identity_hate       0.50      0.02      0.04        43\n",
            "        clean       0.93      1.00      0.96      4312\n",
            "\n",
            "    micro avg       0.93      0.87      0.90      5367\n",
            "    macro avg       0.69      0.31      0.39      5367\n",
            " weighted avg       0.93      0.87      0.87      5367\n",
            "  samples avg       0.93      0.92      0.93      5367\n",
            "\n"
          ],
          "name": "stdout"
        },
        {
          "output_type": "stream",
          "text": [
            "/usr/local/lib/python3.6/dist-packages/sklearn/metrics/_classification.py:1272: UndefinedMetricWarning: Precision and F-score are ill-defined and being set to 0.0 in labels with no predicted samples. Use `zero_division` parameter to control this behavior.\n",
            "  _warn_prf(average, modifier, msg_start, len(result))\n",
            "/usr/local/lib/python3.6/dist-packages/sklearn/metrics/_classification.py:1272: UndefinedMetricWarning: Precision and F-score are ill-defined and being set to 0.0 in samples with no predicted labels. Use `zero_division` parameter to control this behavior.\n",
            "  _warn_prf(average, modifier, msg_start, len(result))\n"
          ],
          "name": "stderr"
        }
      ]
    },
    {
      "cell_type": "markdown",
      "metadata": {
        "id": "Cob5Hu5hmZAk",
        "colab_type": "text"
      },
      "source": [
        "## TFIDF"
      ]
    },
    {
      "cell_type": "code",
      "metadata": {
        "id": "QIwym3TC5IST",
        "colab_type": "code",
        "colab": {}
      },
      "source": [
        "prediction_train, prediction_test = fit_predict_classical(train_df, test_df, TfidfVectorizer(tokenizer=tokenize))"
      ],
      "execution_count": null,
      "outputs": []
    },
    {
      "cell_type": "code",
      "metadata": {
        "id": "YVSrJ4dz5nxF",
        "colab_type": "code",
        "colab": {
          "base_uri": "https://localhost:8080/",
          "height": 383
        },
        "outputId": "0e7ebb9e-6037-485d-9408-c7c838c3cbe7"
      },
      "source": [
        "print(classification_report(train_df.loc[:,['toxic','severe_toxic','obscene','threat','insult','identity_hate','clean']], prediction_train,\\\n",
        "                            target_names=['toxic','severe_toxic','obscene','threat','insult','identity_hate','clean']))"
      ],
      "execution_count": null,
      "outputs": [
        {
          "output_type": "stream",
          "text": [
            "               precision    recall  f1-score   support\n",
            "\n",
            "        toxic       0.99      0.40      0.57      1051\n",
            " severe_toxic       0.64      0.14      0.24       111\n",
            "      obscene       0.98      0.45      0.62       591\n",
            "       threat       0.00      0.00      0.00        34\n",
            "       insult       0.89      0.31      0.46       564\n",
            "identity_hate       1.00      0.01      0.02        98\n",
            "        clean       0.94      1.00      0.97     10031\n",
            "\n",
            "    micro avg       0.94      0.87      0.90     12480\n",
            "    macro avg       0.78      0.33      0.41     12480\n",
            " weighted avg       0.94      0.87      0.88     12480\n",
            "  samples avg       0.93      0.93      0.93     12480\n",
            "\n"
          ],
          "name": "stdout"
        },
        {
          "output_type": "stream",
          "text": [
            "/usr/local/lib/python3.6/dist-packages/sklearn/metrics/_classification.py:1272: UndefinedMetricWarning: Precision and F-score are ill-defined and being set to 0.0 in labels with no predicted samples. Use `zero_division` parameter to control this behavior.\n",
            "  _warn_prf(average, modifier, msg_start, len(result))\n",
            "/usr/local/lib/python3.6/dist-packages/sklearn/metrics/_classification.py:1272: UndefinedMetricWarning: Precision and F-score are ill-defined and being set to 0.0 in samples with no predicted labels. Use `zero_division` parameter to control this behavior.\n",
            "  _warn_prf(average, modifier, msg_start, len(result))\n"
          ],
          "name": "stderr"
        }
      ]
    },
    {
      "cell_type": "code",
      "metadata": {
        "id": "-UkyQkmsgAVd",
        "colab_type": "code",
        "colab": {
          "base_uri": "https://localhost:8080/",
          "height": 383
        },
        "outputId": "1071ee80-e8a5-4899-a957-1660ba37aafd"
      },
      "source": [
        "print(classification_report(test_df.loc[:,['toxic','severe_toxic','obscene','threat','insult','identity_hate','clean']], prediction_test,\\\n",
        "                            target_names=['toxic','severe_toxic','obscene','threat','insult','identity_hate','clean']))"
      ],
      "execution_count": null,
      "outputs": [
        {
          "output_type": "stream",
          "text": [
            "               precision    recall  f1-score   support\n",
            "\n",
            "        toxic       0.98      0.34      0.51       455\n",
            " severe_toxic       0.56      0.10      0.18        48\n",
            "      obscene       1.00      0.38      0.55       259\n",
            "       threat       0.00      0.00      0.00        14\n",
            "       insult       0.89      0.32      0.47       236\n",
            "identity_hate       0.50      0.02      0.04        43\n",
            "        clean       0.93      1.00      0.96      4312\n",
            "\n",
            "    micro avg       0.93      0.87      0.90      5367\n",
            "    macro avg       0.69      0.31      0.39      5367\n",
            " weighted avg       0.93      0.87      0.87      5367\n",
            "  samples avg       0.93      0.92      0.93      5367\n",
            "\n"
          ],
          "name": "stdout"
        },
        {
          "output_type": "stream",
          "text": [
            "/usr/local/lib/python3.6/dist-packages/sklearn/metrics/_classification.py:1272: UndefinedMetricWarning: Precision and F-score are ill-defined and being set to 0.0 in labels with no predicted samples. Use `zero_division` parameter to control this behavior.\n",
            "  _warn_prf(average, modifier, msg_start, len(result))\n",
            "/usr/local/lib/python3.6/dist-packages/sklearn/metrics/_classification.py:1272: UndefinedMetricWarning: Precision and F-score are ill-defined and being set to 0.0 in samples with no predicted labels. Use `zero_division` parameter to control this behavior.\n",
            "  _warn_prf(average, modifier, msg_start, len(result))\n"
          ],
          "name": "stderr"
        }
      ]
    },
    {
      "cell_type": "markdown",
      "metadata": {
        "id": "7B0YIexiHEuR",
        "colab_type": "text"
      },
      "source": [
        "# Embeddings"
      ]
    },
    {
      "cell_type": "code",
      "metadata": {
        "id": "NtDl1gCnHIa8",
        "colab_type": "code",
        "colab": {
          "base_uri": "https://localhost:8080/",
          "height": 35
        },
        "outputId": "c97899b0-9099-4b64-b79c-2a276e59b619"
      },
      "source": [
        "import sys, os, re, csv, codecs, numpy as np, pandas as pd\n",
        "import matplotlib.pyplot as plt\n",
        "%matplotlib inline\n",
        "from keras.preprocessing.text import Tokenizer\n",
        "from keras.preprocessing.sequence import pad_sequences\n",
        "from keras.layers import Dense, Input, LSTM, Embedding, Dropout, Activation\n",
        "from keras.layers import Bidirectional, GlobalMaxPool1D,Bidirectional\n",
        "from keras.models import Model\n",
        "from keras import initializers, regularizers, constraints, optimizers, layers\n",
        "import matplotlib.pyplot as plt\n",
        "%matplotlib inline\n",
        "import gensim.models.keyedvectors as word2vec\n",
        "import gc"
      ],
      "execution_count": 21,
      "outputs": [
        {
          "output_type": "stream",
          "text": [
            "Using TensorFlow backend.\n"
          ],
          "name": "stderr"
        }
      ]
    },
    {
      "cell_type": "code",
      "metadata": {
        "id": "Cr22m_IuHLj4",
        "colab_type": "code",
        "colab": {}
      },
      "source": [
        "list_classes = [\"toxic\", \"severe_toxic\", \"obscene\", \"threat\", \"insult\", \"identity_hate\", 'clean']\n",
        "y = train_df[list_classes].values\n",
        "list_sentences_train = train_df[\"comment_text\"]\n",
        "list_sentences_test = test_df[\"comment_text\"]"
      ],
      "execution_count": 22,
      "outputs": []
    },
    {
      "cell_type": "code",
      "metadata": {
        "id": "MIbnEb31VBm4",
        "colab_type": "code",
        "colab": {}
      },
      "source": [
        "max_features = 20000\n",
        "tokenizer = Tokenizer(num_words=max_features)\n",
        "tokenizer.fit_on_texts(list(list_sentences_train))\n",
        "list_tokenized_train = tokenizer.texts_to_sequences(list_sentences_train)\n",
        "list_tokenized_test = tokenizer.texts_to_sequences(list_sentences_test)"
      ],
      "execution_count": 23,
      "outputs": []
    },
    {
      "cell_type": "code",
      "metadata": {
        "id": "o_XivWR-WGUS",
        "colab_type": "code",
        "colab": {}
      },
      "source": [
        "maxlen = 200\n",
        "X_train = pad_sequences(list_tokenized_train, maxlen=maxlen)\n",
        "X_test = pad_sequences(list_tokenized_test, maxlen=maxlen)"
      ],
      "execution_count": 24,
      "outputs": []
    },
    {
      "cell_type": "code",
      "metadata": {
        "id": "mIHqI37tXroF",
        "colab_type": "code",
        "colab": {}
      },
      "source": [
        "def loadEmbeddingMatrix(typeToLoad):\n",
        "        #load different embedding file from Kaggle depending on which embedding \n",
        "        #matrix we are going to experiment with\n",
        "        if(typeToLoad==\"glove\"):\n",
        "            EMBEDDING_FILE='/content/glove/glove.twitter.27B.25d.txt'\n",
        "            embed_size = 25\n",
        "        elif(typeToLoad==\"word2vec\"):\n",
        "            word2vecDict = word2vec.KeyedVectors.load_word2vec_format(\"/content/data/word2vec\", binary=True)\n",
        "            embed_size = 300\n",
        "        elif(typeToLoad==\"fasttext\"):\n",
        "            EMBEDDING_FILE='/content/wiki-news-300d-1M.vec'\n",
        "            embed_size = 300\n",
        "\n",
        "        if(typeToLoad==\"glove\" or typeToLoad==\"fasttext\" ):\n",
        "            embeddings_index = dict()\n",
        "            #Transfer the embedding weights into a dictionary by iterating through every line of the file.\n",
        "            f = open(EMBEDDING_FILE)\n",
        "            for line in f:\n",
        "                #split up line into an indexed array\n",
        "                values = line.split()\n",
        "                # we have some crashed embeddings\n",
        "                if len(values) != embed_size+1:\n",
        "                  continue\n",
        "                #first index is word\n",
        "                word = values[0]\n",
        "                #store the rest of the values in the array as a new array\n",
        "                coefs = np.asarray(values[1:], dtype='float32')\n",
        "                embeddings_index[word] = coefs \n",
        "            f.close()\n",
        "            print('Loaded %s word vectors.' % len(embeddings_index))\n",
        "        else:\n",
        "            embeddings_index = dict()\n",
        "            for word in word2vecDict.wv.vocab:\n",
        "                embeddings_index[word] = word2vecDict.word_vec(word)\n",
        "            print('Loaded %s word vectors.' % len(embeddings_index))\n",
        "            \n",
        "        gc.collect()\n",
        "        #We get the mean and standard deviation of the embedding weights so that we could maintain the \n",
        "        #same statistics for the rest of our own random generated weights. \n",
        "        all_embs = np.stack(list(embeddings_index.values()))\n",
        "        emb_mean,emb_std = all_embs.mean(), all_embs.std()\n",
        "        \n",
        "        nb_words = len(tokenizer.word_index)\n",
        "        #We are going to set the embedding size to the pretrained dimension as we are replicating it.\n",
        "        #the size will be Number of Words in Vocab X Embedding Size\n",
        "        embedding_matrix = np.random.normal(emb_mean, emb_std, (nb_words, embed_size))\n",
        "        gc.collect()\n",
        "\n",
        "        #With the newly created embedding matrix, we'll fill it up with the words that we have in both \n",
        "        #our own dictionary and loaded pretrained embedding. \n",
        "        embeddedCount = 0\n",
        "        for word, i in tokenizer.word_index.items():\n",
        "            i-=1\n",
        "            #then we see if this word is in glove's dictionary, if yes, get the corresponding weights\n",
        "            embedding_vector = embeddings_index.get(word)\n",
        "            #and store inside the embedding matrix that we will train later on.\n",
        "            if embedding_vector is not None: \n",
        "                embedding_matrix[i] = embedding_vector\n",
        "                embeddedCount+=1\n",
        "        print('total embedded:',embeddedCount,'common words')\n",
        "        \n",
        "        del(embeddings_index)\n",
        "        gc.collect()\n",
        "        \n",
        "        #finally, return the embedding matrix\n",
        "        return embedding_matrix"
      ],
      "execution_count": 25,
      "outputs": []
    },
    {
      "cell_type": "code",
      "metadata": {
        "id": "k8ta1iTFKhaO",
        "colab_type": "code",
        "colab": {}
      },
      "source": [
        "def create_network():\n",
        "  inp = Input(shape=(maxlen, )) \n",
        "  x = Embedding(len(tokenizer.word_index), embedding_matrix.shape[1],weights=[embedding_matrix],trainable=False)(inp)\n",
        "  x = Bidirectional(LSTM(60, return_sequences=True,name='lstm_layer',dropout=0.1,recurrent_dropout=0.1))(x)\n",
        "  x = GlobalMaxPool1D()(x)\n",
        "  x = Dropout(0.1)(x)\n",
        "  x = Dense(50, activation=\"relu\")(x)\n",
        "  x = Dropout(0.1)(x)\n",
        "  x = Dense(7, activation=\"sigmoid\")(x)\n",
        "  model = Model(inputs=inp, outputs=x)\n",
        "  model.compile(loss='binary_crossentropy',\n",
        "                    optimizer='adam',\n",
        "                    metrics=['accuracy'])\n",
        "  return model"
      ],
      "execution_count": 32,
      "outputs": []
    },
    {
      "cell_type": "markdown",
      "metadata": {
        "id": "N518dwPEJmu9",
        "colab_type": "text"
      },
      "source": [
        "## Fasttext"
      ]
    },
    {
      "cell_type": "code",
      "metadata": {
        "id": "QAxrhg3gJoQf",
        "colab_type": "code",
        "colab": {
          "base_uri": "https://localhost:8080/",
          "height": 54
        },
        "outputId": "c214d6e3-3889-4993-9825-aa75f92ddc16"
      },
      "source": [
        "embedding_matrix = loadEmbeddingMatrix('fasttext')"
      ],
      "execution_count": 28,
      "outputs": [
        {
          "output_type": "stream",
          "text": [
            "Loaded 999994 word vectors.\n",
            "total embedded: 29294 common words\n"
          ],
          "name": "stdout"
        }
      ]
    },
    {
      "cell_type": "code",
      "metadata": {
        "id": "Qr10w9-zKzJy",
        "colab_type": "code",
        "colab": {}
      },
      "source": [
        "nn = create_network()"
      ],
      "execution_count": 33,
      "outputs": []
    },
    {
      "cell_type": "code",
      "metadata": {
        "id": "zCo_5yV9K2pR",
        "colab_type": "code",
        "colab": {
          "base_uri": "https://localhost:8080/",
          "height": 454
        },
        "outputId": "32d1b2e0-7947-402e-bd7d-45608e15da85"
      },
      "source": [
        "nn.summary()"
      ],
      "execution_count": 34,
      "outputs": [
        {
          "output_type": "stream",
          "text": [
            "Model: \"model_2\"\n",
            "_________________________________________________________________\n",
            "Layer (type)                 Output Shape              Param #   \n",
            "=================================================================\n",
            "input_3 (InputLayer)         (None, 200)               0         \n",
            "_________________________________________________________________\n",
            "embedding_2 (Embedding)      (None, 200, 300)          12348600  \n",
            "_________________________________________________________________\n",
            "bidirectional_2 (Bidirection (None, 200, 120)          173280    \n",
            "_________________________________________________________________\n",
            "global_max_pooling1d_2 (Glob (None, 120)               0         \n",
            "_________________________________________________________________\n",
            "dropout_3 (Dropout)          (None, 120)               0         \n",
            "_________________________________________________________________\n",
            "dense_3 (Dense)              (None, 50)                6050      \n",
            "_________________________________________________________________\n",
            "dropout_4 (Dropout)          (None, 50)                0         \n",
            "_________________________________________________________________\n",
            "dense_4 (Dense)              (None, 7)                 357       \n",
            "=================================================================\n",
            "Total params: 12,528,287\n",
            "Trainable params: 179,687\n",
            "Non-trainable params: 12,348,600\n",
            "_________________________________________________________________\n"
          ],
          "name": "stdout"
        }
      ]
    },
    {
      "cell_type": "code",
      "metadata": {
        "id": "eSzTJpDZK-jC",
        "colab_type": "code",
        "colab": {
          "base_uri": "https://localhost:8080/",
          "height": 435
        },
        "outputId": "52a6a071-9014-4aec-db1c-5920feee3c26"
      },
      "source": [
        "%%time\n",
        "batch_size = 128\n",
        "epochs = 10\n",
        "hist = nn.fit(X_train,y, batch_size=batch_size, epochs=epochs, validation_split=0.1)"
      ],
      "execution_count": 36,
      "outputs": [
        {
          "output_type": "stream",
          "text": [
            "Train on 10053 samples, validate on 1117 samples\n",
            "Epoch 1/10\n",
            "10053/10053 [==============================] - 76s 8ms/step - loss: 0.2326 - accuracy: 0.9398 - val_loss: 0.1586 - val_accuracy: 0.9573\n",
            "Epoch 2/10\n",
            "10053/10053 [==============================] - 74s 7ms/step - loss: 0.1644 - accuracy: 0.9564 - val_loss: 0.1582 - val_accuracy: 0.9573\n",
            "Epoch 3/10\n",
            "10053/10053 [==============================] - 74s 7ms/step - loss: 0.1572 - accuracy: 0.9564 - val_loss: 0.1556 - val_accuracy: 0.9573\n",
            "Epoch 4/10\n",
            "10053/10053 [==============================] - 74s 7ms/step - loss: 0.1469 - accuracy: 0.9567 - val_loss: 0.1524 - val_accuracy: 0.9573\n",
            "Epoch 5/10\n",
            "10053/10053 [==============================] - 74s 7ms/step - loss: 0.1361 - accuracy: 0.9577 - val_loss: 0.1316 - val_accuracy: 0.9592\n",
            "Epoch 6/10\n",
            "10053/10053 [==============================] - 74s 7ms/step - loss: 0.1220 - accuracy: 0.9617 - val_loss: 0.1242 - val_accuracy: 0.9621\n",
            "Epoch 7/10\n",
            "10053/10053 [==============================] - 74s 7ms/step - loss: 0.1128 - accuracy: 0.9643 - val_loss: 0.1211 - val_accuracy: 0.9628\n",
            "Epoch 8/10\n",
            "10053/10053 [==============================] - 76s 8ms/step - loss: 0.1063 - accuracy: 0.9664 - val_loss: 0.1124 - val_accuracy: 0.9641\n",
            "Epoch 9/10\n",
            "10053/10053 [==============================] - 76s 8ms/step - loss: 0.1000 - accuracy: 0.9681 - val_loss: 0.1078 - val_accuracy: 0.9652\n",
            "Epoch 10/10\n",
            "10053/10053 [==============================] - 75s 7ms/step - loss: 0.0947 - accuracy: 0.9696 - val_loss: 0.1097 - val_accuracy: 0.9656\n",
            "CPU times: user 22min 21s, sys: 1min 32s, total: 23min 53s\n",
            "Wall time: 12min 29s\n"
          ],
          "name": "stdout"
        }
      ]
    },
    {
      "cell_type": "code",
      "metadata": {
        "id": "5n-9scXALYJg",
        "colab_type": "code",
        "colab": {}
      },
      "source": [
        "prediction_test = nn.predict(X_test)"
      ],
      "execution_count": 37,
      "outputs": []
    },
    {
      "cell_type": "code",
      "metadata": {
        "id": "2S3bVDjVLdym",
        "colab_type": "code",
        "colab": {}
      },
      "source": [
        "prediction_test[prediction_test >= 0.5] = 1\n",
        "prediction_test[prediction_test < 0.5] = 0"
      ],
      "execution_count": 38,
      "outputs": []
    },
    {
      "cell_type": "code",
      "metadata": {
        "id": "id_ZenMCLjtm",
        "colab_type": "code",
        "colab": {
          "base_uri": "https://localhost:8080/",
          "height": 383
        },
        "outputId": "c7ba6a53-3929-4e1b-f5f6-bdb7809d3c50"
      },
      "source": [
        "print(classification_report(test_df.loc[:,['toxic','severe_toxic','obscene','threat','insult','identity_hate','clean']], prediction_test,\\\n",
        "                            target_names=['toxic','severe_toxic','obscene','threat','insult','identity_hate','clean']))"
      ],
      "execution_count": 39,
      "outputs": [
        {
          "output_type": "stream",
          "text": [
            "               precision    recall  f1-score   support\n",
            "\n",
            "        toxic       0.91      0.28      0.43       459\n",
            " severe_toxic       0.00      0.00      0.00        48\n",
            "      obscene       0.86      0.31      0.46       254\n",
            "       threat       0.00      0.00      0.00        14\n",
            "       insult       0.80      0.29      0.43       231\n",
            "identity_hate       0.00      0.00      0.00        43\n",
            "        clean       0.93      1.00      0.96      4299\n",
            "\n",
            "    micro avg       0.92      0.85      0.89      5348\n",
            "    macro avg       0.50      0.27      0.33      5348\n",
            " weighted avg       0.90      0.85      0.85      5348\n",
            "  samples avg       0.92      0.91      0.92      5348\n",
            "\n"
          ],
          "name": "stdout"
        },
        {
          "output_type": "stream",
          "text": [
            "/usr/local/lib/python3.6/dist-packages/sklearn/metrics/_classification.py:1272: UndefinedMetricWarning: Precision and F-score are ill-defined and being set to 0.0 in labels with no predicted samples. Use `zero_division` parameter to control this behavior.\n",
            "  _warn_prf(average, modifier, msg_start, len(result))\n",
            "/usr/local/lib/python3.6/dist-packages/sklearn/metrics/_classification.py:1272: UndefinedMetricWarning: Precision and F-score are ill-defined and being set to 0.0 in samples with no predicted labels. Use `zero_division` parameter to control this behavior.\n",
            "  _warn_prf(average, modifier, msg_start, len(result))\n"
          ],
          "name": "stderr"
        }
      ]
    },
    {
      "cell_type": "markdown",
      "metadata": {
        "id": "U6FLCuv6JpFK",
        "colab_type": "text"
      },
      "source": [
        "## Glove"
      ]
    },
    {
      "cell_type": "code",
      "metadata": {
        "id": "wXmvKRzAJqS_",
        "colab_type": "code",
        "colab": {
          "base_uri": "https://localhost:8080/",
          "height": 54
        },
        "outputId": "a62a7ba8-a197-4a0f-fafe-11adeb037aa0"
      },
      "source": [
        "embedding_matrix = loadEmbeddingMatrix('glove')"
      ],
      "execution_count": 50,
      "outputs": [
        {
          "output_type": "stream",
          "text": [
            "Loaded 1193513 word vectors.\n",
            "total embedded: 27121 common words\n"
          ],
          "name": "stdout"
        }
      ]
    },
    {
      "cell_type": "code",
      "metadata": {
        "id": "MY0zsZjKLqPY",
        "colab_type": "code",
        "colab": {}
      },
      "source": [
        "nn = create_network()"
      ],
      "execution_count": 51,
      "outputs": []
    },
    {
      "cell_type": "code",
      "metadata": {
        "id": "wtYK1ofRLr5Y",
        "colab_type": "code",
        "colab": {
          "base_uri": "https://localhost:8080/",
          "height": 454
        },
        "outputId": "df9dd9c3-988c-4a0d-bd1e-7238564a301d"
      },
      "source": [
        "nn.summary()"
      ],
      "execution_count": 52,
      "outputs": [
        {
          "output_type": "stream",
          "text": [
            "Model: \"model_4\"\n",
            "_________________________________________________________________\n",
            "Layer (type)                 Output Shape              Param #   \n",
            "=================================================================\n",
            "input_5 (InputLayer)         (None, 200)               0         \n",
            "_________________________________________________________________\n",
            "embedding_4 (Embedding)      (None, 200, 25)           1029050   \n",
            "_________________________________________________________________\n",
            "bidirectional_4 (Bidirection (None, 200, 120)          41280     \n",
            "_________________________________________________________________\n",
            "global_max_pooling1d_4 (Glob (None, 120)               0         \n",
            "_________________________________________________________________\n",
            "dropout_7 (Dropout)          (None, 120)               0         \n",
            "_________________________________________________________________\n",
            "dense_7 (Dense)              (None, 50)                6050      \n",
            "_________________________________________________________________\n",
            "dropout_8 (Dropout)          (None, 50)                0         \n",
            "_________________________________________________________________\n",
            "dense_8 (Dense)              (None, 7)                 357       \n",
            "=================================================================\n",
            "Total params: 1,076,737\n",
            "Trainable params: 47,687\n",
            "Non-trainable params: 1,029,050\n",
            "_________________________________________________________________\n"
          ],
          "name": "stdout"
        }
      ]
    },
    {
      "cell_type": "code",
      "metadata": {
        "id": "UdDNyhnXOc5e",
        "colab_type": "code",
        "colab": {
          "base_uri": "https://localhost:8080/",
          "height": 435
        },
        "outputId": "fdf950e5-86f0-4b99-bf44-d00f35ee1b43"
      },
      "source": [
        "%%time\n",
        "batch_size = 128\n",
        "epochs = 10\n",
        "hist = nn.fit(X_train,y, batch_size=batch_size, epochs=epochs, validation_split=0.1)"
      ],
      "execution_count": 53,
      "outputs": [
        {
          "output_type": "stream",
          "text": [
            "Train on 10053 samples, validate on 1117 samples\n",
            "Epoch 1/10\n",
            "10053/10053 [==============================] - 39s 4ms/step - loss: 0.2427 - accuracy: 0.9259 - val_loss: 0.1576 - val_accuracy: 0.9573\n",
            "Epoch 2/10\n",
            "10053/10053 [==============================] - 38s 4ms/step - loss: 0.1641 - accuracy: 0.9564 - val_loss: 0.1568 - val_accuracy: 0.9573\n",
            "Epoch 3/10\n",
            "10053/10053 [==============================] - 38s 4ms/step - loss: 0.1603 - accuracy: 0.9564 - val_loss: 0.1568 - val_accuracy: 0.9573\n",
            "Epoch 4/10\n",
            "10053/10053 [==============================] - 38s 4ms/step - loss: 0.1576 - accuracy: 0.9564 - val_loss: 0.1552 - val_accuracy: 0.9573\n",
            "Epoch 5/10\n",
            "10053/10053 [==============================] - 38s 4ms/step - loss: 0.1526 - accuracy: 0.9564 - val_loss: 0.1519 - val_accuracy: 0.9573\n",
            "Epoch 6/10\n",
            "10053/10053 [==============================] - 38s 4ms/step - loss: 0.1467 - accuracy: 0.9565 - val_loss: 0.1441 - val_accuracy: 0.9573\n",
            "Epoch 7/10\n",
            "10053/10053 [==============================] - 38s 4ms/step - loss: 0.1411 - accuracy: 0.9565 - val_loss: 0.1399 - val_accuracy: 0.9574\n",
            "Epoch 8/10\n",
            "10053/10053 [==============================] - 38s 4ms/step - loss: 0.1366 - accuracy: 0.9573 - val_loss: 0.1374 - val_accuracy: 0.9584\n",
            "Epoch 9/10\n",
            "10053/10053 [==============================] - 38s 4ms/step - loss: 0.1297 - accuracy: 0.9590 - val_loss: 0.1293 - val_accuracy: 0.9620\n",
            "Epoch 10/10\n",
            "10053/10053 [==============================] - 38s 4ms/step - loss: 0.1260 - accuracy: 0.9614 - val_loss: 0.1290 - val_accuracy: 0.9630\n",
            "CPU times: user 11min 40s, sys: 32.3 s, total: 12min 12s\n",
            "Wall time: 6min 22s\n"
          ],
          "name": "stdout"
        }
      ]
    },
    {
      "cell_type": "code",
      "metadata": {
        "id": "eU52T90rLtHR",
        "colab_type": "code",
        "colab": {}
      },
      "source": [
        "prediction_test = nn.predict(X_test)"
      ],
      "execution_count": 57,
      "outputs": []
    },
    {
      "cell_type": "code",
      "metadata": {
        "id": "X8iv53DaLubB",
        "colab_type": "code",
        "colab": {}
      },
      "source": [
        "prediction_test[prediction_test >= 0.5] = 1\n",
        "prediction_test[prediction_test < 0.5] = 0"
      ],
      "execution_count": 58,
      "outputs": []
    },
    {
      "cell_type": "code",
      "metadata": {
        "id": "Atfb7md9LvX4",
        "colab_type": "code",
        "colab": {
          "base_uri": "https://localhost:8080/",
          "height": 383
        },
        "outputId": "b6e5e790-7911-4294-b699-0a584d3d2bb8"
      },
      "source": [
        "print(classification_report(test_df.loc[:,['toxic','severe_toxic','obscene','threat','insult','identity_hate','clean']], prediction_test,\\\n",
        "                            target_names=['toxic','severe_toxic','obscene','threat','insult','identity_hate','clean']))"
      ],
      "execution_count": 59,
      "outputs": [
        {
          "output_type": "stream",
          "text": [
            "               precision    recall  f1-score   support\n",
            "\n",
            "        toxic       0.90      0.14      0.24       459\n",
            " severe_toxic       0.00      0.00      0.00        48\n",
            "      obscene       0.80      0.19      0.31       254\n",
            "       threat       0.00      0.00      0.00        14\n",
            "       insult       0.81      0.15      0.26       231\n",
            "identity_hate       0.00      0.00      0.00        43\n",
            "        clean       0.91      1.00      0.95      4299\n",
            "\n",
            "    micro avg       0.91      0.83      0.87      5348\n",
            "    macro avg       0.49      0.21      0.25      5348\n",
            " weighted avg       0.88      0.83      0.81      5348\n",
            "  samples avg       0.91      0.91      0.91      5348\n",
            "\n"
          ],
          "name": "stdout"
        },
        {
          "output_type": "stream",
          "text": [
            "/usr/local/lib/python3.6/dist-packages/sklearn/metrics/_classification.py:1272: UndefinedMetricWarning: Precision and F-score are ill-defined and being set to 0.0 in labels with no predicted samples. Use `zero_division` parameter to control this behavior.\n",
            "  _warn_prf(average, modifier, msg_start, len(result))\n",
            "/usr/local/lib/python3.6/dist-packages/sklearn/metrics/_classification.py:1272: UndefinedMetricWarning: Precision and F-score are ill-defined and being set to 0.0 in samples with no predicted labels. Use `zero_division` parameter to control this behavior.\n",
            "  _warn_prf(average, modifier, msg_start, len(result))\n"
          ],
          "name": "stderr"
        }
      ]
    },
    {
      "cell_type": "markdown",
      "metadata": {
        "id": "PXUNGVG-Jriy",
        "colab_type": "text"
      },
      "source": [
        "## Word2vec"
      ]
    },
    {
      "cell_type": "code",
      "metadata": {
        "id": "yAxb_YutK7V5",
        "colab_type": "code",
        "colab": {}
      },
      "source": [
        "embedding_matrix = loadEmbeddingMatrix('word2vec')"
      ],
      "execution_count": null,
      "outputs": []
    },
    {
      "cell_type": "markdown",
      "metadata": {
        "id": "-62H0h4kJtG3",
        "colab_type": "text"
      },
      "source": [
        "Unfortunately, there is not enough memory for preptrained google embeddings. Do I have to find another set?"
      ]
    },
    {
      "cell_type": "markdown",
      "metadata": {
        "id": "vIc9RZgraRd_",
        "colab_type": "text"
      },
      "source": [
        "# Doc2Vec"
      ]
    },
    {
      "cell_type": "code",
      "metadata": {
        "id": "CSP1rPaRbR-J",
        "colab_type": "code",
        "colab": {}
      },
      "source": [
        "train_tagged = train_df.apply(\n",
        "    lambda x: TaggedDocument(words=tokenize(x['comment_text']),tags=[x.name]), axis=1)\n",
        "test_tagged = test_df.apply(\n",
        "    lambda x: TaggedDocument(words=tokenize(x['comment_text']),tags=[x.name]), axis=1)"
      ],
      "execution_count": 68,
      "outputs": []
    },
    {
      "cell_type": "code",
      "metadata": {
        "id": "Hj991FHBAPa9",
        "colab_type": "code",
        "colab": {}
      },
      "source": [
        "import multiprocessing\n",
        "cores = multiprocessing.cpu_count()"
      ],
      "execution_count": 69,
      "outputs": []
    },
    {
      "cell_type": "code",
      "metadata": {
        "id": "SCFqMMF8AQeA",
        "colab_type": "code",
        "colab": {
          "base_uri": "https://localhost:8080/",
          "height": 35
        },
        "outputId": "1e8861fa-831f-4cac-9e6e-a39c90aeaf87"
      },
      "source": [
        "model_dbow = Doc2Vec(dm=0, vector_size=300, negative=5, hs=0, min_count=2, sample = 0, workers=cores)\n",
        "model_dbow.build_vocab([x for x in tqdm(train_tagged.values)])"
      ],
      "execution_count": 70,
      "outputs": [
        {
          "output_type": "stream",
          "text": [
            "100%|██████████| 11170/11170 [00:00<00:00, 1245921.22it/s]\n"
          ],
          "name": "stderr"
        }
      ]
    },
    {
      "cell_type": "code",
      "metadata": {
        "id": "PK4R78YRAnVh",
        "colab_type": "code",
        "colab": {
          "base_uri": "https://localhost:8080/",
          "height": 599
        },
        "outputId": "6bd8c0fd-60f0-4967-a741-f01739574d16"
      },
      "source": [
        "%%time\n",
        "for epoch in range(30):\n",
        "    model_dbow.train(utils.shuffle([x for x in tqdm(train_tagged.values)]), total_examples=len(train_tagged.values), epochs=1)\n",
        "    model_dbow.alpha -= 0.002\n",
        "    model_dbow.min_alpha = model_dbow.alpha"
      ],
      "execution_count": 71,
      "outputs": [
        {
          "output_type": "stream",
          "text": [
            "100%|██████████| 11170/11170 [00:00<00:00, 1360663.79it/s]\n",
            "100%|██████████| 11170/11170 [00:00<00:00, 2093497.28it/s]\n",
            "100%|██████████| 11170/11170 [00:00<00:00, 2136847.24it/s]\n",
            "100%|██████████| 11170/11170 [00:00<00:00, 1684477.61it/s]\n",
            "100%|██████████| 11170/11170 [00:00<00:00, 2034496.08it/s]\n",
            "100%|██████████| 11170/11170 [00:00<00:00, 1317724.47it/s]\n",
            "100%|██████████| 11170/11170 [00:00<00:00, 1681937.74it/s]\n",
            "100%|██████████| 11170/11170 [00:00<00:00, 1627370.72it/s]\n",
            "100%|██████████| 11170/11170 [00:00<00:00, 1669649.88it/s]\n",
            "100%|██████████| 11170/11170 [00:00<00:00, 1561002.75it/s]\n",
            "100%|██████████| 11170/11170 [00:00<00:00, 1571369.30it/s]\n",
            "100%|██████████| 11170/11170 [00:00<00:00, 1736871.64it/s]\n",
            "100%|██████████| 11170/11170 [00:00<00:00, 1846101.97it/s]\n",
            "100%|██████████| 11170/11170 [00:00<00:00, 1767538.51it/s]\n",
            "100%|██████████| 11170/11170 [00:00<00:00, 1572213.02it/s]\n",
            "100%|██████████| 11170/11170 [00:00<00:00, 2002837.54it/s]\n",
            "100%|██████████| 11170/11170 [00:00<00:00, 1262337.01it/s]\n",
            "100%|██████████| 11170/11170 [00:00<00:00, 1646877.66it/s]\n",
            "100%|██████████| 11170/11170 [00:00<00:00, 1506588.28it/s]\n",
            "100%|██████████| 11170/11170 [00:00<00:00, 2232352.20it/s]\n",
            "100%|██████████| 11170/11170 [00:00<00:00, 2162291.77it/s]\n",
            "100%|██████████| 11170/11170 [00:00<00:00, 1679285.12it/s]\n",
            "100%|██████████| 11170/11170 [00:00<00:00, 1680550.10it/s]\n",
            "100%|██████████| 11170/11170 [00:00<00:00, 1672272.12it/s]\n",
            "100%|██████████| 11170/11170 [00:00<00:00, 2186103.11it/s]\n",
            "100%|██████████| 11170/11170 [00:00<00:00, 2233309.93it/s]\n",
            "100%|██████████| 11170/11170 [00:00<00:00, 1671138.78it/s]\n",
            "100%|██████████| 11170/11170 [00:00<00:00, 1628558.67it/s]\n",
            "100%|██████████| 11170/11170 [00:00<00:00, 1362761.44it/s]\n",
            "100%|██████████| 11170/11170 [00:00<00:00, 2288957.19it/s]\n"
          ],
          "name": "stderr"
        },
        {
          "output_type": "stream",
          "text": [
            "CPU times: user 49.5 s, sys: 2.76 s, total: 52.3 s\n",
            "Wall time: 30.5 s\n"
          ],
          "name": "stdout"
        }
      ]
    },
    {
      "cell_type": "code",
      "metadata": {
        "id": "s0vM9HVuA7S4",
        "colab_type": "code",
        "colab": {}
      },
      "source": [
        "def vec_for_learning(model, tagged_docs,df):\n",
        "    sents = tagged_docs.values\n",
        "    targets, regressors = zip(*[(df.loc[doc.tags[0],label_columns].values, model.infer_vector(doc.words, steps=20)) for doc in sents])\n",
        "    return targets, regressors"
      ],
      "execution_count": 72,
      "outputs": []
    },
    {
      "cell_type": "code",
      "metadata": {
        "id": "ak7LYdZ_A_Bo",
        "colab_type": "code",
        "colab": {}
      },
      "source": [
        "y_train, X_train = vec_for_learning(model_dbow, train_tagged, train_df)\n",
        "y_test, X_test = vec_for_learning(model_dbow, test_tagged, test_df)\n",
        "y_train=np.asarray(y_train,dtype=int)\n",
        "y_test=np.asarray(y_test,dtype=int)"
      ],
      "execution_count": 73,
      "outputs": []
    },
    {
      "cell_type": "code",
      "metadata": {
        "id": "Fzav7HSY6Zht",
        "colab_type": "code",
        "colab": {}
      },
      "source": [
        "clf = MultiOutputClassifier(LogisticRegression()).fit(X_train, y_train)\n",
        "prediction_train = clf.predict(X_train)\n",
        "prediction_test = clf.predict(X_test)"
      ],
      "execution_count": 75,
      "outputs": []
    },
    {
      "cell_type": "code",
      "metadata": {
        "id": "uN0B4fIo8HXB",
        "colab_type": "code",
        "colab": {
          "base_uri": "https://localhost:8080/",
          "height": 383
        },
        "outputId": "a9c67e1c-1a58-424c-e8b6-026dade340eb"
      },
      "source": [
        "print(classification_report(y_train, prediction_train,\\\n",
        "                            target_names=['toxic','severe_toxic','obscene','threat','insult','identity_hate','clean']))"
      ],
      "execution_count": 76,
      "outputs": [
        {
          "output_type": "stream",
          "text": [
            "               precision    recall  f1-score   support\n",
            "\n",
            "        toxic       0.75      0.01      0.01      1086\n",
            " severe_toxic       1.00      0.01      0.02       111\n",
            "      obscene       0.67      0.01      0.01       586\n",
            "       threat       0.00      0.00      0.00        34\n",
            "       insult       0.50      0.00      0.01       556\n",
            "identity_hate       1.00      0.01      0.02        98\n",
            "        clean       0.90      1.00      0.95     10039\n",
            "\n",
            "    micro avg       0.90      0.80      0.85     12510\n",
            "    macro avg       0.69      0.15      0.15     12510\n",
            " weighted avg       0.86      0.80      0.76     12510\n",
            "  samples avg       0.90      0.90      0.90     12510\n",
            "\n"
          ],
          "name": "stdout"
        },
        {
          "output_type": "stream",
          "text": [
            "/usr/local/lib/python3.6/dist-packages/sklearn/metrics/_classification.py:1272: UndefinedMetricWarning: Precision and F-score are ill-defined and being set to 0.0 in labels with no predicted samples. Use `zero_division` parameter to control this behavior.\n",
            "  _warn_prf(average, modifier, msg_start, len(result))\n",
            "/usr/local/lib/python3.6/dist-packages/sklearn/metrics/_classification.py:1272: UndefinedMetricWarning: Precision and F-score are ill-defined and being set to 0.0 in samples with no predicted labels. Use `zero_division` parameter to control this behavior.\n",
            "  _warn_prf(average, modifier, msg_start, len(result))\n"
          ],
          "name": "stderr"
        }
      ]
    },
    {
      "cell_type": "code",
      "metadata": {
        "id": "QQjOu6vH9sb4",
        "colab_type": "code",
        "colab": {
          "base_uri": "https://localhost:8080/",
          "height": 346
        },
        "outputId": "5660d0f7-dab7-4fa3-ef1a-32d34c76d8ef"
      },
      "source": [
        "print(classification_report(y_test, prediction_test,\\\n",
        "                            target_names=['toxic','severe_toxic','obscene','threat','insult','identity_hate','clean']))"
      ],
      "execution_count": 77,
      "outputs": [
        {
          "output_type": "stream",
          "text": [
            "               precision    recall  f1-score   support\n",
            "\n",
            "        toxic       0.83      0.01      0.02       457\n",
            " severe_toxic       0.00      0.00      0.00        48\n",
            "      obscene       1.00      0.01      0.02       241\n",
            "       threat       0.00      0.00      0.00        14\n",
            "       insult       0.00      0.00      0.00       233\n",
            "identity_hate       0.00      0.00      0.00        43\n",
            "        clean       0.90      1.00      0.95      4296\n",
            "\n",
            "    micro avg       0.90      0.81      0.85      5332\n",
            "    macro avg       0.39      0.15      0.14      5332\n",
            " weighted avg       0.84      0.81      0.76      5332\n",
            "  samples avg       0.90      0.90      0.90      5332\n",
            "\n"
          ],
          "name": "stdout"
        },
        {
          "output_type": "stream",
          "text": [
            "/usr/local/lib/python3.6/dist-packages/sklearn/metrics/_classification.py:1272: UndefinedMetricWarning: Precision and F-score are ill-defined and being set to 0.0 in labels with no predicted samples. Use `zero_division` parameter to control this behavior.\n",
            "  _warn_prf(average, modifier, msg_start, len(result))\n"
          ],
          "name": "stderr"
        }
      ]
    },
    {
      "cell_type": "markdown",
      "metadata": {
        "id": "-U9cHAKqPXfe",
        "colab_type": "text"
      },
      "source": [
        "# BERT"
      ]
    },
    {
      "cell_type": "markdown",
      "metadata": {
        "id": "Kg6K5n7CPYjA",
        "colab_type": "text"
      },
      "source": [
        "Will be done later"
      ]
    },
    {
      "cell_type": "markdown",
      "metadata": {
        "id": "jJY6TlPehwe2",
        "colab_type": "text"
      },
      "source": [
        "# Points for the discussion"
      ]
    },
    {
      "cell_type": "markdown",
      "metadata": {
        "id": "Qdc7jUOjhz5Q",
        "colab_type": "text"
      },
      "source": [
        "\n",
        "\n",
        "1.   Which f-score is more preferable and why?\n",
        "2.   Discuss details of bidirectional LSTM layer\n",
        "3.   How we can choose maxlen properly? We have encountered a plenty of hyperparams, how can they be chosen?\n",
        "4.   Batch size influences on quality, doesn't it? What about calculation speed?\n",
        "\n"
      ]
    }
  ]
}